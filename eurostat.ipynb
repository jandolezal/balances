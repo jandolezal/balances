{
 "metadata": {
  "language_info": {
   "codemirror_mode": {
    "name": "ipython",
    "version": 3
   },
   "file_extension": ".py",
   "mimetype": "text/x-python",
   "name": "python",
   "nbconvert_exporter": "python",
   "pygments_lexer": "ipython3",
   "version": "3.7.0-final"
  },
  "orig_nbformat": 2,
  "kernelspec": {
   "name": "python_defaultSpec_1602004551941",
   "display_name": "Python 3.7.0 64-bit ('venv')"
  }
 },
 "nbformat": 4,
 "nbformat_minor": 2,
 "cells": [
  {
   "source": [
    "# Eurostat energy balance 2018"
   ],
   "cell_type": "markdown",
   "metadata": {}
  },
  {
   "cell_type": "code",
   "execution_count": 16,
   "metadata": {
    "tags": []
   },
   "outputs": [],
   "source": [
    "def read_archive(file, var, var_key, col_start, col_end):\n",
    "    d = {}\n",
    "\n",
    "    countries = ('CZ', 'AT', 'DK', 'NL', 'PL', 'SK')\n",
    "\n",
    "    with zipfile.ZipFile(file, 'r') as f:\n",
    "        for name in f.namelist():\n",
    "            if name.startswith(countries):\n",
    "                country = name[:2]\n",
    "                file = f.read(name)\n",
    "                data = get_values(file, country, var, var_key, col_start, col_end)\n",
    "                d.update(data)\n",
    "    return d"
   ]
  },
  {
   "cell_type": "code",
   "execution_count": 1,
   "metadata": {},
   "outputs": [],
   "source": [
    "import pandas as pd\n",
    "import os\n",
    "import pyxlsb\n",
    "import numpy as np\n",
    "from scipy.stats import linregress\n",
    "import zipfile\n",
    "import requests"
   ]
  },
  {
   "cell_type": "code",
   "execution_count": 2,
   "metadata": {},
   "outputs": [],
   "source": [
    "def get_values(file, country, variable, fuel, col_start, col_end):\n",
    "    \"\"\"Reads fuel variable in multiple sheets 2002-2018.\n",
    "    Sums the values across multiple columns if relevant.\n",
    "    Returns: dict\n",
    "    \"\"\"\n",
    "    trajectory = {}\n",
    "    for year in range(2002,2019):\n",
    "        df = pd.read_excel(\n",
    "            file,\n",
    "            engine='pyxlsb',\n",
    "            sheet_name=str(year),\n",
    "            skiprows=[0,1,2,3],\n",
    "            index_col=1\n",
    "            )\n",
    "        try:\n",
    "            trajectory[(country, year, fuel)] = df.loc[variable, col_start:col_end].sum()\n",
    "        except TypeError:\n",
    "            trajectory[(country, year, fuel)] = pd.to_numeric(df.loc[variable, col_start:col_end], errors='coerce').sum()\n",
    "    return trajectory\n"
   ]
  },
  {
   "cell_type": "code",
   "execution_count": 3,
   "metadata": {},
   "outputs": [],
   "source": [
    "tj_ktoe = 41.868"
   ]
  },
  {
   "cell_type": "code",
   "execution_count": 4,
   "metadata": {},
   "outputs": [],
   "source": [
    "url = 'https://ec.europa.eu/eurostat/documents/38154/4956218/Energy-Balances-April-2020-edition.zip/69da6e9f-bf8f-cd8e-f4ad-50b52f8ce616'\n",
    "\n",
    "r = requests.get(url)\n",
    "with open('eurostat_balances_2020.zip', 'wb') as f:\n",
    "    f.write(r.content)"
   ]
  },
  {
   "cell_type": "code",
   "execution_count": 3,
   "metadata": {},
   "outputs": [],
   "source": [
    "# The zipfile reader is pretty slow or I do something wrong\n",
    "def read_archive(file, var, fuel_key, col_start, col_end):\n",
    "    d = {}\n",
    "\n",
    "    countries = ('CZ', 'AT', 'DK', 'NL', 'PL', 'SK')\n",
    "\n",
    "    with zipfile.ZipFile(file, 'r') as myzip:\n",
    "        for name in myzip.namelist():\n",
    "            if name.startswith(countries):\n",
    "                with myzip.open(name) as myfile:\n",
    "                    country = name[:2]\n",
    "                    data = get_values(myfile.read(), country, var, fuel_key, col_start, col_end)\n",
    "                    d.update(data)\n",
    "    return d"
   ]
  },
  {
   "cell_type": "code",
   "execution_count": 4,
   "metadata": {
    "tags": []
   },
   "outputs": [
    {
     "output_type": "execute_result",
     "data": {
      "text/plain": "                            primary_production    imports   exports  \\\ncountry year fuel                                                     \nAT      2002 total                    9831.767  24645.177  3538.177   \n        2003 total                    9483.763  27068.006  3881.256   \n        2004 total                    9842.878  28084.148  4434.439   \n        2005 total                    9888.261  29620.112  4932.991   \n        2006 total                   10326.256  30536.606  5451.498   \n...                                        ...        ...       ...   \nSK      2014 ren_mun_waste              11.584      0.000     0.000   \n        2015 ren_mun_waste              14.928      0.000     0.000   \n        2016 ren_mun_waste              19.466      0.000     0.000   \n        2017 ren_mun_waste              28.518      0.000     0.000   \n        2018 ren_mun_waste              15.023      0.000     0.000   \n\n                            gross_inland_consumption  \ncountry year fuel                                     \nAT      2002 total                         31002.109  \n        2003 total                         32638.250  \n        2004 total                         33249.096  \n        2005 total                         34376.159  \n        2006 total                         34687.504  \n...                                              ...  \nSK      2014 ren_mun_waste                    11.584  \n        2015 ren_mun_waste                    14.928  \n        2016 ren_mun_waste                    19.466  \n        2017 ren_mun_waste                    28.518  \n        2018 ren_mun_waste                    15.023  \n\n[714 rows x 4 columns]",
      "text/html": "<div>\n<style scoped>\n    .dataframe tbody tr th:only-of-type {\n        vertical-align: middle;\n    }\n\n    .dataframe tbody tr th {\n        vertical-align: top;\n    }\n\n    .dataframe thead th {\n        text-align: right;\n    }\n</style>\n<table border=\"1\" class=\"dataframe\">\n  <thead>\n    <tr style=\"text-align: right;\">\n      <th></th>\n      <th></th>\n      <th></th>\n      <th>primary_production</th>\n      <th>imports</th>\n      <th>exports</th>\n      <th>gross_inland_consumption</th>\n    </tr>\n    <tr>\n      <th>country</th>\n      <th>year</th>\n      <th>fuel</th>\n      <th></th>\n      <th></th>\n      <th></th>\n      <th></th>\n    </tr>\n  </thead>\n  <tbody>\n    <tr>\n      <th rowspan=\"5\" valign=\"top\">AT</th>\n      <th>2002</th>\n      <th>total</th>\n      <td>9831.767</td>\n      <td>24645.177</td>\n      <td>3538.177</td>\n      <td>31002.109</td>\n    </tr>\n    <tr>\n      <th>2003</th>\n      <th>total</th>\n      <td>9483.763</td>\n      <td>27068.006</td>\n      <td>3881.256</td>\n      <td>32638.250</td>\n    </tr>\n    <tr>\n      <th>2004</th>\n      <th>total</th>\n      <td>9842.878</td>\n      <td>28084.148</td>\n      <td>4434.439</td>\n      <td>33249.096</td>\n    </tr>\n    <tr>\n      <th>2005</th>\n      <th>total</th>\n      <td>9888.261</td>\n      <td>29620.112</td>\n      <td>4932.991</td>\n      <td>34376.159</td>\n    </tr>\n    <tr>\n      <th>2006</th>\n      <th>total</th>\n      <td>10326.256</td>\n      <td>30536.606</td>\n      <td>5451.498</td>\n      <td>34687.504</td>\n    </tr>\n    <tr>\n      <th>...</th>\n      <th>...</th>\n      <th>...</th>\n      <td>...</td>\n      <td>...</td>\n      <td>...</td>\n      <td>...</td>\n    </tr>\n    <tr>\n      <th rowspan=\"5\" valign=\"top\">SK</th>\n      <th>2014</th>\n      <th>ren_mun_waste</th>\n      <td>11.584</td>\n      <td>0.000</td>\n      <td>0.000</td>\n      <td>11.584</td>\n    </tr>\n    <tr>\n      <th>2015</th>\n      <th>ren_mun_waste</th>\n      <td>14.928</td>\n      <td>0.000</td>\n      <td>0.000</td>\n      <td>14.928</td>\n    </tr>\n    <tr>\n      <th>2016</th>\n      <th>ren_mun_waste</th>\n      <td>19.466</td>\n      <td>0.000</td>\n      <td>0.000</td>\n      <td>19.466</td>\n    </tr>\n    <tr>\n      <th>2017</th>\n      <th>ren_mun_waste</th>\n      <td>28.518</td>\n      <td>0.000</td>\n      <td>0.000</td>\n      <td>28.518</td>\n    </tr>\n    <tr>\n      <th>2018</th>\n      <th>ren_mun_waste</th>\n      <td>15.023</td>\n      <td>0.000</td>\n      <td>0.000</td>\n      <td>15.023</td>\n    </tr>\n  </tbody>\n</table>\n<p>714 rows × 4 columns</p>\n</div>"
     },
     "metadata": {},
     "execution_count": 4
    }
   ],
   "source": [
    "# All variables of interest\n",
    "all_data = {}\n",
    "\n",
    "variables = [\n",
    "    'Primary production',\n",
    "    'Imports',\n",
    "    'Exports',\n",
    "    'Gross inland consumption',\n",
    "    ]\n",
    "\n",
    "fuel_tuples = [\n",
    "    ('total','Total', 'Total',),\n",
    "    ('renewables', 'Renewables and biofuels', 'Renewables and biofuels'),\n",
    "    ('bioenergy', 'Bioenergy', 'Bioenergy',),\n",
    "    ('solid_biomass', 'Primary solid biofuels', 'Primary solid biofuels'),\n",
    "    ('biofuels', 'Pure biogasoline', 'Other liquid biofuels'),\n",
    "    ('biogas', 'Biogases', 'Biogases'),\n",
    "    ('ren_mun_waste', 'Renewable municipal waste', 'Renewable municipal waste'),\n",
    "    ]\n",
    "\n",
    "for variable in variables:\n",
    "    for fuel_key, start, end in fuel_tuples:\n",
    "        data = read_archive('eurostat_balances_2020.zip', variable, fuel_key, start, end)\n",
    "        all_data.setdefault(variable.lower().replace(' ','_'), {}).update(data)\n",
    "\n",
    "df = pd.DataFrame(all_data)\n",
    "df.index.names = ['country', 'year', 'fuel']\n",
    "df"
   ]
  },
  {
   "cell_type": "code",
   "execution_count": 5,
   "metadata": {},
   "outputs": [],
   "source": [
    "df.to_csv(\n",
    "    'bioenergy_2002_2018.csv',\n",
    "    decimal=',',\n",
    "    )"
   ]
  },
  {
   "cell_type": "code",
   "execution_count": 6,
   "metadata": {},
   "outputs": [],
   "source": [
    "df2 = df.copy()"
   ]
  },
  {
   "cell_type": "code",
   "execution_count": 8,
   "metadata": {},
   "outputs": [],
   "source": [
    "df2['dependency'] = (df2['imports'] - df2['exports']) / df2['gross_inland_consumption']"
   ]
  },
  {
   "cell_type": "code",
   "execution_count": 9,
   "metadata": {},
   "outputs": [
    {
     "output_type": "execute_result",
     "data": {
      "text/plain": "                            primary_production    imports   exports  \\\ncountry year fuel                                                     \nAT      2002 total                    9831.767  24645.177  3538.177   \n        2003 total                    9483.763  27068.006  3881.256   \n        2004 total                    9842.878  28084.148  4434.439   \n        2005 total                    9888.261  29620.112  4932.991   \n        2006 total                   10326.256  30536.606  5451.498   \n...                                        ...        ...       ...   \nSK      2014 ren_mun_waste              11.584      0.000     0.000   \n        2015 ren_mun_waste              14.928      0.000     0.000   \n        2016 ren_mun_waste              19.466      0.000     0.000   \n        2017 ren_mun_waste              28.518      0.000     0.000   \n        2018 ren_mun_waste              15.023      0.000     0.000   \n\n                            gross_inland_consumption  dependency  \ncountry year fuel                                                 \nAT      2002 total                         31002.109    0.680825  \n        2003 total                         32638.250    0.710416  \n        2004 total                         33249.096    0.711289  \n        2005 total                         34376.159    0.718147  \n        2006 total                         34687.504    0.723174  \n...                                              ...         ...  \nSK      2014 ren_mun_waste                    11.584    0.000000  \n        2015 ren_mun_waste                    14.928    0.000000  \n        2016 ren_mun_waste                    19.466    0.000000  \n        2017 ren_mun_waste                    28.518    0.000000  \n        2018 ren_mun_waste                    15.023    0.000000  \n\n[714 rows x 5 columns]",
      "text/html": "<div>\n<style scoped>\n    .dataframe tbody tr th:only-of-type {\n        vertical-align: middle;\n    }\n\n    .dataframe tbody tr th {\n        vertical-align: top;\n    }\n\n    .dataframe thead th {\n        text-align: right;\n    }\n</style>\n<table border=\"1\" class=\"dataframe\">\n  <thead>\n    <tr style=\"text-align: right;\">\n      <th></th>\n      <th></th>\n      <th></th>\n      <th>primary_production</th>\n      <th>imports</th>\n      <th>exports</th>\n      <th>gross_inland_consumption</th>\n      <th>dependency</th>\n    </tr>\n    <tr>\n      <th>country</th>\n      <th>year</th>\n      <th>fuel</th>\n      <th></th>\n      <th></th>\n      <th></th>\n      <th></th>\n      <th></th>\n    </tr>\n  </thead>\n  <tbody>\n    <tr>\n      <th rowspan=\"5\" valign=\"top\">AT</th>\n      <th>2002</th>\n      <th>total</th>\n      <td>9831.767</td>\n      <td>24645.177</td>\n      <td>3538.177</td>\n      <td>31002.109</td>\n      <td>0.680825</td>\n    </tr>\n    <tr>\n      <th>2003</th>\n      <th>total</th>\n      <td>9483.763</td>\n      <td>27068.006</td>\n      <td>3881.256</td>\n      <td>32638.250</td>\n      <td>0.710416</td>\n    </tr>\n    <tr>\n      <th>2004</th>\n      <th>total</th>\n      <td>9842.878</td>\n      <td>28084.148</td>\n      <td>4434.439</td>\n      <td>33249.096</td>\n      <td>0.711289</td>\n    </tr>\n    <tr>\n      <th>2005</th>\n      <th>total</th>\n      <td>9888.261</td>\n      <td>29620.112</td>\n      <td>4932.991</td>\n      <td>34376.159</td>\n      <td>0.718147</td>\n    </tr>\n    <tr>\n      <th>2006</th>\n      <th>total</th>\n      <td>10326.256</td>\n      <td>30536.606</td>\n      <td>5451.498</td>\n      <td>34687.504</td>\n      <td>0.723174</td>\n    </tr>\n    <tr>\n      <th>...</th>\n      <th>...</th>\n      <th>...</th>\n      <td>...</td>\n      <td>...</td>\n      <td>...</td>\n      <td>...</td>\n      <td>...</td>\n    </tr>\n    <tr>\n      <th rowspan=\"5\" valign=\"top\">SK</th>\n      <th>2014</th>\n      <th>ren_mun_waste</th>\n      <td>11.584</td>\n      <td>0.000</td>\n      <td>0.000</td>\n      <td>11.584</td>\n      <td>0.000000</td>\n    </tr>\n    <tr>\n      <th>2015</th>\n      <th>ren_mun_waste</th>\n      <td>14.928</td>\n      <td>0.000</td>\n      <td>0.000</td>\n      <td>14.928</td>\n      <td>0.000000</td>\n    </tr>\n    <tr>\n      <th>2016</th>\n      <th>ren_mun_waste</th>\n      <td>19.466</td>\n      <td>0.000</td>\n      <td>0.000</td>\n      <td>19.466</td>\n      <td>0.000000</td>\n    </tr>\n    <tr>\n      <th>2017</th>\n      <th>ren_mun_waste</th>\n      <td>28.518</td>\n      <td>0.000</td>\n      <td>0.000</td>\n      <td>28.518</td>\n      <td>0.000000</td>\n    </tr>\n    <tr>\n      <th>2018</th>\n      <th>ren_mun_waste</th>\n      <td>15.023</td>\n      <td>0.000</td>\n      <td>0.000</td>\n      <td>15.023</td>\n      <td>0.000000</td>\n    </tr>\n  </tbody>\n</table>\n<p>714 rows × 5 columns</p>\n</div>"
     },
     "metadata": {},
     "execution_count": 9
    }
   ],
   "source": [
    "df2"
   ]
  },
  {
   "cell_type": "code",
   "execution_count": 11,
   "metadata": {},
   "outputs": [],
   "source": [
    "df2.sort_index(ascending=True, inplace=True)"
   ]
  },
  {
   "cell_type": "code",
   "execution_count": 12,
   "metadata": {},
   "outputs": [
    {
     "output_type": "execute_result",
     "data": {
      "text/plain": "                            primary_production    imports   exports  \\\ncountry year fuel                                                     \nAT      2002 bioenergy                2920.414    196.600   203.428   \n             biofuels                   20.347      0.000     0.000   \n             biogas                     21.950      0.000     0.000   \n             ren_mun_waste              47.053      0.000     0.000   \n             renewables               6490.482    164.493   172.781   \n...                                        ...        ...       ...   \nSK      2018 biogas                    148.753      0.000     0.000   \n             ren_mun_waste              15.023      0.000     0.000   \n             renewables               1613.427    113.184   138.882   \n             solid_biomass             907.591      3.224    11.799   \n             total                    5999.917  15357.451  4502.986   \n\n                            gross_inland_consumption  dependency  \ncountry year fuel                                                 \nAT      2002 bioenergy                      2913.585   -0.002344  \n             biofuels                         20.347    0.000000  \n             biogas                           21.950    0.000000  \n             ren_mun_waste                    47.053    0.000000  \n             renewables                     6482.194   -0.001279  \n...                                              ...         ...  \nSK      2018 biogas                          148.753    0.000000  \n             ren_mun_waste                    15.023    0.000000  \n             renewables                     1581.295   -0.016251  \n             solid_biomass                   889.223   -0.009643  \n             total                         17045.596    0.636790  \n\n[714 rows x 5 columns]",
      "text/html": "<div>\n<style scoped>\n    .dataframe tbody tr th:only-of-type {\n        vertical-align: middle;\n    }\n\n    .dataframe tbody tr th {\n        vertical-align: top;\n    }\n\n    .dataframe thead th {\n        text-align: right;\n    }\n</style>\n<table border=\"1\" class=\"dataframe\">\n  <thead>\n    <tr style=\"text-align: right;\">\n      <th></th>\n      <th></th>\n      <th></th>\n      <th>primary_production</th>\n      <th>imports</th>\n      <th>exports</th>\n      <th>gross_inland_consumption</th>\n      <th>dependency</th>\n    </tr>\n    <tr>\n      <th>country</th>\n      <th>year</th>\n      <th>fuel</th>\n      <th></th>\n      <th></th>\n      <th></th>\n      <th></th>\n      <th></th>\n    </tr>\n  </thead>\n  <tbody>\n    <tr>\n      <th rowspan=\"5\" valign=\"top\">AT</th>\n      <th rowspan=\"5\" valign=\"top\">2002</th>\n      <th>bioenergy</th>\n      <td>2920.414</td>\n      <td>196.600</td>\n      <td>203.428</td>\n      <td>2913.585</td>\n      <td>-0.002344</td>\n    </tr>\n    <tr>\n      <th>biofuels</th>\n      <td>20.347</td>\n      <td>0.000</td>\n      <td>0.000</td>\n      <td>20.347</td>\n      <td>0.000000</td>\n    </tr>\n    <tr>\n      <th>biogas</th>\n      <td>21.950</td>\n      <td>0.000</td>\n      <td>0.000</td>\n      <td>21.950</td>\n      <td>0.000000</td>\n    </tr>\n    <tr>\n      <th>ren_mun_waste</th>\n      <td>47.053</td>\n      <td>0.000</td>\n      <td>0.000</td>\n      <td>47.053</td>\n      <td>0.000000</td>\n    </tr>\n    <tr>\n      <th>renewables</th>\n      <td>6490.482</td>\n      <td>164.493</td>\n      <td>172.781</td>\n      <td>6482.194</td>\n      <td>-0.001279</td>\n    </tr>\n    <tr>\n      <th>...</th>\n      <th>...</th>\n      <th>...</th>\n      <td>...</td>\n      <td>...</td>\n      <td>...</td>\n      <td>...</td>\n      <td>...</td>\n    </tr>\n    <tr>\n      <th rowspan=\"5\" valign=\"top\">SK</th>\n      <th rowspan=\"5\" valign=\"top\">2018</th>\n      <th>biogas</th>\n      <td>148.753</td>\n      <td>0.000</td>\n      <td>0.000</td>\n      <td>148.753</td>\n      <td>0.000000</td>\n    </tr>\n    <tr>\n      <th>ren_mun_waste</th>\n      <td>15.023</td>\n      <td>0.000</td>\n      <td>0.000</td>\n      <td>15.023</td>\n      <td>0.000000</td>\n    </tr>\n    <tr>\n      <th>renewables</th>\n      <td>1613.427</td>\n      <td>113.184</td>\n      <td>138.882</td>\n      <td>1581.295</td>\n      <td>-0.016251</td>\n    </tr>\n    <tr>\n      <th>solid_biomass</th>\n      <td>907.591</td>\n      <td>3.224</td>\n      <td>11.799</td>\n      <td>889.223</td>\n      <td>-0.009643</td>\n    </tr>\n    <tr>\n      <th>total</th>\n      <td>5999.917</td>\n      <td>15357.451</td>\n      <td>4502.986</td>\n      <td>17045.596</td>\n      <td>0.636790</td>\n    </tr>\n  </tbody>\n</table>\n<p>714 rows × 5 columns</p>\n</div>"
     },
     "metadata": {},
     "execution_count": 12
    }
   ],
   "source": [
    "df2"
   ]
  },
  {
   "cell_type": "code",
   "execution_count": 14,
   "metadata": {},
   "outputs": [],
   "source": [
    "df2.to_csv(\n",
    "    'eurostat_2002_2018_ktoe.csv',\n",
    "    decimal=',',\n",
    "    )"
   ]
  },
  {
   "cell_type": "code",
   "execution_count": 23,
   "metadata": {},
   "outputs": [],
   "source": [
    "df3 = df2.copy()"
   ]
  },
  {
   "cell_type": "code",
   "execution_count": 24,
   "metadata": {},
   "outputs": [
    {
     "output_type": "execute_result",
     "data": {
      "text/plain": "                            primary_production        imports        exports  \\\ncountry year fuel                                                              \nAT      2002 bioenergy           122271.893352    8231.248800    8517.123504   \n             biofuels               851.888196       0.000000       0.000000   \n             biogas                 919.002600       0.000000       0.000000   \n             ren_mun_waste         1970.015004       0.000000       0.000000   \n             renewables          271743.500376    6886.992924    7233.994908   \n...                                        ...            ...            ...   \nSK      2018 biogas                6227.990604       0.000000       0.000000   \n             ren_mun_waste          628.982964       0.000000       0.000000   \n             renewables           67550.961636    4738.787712    5814.711576   \n             solid_biomass        37999.019988     134.982432     494.000532   \n             total               251204.524956  642985.758468  188531.017848   \n\n                            gross_inland_consumption  dependency  \ncountry year fuel                                                 \nAT      2002 bioenergy                 121985.976780   -0.002344  \n             biofuels                     851.888196    0.000000  \n             biogas                       919.002600    0.000000  \n             ren_mun_waste               1970.015004    0.000000  \n             renewables                271396.498392   -0.001279  \n...                                              ...         ...  \nSK      2018 biogas                      6227.990604    0.000000  \n             ren_mun_waste                628.982964    0.000000  \n             renewables                 66205.659060   -0.016251  \n             solid_biomass              37229.988564   -0.009643  \n             total                     713665.013328    0.636790  \n\n[714 rows x 5 columns]",
      "text/html": "<div>\n<style scoped>\n    .dataframe tbody tr th:only-of-type {\n        vertical-align: middle;\n    }\n\n    .dataframe tbody tr th {\n        vertical-align: top;\n    }\n\n    .dataframe thead th {\n        text-align: right;\n    }\n</style>\n<table border=\"1\" class=\"dataframe\">\n  <thead>\n    <tr style=\"text-align: right;\">\n      <th></th>\n      <th></th>\n      <th></th>\n      <th>primary_production</th>\n      <th>imports</th>\n      <th>exports</th>\n      <th>gross_inland_consumption</th>\n      <th>dependency</th>\n    </tr>\n    <tr>\n      <th>country</th>\n      <th>year</th>\n      <th>fuel</th>\n      <th></th>\n      <th></th>\n      <th></th>\n      <th></th>\n      <th></th>\n    </tr>\n  </thead>\n  <tbody>\n    <tr>\n      <th rowspan=\"5\" valign=\"top\">AT</th>\n      <th rowspan=\"5\" valign=\"top\">2002</th>\n      <th>bioenergy</th>\n      <td>122271.893352</td>\n      <td>8231.248800</td>\n      <td>8517.123504</td>\n      <td>121985.976780</td>\n      <td>-0.002344</td>\n    </tr>\n    <tr>\n      <th>biofuels</th>\n      <td>851.888196</td>\n      <td>0.000000</td>\n      <td>0.000000</td>\n      <td>851.888196</td>\n      <td>0.000000</td>\n    </tr>\n    <tr>\n      <th>biogas</th>\n      <td>919.002600</td>\n      <td>0.000000</td>\n      <td>0.000000</td>\n      <td>919.002600</td>\n      <td>0.000000</td>\n    </tr>\n    <tr>\n      <th>ren_mun_waste</th>\n      <td>1970.015004</td>\n      <td>0.000000</td>\n      <td>0.000000</td>\n      <td>1970.015004</td>\n      <td>0.000000</td>\n    </tr>\n    <tr>\n      <th>renewables</th>\n      <td>271743.500376</td>\n      <td>6886.992924</td>\n      <td>7233.994908</td>\n      <td>271396.498392</td>\n      <td>-0.001279</td>\n    </tr>\n    <tr>\n      <th>...</th>\n      <th>...</th>\n      <th>...</th>\n      <td>...</td>\n      <td>...</td>\n      <td>...</td>\n      <td>...</td>\n      <td>...</td>\n    </tr>\n    <tr>\n      <th rowspan=\"5\" valign=\"top\">SK</th>\n      <th rowspan=\"5\" valign=\"top\">2018</th>\n      <th>biogas</th>\n      <td>6227.990604</td>\n      <td>0.000000</td>\n      <td>0.000000</td>\n      <td>6227.990604</td>\n      <td>0.000000</td>\n    </tr>\n    <tr>\n      <th>ren_mun_waste</th>\n      <td>628.982964</td>\n      <td>0.000000</td>\n      <td>0.000000</td>\n      <td>628.982964</td>\n      <td>0.000000</td>\n    </tr>\n    <tr>\n      <th>renewables</th>\n      <td>67550.961636</td>\n      <td>4738.787712</td>\n      <td>5814.711576</td>\n      <td>66205.659060</td>\n      <td>-0.016251</td>\n    </tr>\n    <tr>\n      <th>solid_biomass</th>\n      <td>37999.019988</td>\n      <td>134.982432</td>\n      <td>494.000532</td>\n      <td>37229.988564</td>\n      <td>-0.009643</td>\n    </tr>\n    <tr>\n      <th>total</th>\n      <td>251204.524956</td>\n      <td>642985.758468</td>\n      <td>188531.017848</td>\n      <td>713665.013328</td>\n      <td>0.636790</td>\n    </tr>\n  </tbody>\n</table>\n<p>714 rows × 5 columns</p>\n</div>"
     },
     "metadata": {},
     "execution_count": 24
    }
   ],
   "source": [
    "tj_ktoe = 41.868\n",
    "\n",
    "df3 = df3.loc[:, 'primary_production': 'gross_inland_consumption'] * tj_ktoe\n",
    "\n",
    "# Keep the share based on the original data in ktoe\n",
    "df3['dependency'] = df2['dependency']\n",
    "df3"
   ]
  },
  {
   "cell_type": "code",
   "execution_count": 25,
   "metadata": {},
   "outputs": [],
   "source": [
    "df3.to_csv(\n",
    "    'eurostat_2002_2018_tj.csv',\n",
    "    decimal=',',\n",
    "    )"
   ]
  },
  {
   "cell_type": "code",
   "execution_count": null,
   "metadata": {},
   "outputs": [],
   "source": []
  },
  {
   "cell_type": "code",
   "execution_count": 13,
   "metadata": {},
   "outputs": [
    {
     "output_type": "execute_result",
     "data": {
      "text/plain": "                            primary_production    imports   exports  \\\ncountry year fuel                                                     \nCZ      2002 bioenergy                1768.482      5.427    39.640   \n             biofuels                   92.261      0.035    27.661   \n             biogas                     35.946      0.000     0.000   \n             ren_mun_waste              56.009      0.000     0.000   \n             renewables               1988.066      0.035    27.661   \n...                                        ...        ...       ...   \n        2018 biogas                    603.782      0.000     0.000   \n             ren_mun_waste              87.628      0.000     0.000   \n             renewables               4570.730    431.137   428.974   \n             solid_biomass            3070.351    206.854   296.378   \n             total                   27345.869  22992.557  6989.463   \n\n                            gross_inland_consumption  dependency  \ncountry year fuel                                                 \nCZ      2002 bioenergy                      1734.145   -0.019729  \n             biofuels                         64.512   -0.428230  \n             biogas                           35.946    0.000000  \n             ren_mun_waste                    56.009    0.000000  \n             renewables                     1960.317   -0.014093  \n...                                              ...         ...  \n        2018 biogas                          603.782    0.000000  \n             ren_mun_waste                    87.628    0.000000  \n             renewables                     4569.797    0.000473  \n             solid_biomass                  2980.827   -0.030033  \n             total                         43551.717    0.367450  \n\n[119 rows x 5 columns]",
      "text/html": "<div>\n<style scoped>\n    .dataframe tbody tr th:only-of-type {\n        vertical-align: middle;\n    }\n\n    .dataframe tbody tr th {\n        vertical-align: top;\n    }\n\n    .dataframe thead th {\n        text-align: right;\n    }\n</style>\n<table border=\"1\" class=\"dataframe\">\n  <thead>\n    <tr style=\"text-align: right;\">\n      <th></th>\n      <th></th>\n      <th></th>\n      <th>primary_production</th>\n      <th>imports</th>\n      <th>exports</th>\n      <th>gross_inland_consumption</th>\n      <th>dependency</th>\n    </tr>\n    <tr>\n      <th>country</th>\n      <th>year</th>\n      <th>fuel</th>\n      <th></th>\n      <th></th>\n      <th></th>\n      <th></th>\n      <th></th>\n    </tr>\n  </thead>\n  <tbody>\n    <tr>\n      <th rowspan=\"11\" valign=\"top\">CZ</th>\n      <th rowspan=\"5\" valign=\"top\">2002</th>\n      <th>bioenergy</th>\n      <td>1768.482</td>\n      <td>5.427</td>\n      <td>39.640</td>\n      <td>1734.145</td>\n      <td>-0.019729</td>\n    </tr>\n    <tr>\n      <th>biofuels</th>\n      <td>92.261</td>\n      <td>0.035</td>\n      <td>27.661</td>\n      <td>64.512</td>\n      <td>-0.428230</td>\n    </tr>\n    <tr>\n      <th>biogas</th>\n      <td>35.946</td>\n      <td>0.000</td>\n      <td>0.000</td>\n      <td>35.946</td>\n      <td>0.000000</td>\n    </tr>\n    <tr>\n      <th>ren_mun_waste</th>\n      <td>56.009</td>\n      <td>0.000</td>\n      <td>0.000</td>\n      <td>56.009</td>\n      <td>0.000000</td>\n    </tr>\n    <tr>\n      <th>renewables</th>\n      <td>1988.066</td>\n      <td>0.035</td>\n      <td>27.661</td>\n      <td>1960.317</td>\n      <td>-0.014093</td>\n    </tr>\n    <tr>\n      <th>...</th>\n      <th>...</th>\n      <td>...</td>\n      <td>...</td>\n      <td>...</td>\n      <td>...</td>\n      <td>...</td>\n    </tr>\n    <tr>\n      <th rowspan=\"5\" valign=\"top\">2018</th>\n      <th>biogas</th>\n      <td>603.782</td>\n      <td>0.000</td>\n      <td>0.000</td>\n      <td>603.782</td>\n      <td>0.000000</td>\n    </tr>\n    <tr>\n      <th>ren_mun_waste</th>\n      <td>87.628</td>\n      <td>0.000</td>\n      <td>0.000</td>\n      <td>87.628</td>\n      <td>0.000000</td>\n    </tr>\n    <tr>\n      <th>renewables</th>\n      <td>4570.730</td>\n      <td>431.137</td>\n      <td>428.974</td>\n      <td>4569.797</td>\n      <td>0.000473</td>\n    </tr>\n    <tr>\n      <th>solid_biomass</th>\n      <td>3070.351</td>\n      <td>206.854</td>\n      <td>296.378</td>\n      <td>2980.827</td>\n      <td>-0.030033</td>\n    </tr>\n    <tr>\n      <th>total</th>\n      <td>27345.869</td>\n      <td>22992.557</td>\n      <td>6989.463</td>\n      <td>43551.717</td>\n      <td>0.367450</td>\n    </tr>\n  </tbody>\n</table>\n<p>119 rows × 5 columns</p>\n</div>"
     },
     "metadata": {},
     "execution_count": 13
    }
   ],
   "source": [
    "df2.loc[pd.IndexSlice['CZ', 2002:2018], :]"
   ]
  },
  {
   "cell_type": "code",
   "execution_count": 34,
   "metadata": {},
   "outputs": [
    {
     "output_type": "execute_result",
     "data": {
      "text/plain": "                        primary_production       imports       exports  \\\ncountry year fuel                                                        \nAT      2018 bioenergy       224047.767852  46039.811256  36676.912284   \nCZ      2018 bioenergy       166713.268104  20343.326256  23004.498204   \nDK      2018 bioenergy       106376.246604  87731.421372  12966.059052   \nNL      2018 bioenergy       171180.625572  32024.288916  66122.969760   \nPL      2018 bioenergy       311466.644604  39538.087668  29267.992872   \nSK      2018 bioenergy        51824.377872   7459.998372   7719.873048   \n\n                        gross_inland_consumption  dependency  \ncountry year fuel                                             \nAT      2018 bioenergy             233978.983056    0.040016  \nCZ      2018 bioenergy             163922.430960   -0.016234  \nDK      2018 bioenergy             181200.182256    0.412612  \nNL      2018 bioenergy             129750.062436   -0.262803  \nPL      2018 bioenergy             321006.226536    0.031993  \nSK      2018 bioenergy              51295.082616   -0.005066  ",
      "text/html": "<div>\n<style scoped>\n    .dataframe tbody tr th:only-of-type {\n        vertical-align: middle;\n    }\n\n    .dataframe tbody tr th {\n        vertical-align: top;\n    }\n\n    .dataframe thead th {\n        text-align: right;\n    }\n</style>\n<table border=\"1\" class=\"dataframe\">\n  <thead>\n    <tr style=\"text-align: right;\">\n      <th></th>\n      <th></th>\n      <th></th>\n      <th>primary_production</th>\n      <th>imports</th>\n      <th>exports</th>\n      <th>gross_inland_consumption</th>\n      <th>dependency</th>\n    </tr>\n    <tr>\n      <th>country</th>\n      <th>year</th>\n      <th>fuel</th>\n      <th></th>\n      <th></th>\n      <th></th>\n      <th></th>\n      <th></th>\n    </tr>\n  </thead>\n  <tbody>\n    <tr>\n      <th>AT</th>\n      <th>2018</th>\n      <th>bioenergy</th>\n      <td>224047.767852</td>\n      <td>46039.811256</td>\n      <td>36676.912284</td>\n      <td>233978.983056</td>\n      <td>0.040016</td>\n    </tr>\n    <tr>\n      <th>CZ</th>\n      <th>2018</th>\n      <th>bioenergy</th>\n      <td>166713.268104</td>\n      <td>20343.326256</td>\n      <td>23004.498204</td>\n      <td>163922.430960</td>\n      <td>-0.016234</td>\n    </tr>\n    <tr>\n      <th>DK</th>\n      <th>2018</th>\n      <th>bioenergy</th>\n      <td>106376.246604</td>\n      <td>87731.421372</td>\n      <td>12966.059052</td>\n      <td>181200.182256</td>\n      <td>0.412612</td>\n    </tr>\n    <tr>\n      <th>NL</th>\n      <th>2018</th>\n      <th>bioenergy</th>\n      <td>171180.625572</td>\n      <td>32024.288916</td>\n      <td>66122.969760</td>\n      <td>129750.062436</td>\n      <td>-0.262803</td>\n    </tr>\n    <tr>\n      <th>PL</th>\n      <th>2018</th>\n      <th>bioenergy</th>\n      <td>311466.644604</td>\n      <td>39538.087668</td>\n      <td>29267.992872</td>\n      <td>321006.226536</td>\n      <td>0.031993</td>\n    </tr>\n    <tr>\n      <th>SK</th>\n      <th>2018</th>\n      <th>bioenergy</th>\n      <td>51824.377872</td>\n      <td>7459.998372</td>\n      <td>7719.873048</td>\n      <td>51295.082616</td>\n      <td>-0.005066</td>\n    </tr>\n  </tbody>\n</table>\n</div>"
     },
     "metadata": {},
     "execution_count": 34
    }
   ],
   "source": [
    "df3.loc[pd.IndexSlice[:,2018,'bioenergy'], :]"
   ]
  },
  {
   "cell_type": "code",
   "execution_count": 37,
   "metadata": {},
   "outputs": [
    {
     "output_type": "execute_result",
     "data": {
      "text/plain": "0.08989817783762694"
     },
     "metadata": {},
     "execution_count": 37
    }
   ],
   "source": [
    "# Share of bioenegy on consumption\n",
    "df3.loc[pd.IndexSlice['CZ',2018,'bioenergy'], 'gross_inland_consumption']/df3.loc[pd.IndexSlice['CZ',2018,'total'], 'gross_inland_consumption']"
   ]
  },
  {
   "cell_type": "code",
   "execution_count": null,
   "metadata": {},
   "outputs": [],
   "source": []
  }
 ]
}