{
 "metadata": {
  "language_info": {
   "codemirror_mode": {
    "name": "ipython",
    "version": 3
   },
   "file_extension": ".py",
   "mimetype": "text/x-python",
   "name": "python",
   "nbconvert_exporter": "python",
   "pygments_lexer": "ipython3",
   "version": "3.7.0-final"
  },
  "orig_nbformat": 2,
  "kernelspec": {
   "name": "python_defaultSpec_1602004551941",
   "display_name": "Python 3.7.0 64-bit ('venv')"
  }
 },
 "nbformat": 4,
 "nbformat_minor": 2,
 "cells": [
  {
   "source": [
    "# Eurostat energy balance 2018"
   ],
   "cell_type": "markdown",
   "metadata": {}
  },
  {
   "cell_type": "code",
   "execution_count": 16,
   "metadata": {
    "tags": []
   },
   "outputs": [],
   "source": [
    "def read_archive(file, var, var_key, col_start, col_end):\n",
    "    d = {}\n",
    "\n",
    "    countries = ('CZ', 'AT', 'DK', 'NL', 'PL', 'SK')\n",
    "\n",
    "    with zipfile.ZipFile(file, 'r') as f:\n",
    "        for name in f.namelist():\n",
    "            if name.startswith(countries):\n",
    "                country = name[:2]\n",
    "                file = f.read(name)\n",
    "                data = get_values(file, country, var, var_key, col_start, col_end)\n",
    "                d.update(data)\n",
    "    return d"
   ]
  },
  {
   "cell_type": "code",
   "execution_count": 1,
   "metadata": {},
   "outputs": [],
   "source": [
    "import pandas as pd\n",
    "import os\n",
    "import pyxlsb\n",
    "import numpy as np\n",
    "from scipy.stats import linregress\n",
    "import zipfile\n",
    "import requests"
   ]
  },
  {
   "cell_type": "code",
   "execution_count": 2,
   "metadata": {},
   "outputs": [],
   "source": [
    "def get_values(file, country, variable, fuel, col_start, col_end):\n",
    "    \"\"\"Reads fuel variable in multiple sheets 2002-2018.\n",
    "    Sums the values across multiple columns if relevant.\n",
    "    Returns: dict\n",
    "    \"\"\"\n",
    "    trajectory = {}\n",
    "    for year in range(2002,2019):\n",
    "        df = pd.read_excel(\n",
    "            file,\n",
    "            engine='pyxlsb',\n",
    "            sheet_name=str(year),\n",
    "            skiprows=[0,1,2,3],\n",
    "            index_col=1\n",
    "            )\n",
    "        try:\n",
    "            trajectory[(country, year, fuel)] = df.loc[variable, col_start:col_end].sum()\n",
    "        except TypeError:\n",
    "            trajectory[(country, year, fuel)] = pd.to_numeric(df.loc[variable, col_start:col_end], errors='coerce').sum()\n",
    "    return trajectory\n"
   ]
  },
  {
   "cell_type": "code",
   "execution_count": 3,
   "metadata": {},
   "outputs": [],
   "source": [
    "tj_ktoe = 41.868"
   ]
  },
  {
   "cell_type": "code",
   "execution_count": 4,
   "metadata": {},
   "outputs": [],
   "source": [
    "url = 'https://ec.europa.eu/eurostat/documents/38154/4956218/Energy-Balances-April-2020-edition.zip/69da6e9f-bf8f-cd8e-f4ad-50b52f8ce616'\n",
    "\n",
    "r = requests.get(url)\n",
    "with open('eurostat_balances_2020.zip', 'wb') as f:\n",
    "    f.write(r.content)"
   ]
  },
  {
   "cell_type": "code",
   "execution_count": 3,
   "metadata": {},
   "outputs": [],
   "source": [
    "def read_archive(file, var, fuel_key, col_start, col_end):\n",
    "    d = {}\n",
    "\n",
    "    countries = ('CZ', 'AT', 'DK', 'NL', 'PL', 'SK')\n",
    "\n",
    "    with zipfile.ZipFile(file, 'r') as myzip:\n",
    "        for name in myzip.namelist():\n",
    "            if name.startswith(countries):\n",
    "                with myzip.open(name) as myfile:\n",
    "                    country = name[:2]\n",
    "                    data = get_values(myfile.read(), country, var, fuel_key, col_start, col_end)\n",
    "                    d.update(data)\n",
    "    return d"
   ]
  },
  {
   "cell_type": "code",
   "execution_count": 4,
   "metadata": {
    "tags": []
   },
   "outputs": [
    {
     "output_type": "execute_result",
     "data": {
      "text/plain": "                            primary_production    imports   exports  \\\ncountry year fuel                                                     \nAT      2002 total                    9831.767  24645.177  3538.177   \n        2003 total                    9483.763  27068.006  3881.256   \n        2004 total                    9842.878  28084.148  4434.439   \n        2005 total                    9888.261  29620.112  4932.991   \n        2006 total                   10326.256  30536.606  5451.498   \n...                                        ...        ...       ...   \nSK      2014 ren_mun_waste              11.584      0.000     0.000   \n        2015 ren_mun_waste              14.928      0.000     0.000   \n        2016 ren_mun_waste              19.466      0.000     0.000   \n        2017 ren_mun_waste              28.518      0.000     0.000   \n        2018 ren_mun_waste              15.023      0.000     0.000   \n\n                            gross_inland_consumption  \ncountry year fuel                                     \nAT      2002 total                         31002.109  \n        2003 total                         32638.250  \n        2004 total                         33249.096  \n        2005 total                         34376.159  \n        2006 total                         34687.504  \n...                                              ...  \nSK      2014 ren_mun_waste                    11.584  \n        2015 ren_mun_waste                    14.928  \n        2016 ren_mun_waste                    19.466  \n        2017 ren_mun_waste                    28.518  \n        2018 ren_mun_waste                    15.023  \n\n[714 rows x 4 columns]",
      "text/html": "<div>\n<style scoped>\n    .dataframe tbody tr th:only-of-type {\n        vertical-align: middle;\n    }\n\n    .dataframe tbody tr th {\n        vertical-align: top;\n    }\n\n    .dataframe thead th {\n        text-align: right;\n    }\n</style>\n<table border=\"1\" class=\"dataframe\">\n  <thead>\n    <tr style=\"text-align: right;\">\n      <th></th>\n      <th></th>\n      <th></th>\n      <th>primary_production</th>\n      <th>imports</th>\n      <th>exports</th>\n      <th>gross_inland_consumption</th>\n    </tr>\n    <tr>\n      <th>country</th>\n      <th>year</th>\n      <th>fuel</th>\n      <th></th>\n      <th></th>\n      <th></th>\n      <th></th>\n    </tr>\n  </thead>\n  <tbody>\n    <tr>\n      <th rowspan=\"5\" valign=\"top\">AT</th>\n      <th>2002</th>\n      <th>total</th>\n      <td>9831.767</td>\n      <td>24645.177</td>\n      <td>3538.177</td>\n      <td>31002.109</td>\n    </tr>\n    <tr>\n      <th>2003</th>\n      <th>total</th>\n      <td>9483.763</td>\n      <td>27068.006</td>\n      <td>3881.256</td>\n      <td>32638.250</td>\n    </tr>\n    <tr>\n      <th>2004</th>\n      <th>total</th>\n      <td>9842.878</td>\n      <td>28084.148</td>\n      <td>4434.439</td>\n      <td>33249.096</td>\n    </tr>\n    <tr>\n      <th>2005</th>\n      <th>total</th>\n      <td>9888.261</td>\n      <td>29620.112</td>\n      <td>4932.991</td>\n      <td>34376.159</td>\n    </tr>\n    <tr>\n      <th>2006</th>\n      <th>total</th>\n      <td>10326.256</td>\n      <td>30536.606</td>\n      <td>5451.498</td>\n      <td>34687.504</td>\n    </tr>\n    <tr>\n      <th>...</th>\n      <th>...</th>\n      <th>...</th>\n      <td>...</td>\n      <td>...</td>\n      <td>...</td>\n      <td>...</td>\n    </tr>\n    <tr>\n      <th rowspan=\"5\" valign=\"top\">SK</th>\n      <th>2014</th>\n      <th>ren_mun_waste</th>\n      <td>11.584</td>\n      <td>0.000</td>\n      <td>0.000</td>\n      <td>11.584</td>\n    </tr>\n    <tr>\n      <th>2015</th>\n      <th>ren_mun_waste</th>\n      <td>14.928</td>\n      <td>0.000</td>\n      <td>0.000</td>\n      <td>14.928</td>\n    </tr>\n    <tr>\n      <th>2016</th>\n      <th>ren_mun_waste</th>\n      <td>19.466</td>\n      <td>0.000</td>\n      <td>0.000</td>\n      <td>19.466</td>\n    </tr>\n    <tr>\n      <th>2017</th>\n      <th>ren_mun_waste</th>\n      <td>28.518</td>\n      <td>0.000</td>\n      <td>0.000</td>\n      <td>28.518</td>\n    </tr>\n    <tr>\n      <th>2018</th>\n      <th>ren_mun_waste</th>\n      <td>15.023</td>\n      <td>0.000</td>\n      <td>0.000</td>\n      <td>15.023</td>\n    </tr>\n  </tbody>\n</table>\n<p>714 rows × 4 columns</p>\n</div>"
     },
     "metadata": {},
     "execution_count": 4
    }
   ],
   "source": [
    "# All variables of interest\n",
    "all_data = {}\n",
    "\n",
    "variables = [\n",
    "    'Primary production',\n",
    "    'Imports',\n",
    "    'Exports',\n",
    "    'Gross inland consumption',\n",
    "    ]\n",
    "\n",
    "fuel_tuples = [\n",
    "    ('total','Total', 'Total',),\n",
    "    ('renewables', 'Renewables and biofuels', 'Renewables and biofuels'),\n",
    "    ('bioenergy', 'Bioenergy', 'Bioenergy',),\n",
    "    ('solid_biomass', 'Primary solid biofuels', 'Primary solid biofuels'),\n",
    "    ('biofuels', 'Pure biogasoline', 'Other liquid biofuels'),\n",
    "    ('biogas', 'Biogases', 'Biogases'),\n",
    "    ('ren_mun_waste', 'Renewable municipal waste', 'Renewable municipal waste'),\n",
    "    ]\n",
    "\n",
    "for variable in variables:\n",
    "    for fuel_key, start, end in fuel_tuples:\n",
    "        data = read_archive('eurostat_balances_2020.zip', variable, fuel_key, start, end)\n",
    "        all_data.setdefault(variable.lower().replace(' ','_'), {}).update(data)\n",
    "\n",
    "df = pd.DataFrame(all_data)\n",
    "df.index.names = ['country', 'year', 'fuel']\n",
    "df"
   ]
  },
  {
   "cell_type": "code",
   "execution_count": 5,
   "metadata": {},
   "outputs": [],
   "source": [
    "df.to_csv(\n",
    "    'bioenergy_2002_2018.csv',\n",
    "    decimal=',',\n",
    "    )"
   ]
  },
  {
   "cell_type": "code",
   "execution_count": null,
   "metadata": {},
   "outputs": [],
   "source": []
  },
  {
   "cell_type": "code",
   "execution_count": 24,
   "metadata": {},
   "outputs": [
    {
     "output_type": "execute_result",
     "data": {
      "text/plain": "                            gross_inland_consumption\ncountry year fuel                                   \nCZ      2002 bioenergy                      1734.145\n             biofuels                         64.512\n             solid_biomass                  1584.265\n             total                         42937.716\n        2003 bioenergy                      1702.880\n...                                              ...\n        2017 total                         43464.680\n        2018 bioenergy                      3915.220\n             biofuels                        308.708\n             solid_biomass                  2980.827\n             total                         43551.717\n\n[68 rows x 1 columns]",
      "text/html": "<div>\n<style scoped>\n    .dataframe tbody tr th:only-of-type {\n        vertical-align: middle;\n    }\n\n    .dataframe tbody tr th {\n        vertical-align: top;\n    }\n\n    .dataframe thead th {\n        text-align: right;\n    }\n</style>\n<table border=\"1\" class=\"dataframe\">\n  <thead>\n    <tr style=\"text-align: right;\">\n      <th></th>\n      <th></th>\n      <th></th>\n      <th>gross_inland_consumption</th>\n    </tr>\n    <tr>\n      <th>country</th>\n      <th>year</th>\n      <th>fuel</th>\n      <th></th>\n    </tr>\n  </thead>\n  <tbody>\n    <tr>\n      <th rowspan=\"11\" valign=\"top\">CZ</th>\n      <th rowspan=\"4\" valign=\"top\">2002</th>\n      <th>bioenergy</th>\n      <td>1734.145</td>\n    </tr>\n    <tr>\n      <th>biofuels</th>\n      <td>64.512</td>\n    </tr>\n    <tr>\n      <th>solid_biomass</th>\n      <td>1584.265</td>\n    </tr>\n    <tr>\n      <th>total</th>\n      <td>42937.716</td>\n    </tr>\n    <tr>\n      <th>2003</th>\n      <th>bioenergy</th>\n      <td>1702.880</td>\n    </tr>\n    <tr>\n      <th>...</th>\n      <th>...</th>\n      <td>...</td>\n    </tr>\n    <tr>\n      <th>2017</th>\n      <th>total</th>\n      <td>43464.680</td>\n    </tr>\n    <tr>\n      <th rowspan=\"4\" valign=\"top\">2018</th>\n      <th>bioenergy</th>\n      <td>3915.220</td>\n    </tr>\n    <tr>\n      <th>biofuels</th>\n      <td>308.708</td>\n    </tr>\n    <tr>\n      <th>solid_biomass</th>\n      <td>2980.827</td>\n    </tr>\n    <tr>\n      <th>total</th>\n      <td>43551.717</td>\n    </tr>\n  </tbody>\n</table>\n<p>68 rows × 1 columns</p>\n</div>"
     },
     "metadata": {},
     "execution_count": 24
    }
   ],
   "source": [
    "df.loc[pd.IndexSlice['CZ', 2002:2018], :]"
   ]
  }
 ]
}