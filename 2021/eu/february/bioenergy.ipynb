{
 "cells": [
  {
   "cell_type": "markdown",
   "metadata": {},
   "source": [
    "# Eurostat bioenergy balance (February 2021 edition)\n",
    "\n",
    "Extract bioenergy related data from an archive containing XLSB files, one for each EU country which contain multiple sheets for each year (1990-2019).\n",
    "\n",
    "Data from Eurostat's [energy balances](https://ec.europa.eu/eurostat/web/energy/data/energy-balances) February 2021 edition.\n",
    "\n",
    "Walk through excel files (country spreadsheets) and parse selected variables and fuels for each year (sheet in country's spreadsheet).\n",
    "\n",
    "Somewhere on Eurostat there might be a better source for this data, but I did not find it."
   ]
  },
  {
   "cell_type": "code",
   "execution_count": 1,
   "metadata": {},
   "outputs": [],
   "source": [
    "import os\n",
    "import zipfile\n",
    "import requests\n",
    "import pandas as pd\n",
    "import numpy as np\n",
    "import pyxlsb"
   ]
  },
  {
   "cell_type": "code",
   "execution_count": 2,
   "metadata": {},
   "outputs": [],
   "source": [
    "def parse_values_for_country(file, country, variables, fuels):\n",
    "    \"\"\"Reads fuel variable in multiple sheets 2002-2018.\n",
    "    Sums the values across multiple columns if relevant.\n",
    "    Returns: dict\n",
    "    \"\"\"\n",
    "    country_data = {}\n",
    "    \n",
    "    for year in range(2002,2020):\n",
    "        df = pd.read_excel(\n",
    "            file,\n",
    "            engine='pyxlsb',\n",
    "            sheet_name=str(year),\n",
    "            skiprows=[0,1,2,3],\n",
    "            index_col=1,\n",
    "            na_values=':',\n",
    "            )\n",
    "        for variable in variables:\n",
    "            for fuel, start, end in fuels:             \n",
    "                try:\n",
    "                    country_data[(country, year, fuel, variable.lower().replace(' ', '_'))] = df.loc[variable, start:end].sum()\n",
    "                except TypeError:\n",
    "                    country_data[(country, year, fuel, variable.lower().replace(' ', '_'))] = pd.to_numeric(df.loc[variable, start:end], errors='coerce').sum()\n",
    "\n",
    "    return country_data"
   ]
  },
  {
   "cell_type": "code",
   "execution_count": 3,
   "metadata": {},
   "outputs": [],
   "source": [
    "def walk_through_excel_files(directory, variables, fuels):\n",
    "    d = {}\n",
    "    \n",
    "    for filename in os.listdir(directory):\n",
    "        if '!' not in filename and '.pdf' not in filename: # skip readme files \n",
    "            country = filename.split('-')[0]\n",
    "            excel_path = os.path.join(directory, filename)\n",
    "            data = parse_values_for_country(excel_path, country, variables, fuels)\n",
    "            d.update(data)\n",
    "    return d"
   ]
  },
  {
   "cell_type": "code",
   "execution_count": 4,
   "metadata": {},
   "outputs": [],
   "source": [
    "# Selected variables for bioenergy and some other for context\n",
    "variables = [\n",
    "'Primary production',\n",
    "'Imports',\n",
    "'Exports',\n",
    "'Gross inland consumption',\n",
    "]\n",
    "\n",
    "fuels = [\n",
    "    ('total', 'Total', 'Total'),\n",
    "    ('renewables', 'Renewables and biofuels', 'Renewables and biofuels'),\n",
    "    ('bioenergy', 'Bioenergy', 'Bioenergy',),\n",
    "    ('solid_biomass', 'Primary solid biofuels', 'Primary solid biofuels'),\n",
    "    ('biofuels', 'Pure biogasoline', 'Other liquid biofuels'),\n",
    "    ('biogas', 'Biogases', 'Biogases'),\n",
    "    ('ren_mun_waste', 'Renewable municipal waste', 'Renewable municipal waste'),\n",
    "    ]"
   ]
  },
  {
   "cell_type": "code",
   "execution_count": 5,
   "metadata": {},
   "outputs": [],
   "source": [
    "url = 'https://ec.europa.eu/eurostat/documents/38154/4956218/Energy-balance-sheets-February-2021-edition.zip/4b1d6665-f303-be7d-a7e5-1e0da16ec0d9?t=1612709565471'\n",
    "\n",
    "r = requests.get(url)\n",
    "\n",
    "with open('eurostat_balances_2021.zip', 'wb') as f:\n",
    "    f.write(r.content)"
   ]
  },
  {
   "cell_type": "code",
   "execution_count": 6,
   "metadata": {},
   "outputs": [],
   "source": [
    "with zipfile.ZipFile('eurostat_balances_2021.zip', 'r') as zip_archive:\n",
    "    zip_archive.extractall(path='balances/')"
   ]
  },
  {
   "cell_type": "code",
   "execution_count": 7,
   "metadata": {},
   "outputs": [
    {
     "name": "stdout",
     "output_type": "stream",
     "text": [
      "CPU times: user 1min 52s, sys: 1.37 s, total: 1min 53s\n",
      "Wall time: 1min 54s\n"
     ]
    }
   ],
   "source": [
    "# This is quite slow, opening many files, one time for each sheet\n",
    "# There must be a better way\n",
    "\n",
    "%time data_dict = walk_through_excel_files('balances/', variables, fuels)"
   ]
  },
  {
   "cell_type": "code",
   "execution_count": 8,
   "metadata": {},
   "outputs": [],
   "source": [
    "# https://stackoverflow.com/questions/44012099/creating-a-dataframe-from-a-dict-where-keys-are-tuples\n",
    "df1 = pd.Series(data_dict).reset_index()\n",
    "df1.columns = ['country', 'year', 'fuel', 'variable', 'value']"
   ]
  },
  {
   "cell_type": "code",
   "execution_count": 9,
   "metadata": {},
   "outputs": [
    {
     "data": {
      "text/html": [
       "<div>\n",
       "<style scoped>\n",
       "    .dataframe tbody tr th:only-of-type {\n",
       "        vertical-align: middle;\n",
       "    }\n",
       "\n",
       "    .dataframe tbody tr th {\n",
       "        vertical-align: top;\n",
       "    }\n",
       "\n",
       "    .dataframe thead th {\n",
       "        text-align: right;\n",
       "    }\n",
       "</style>\n",
       "<table border=\"1\" class=\"dataframe\">\n",
       "  <thead>\n",
       "    <tr style=\"text-align: right;\">\n",
       "      <th></th>\n",
       "      <th>country</th>\n",
       "      <th>year</th>\n",
       "      <th>fuel</th>\n",
       "      <th>variable</th>\n",
       "      <th>value</th>\n",
       "    </tr>\n",
       "  </thead>\n",
       "  <tbody>\n",
       "    <tr>\n",
       "      <th>0</th>\n",
       "      <td>HU</td>\n",
       "      <td>2002</td>\n",
       "      <td>total</td>\n",
       "      <td>primary_production</td>\n",
       "      <td>11191.268</td>\n",
       "    </tr>\n",
       "    <tr>\n",
       "      <th>1</th>\n",
       "      <td>HU</td>\n",
       "      <td>2002</td>\n",
       "      <td>renewables</td>\n",
       "      <td>primary_production</td>\n",
       "      <td>877.233</td>\n",
       "    </tr>\n",
       "    <tr>\n",
       "      <th>2</th>\n",
       "      <td>HU</td>\n",
       "      <td>2002</td>\n",
       "      <td>bioenergy</td>\n",
       "      <td>primary_production</td>\n",
       "      <td>772.810</td>\n",
       "    </tr>\n",
       "  </tbody>\n",
       "</table>\n",
       "</div>"
      ],
      "text/plain": [
       "  country  year        fuel            variable      value\n",
       "0      HU  2002       total  primary_production  11191.268\n",
       "1      HU  2002  renewables  primary_production    877.233\n",
       "2      HU  2002   bioenergy  primary_production    772.810"
      ]
     },
     "execution_count": 9,
     "metadata": {},
     "output_type": "execute_result"
    }
   ],
   "source": [
    "df1.head(3)"
   ]
  },
  {
   "cell_type": "code",
   "execution_count": 10,
   "metadata": {},
   "outputs": [],
   "source": [
    "df2 = df1.set_index(['country', 'year', 'fuel', 'variable']).unstack(level=3)"
   ]
  },
  {
   "cell_type": "code",
   "execution_count": 11,
   "metadata": {},
   "outputs": [
    {
     "data": {
      "text/html": [
       "<div>\n",
       "<style scoped>\n",
       "    .dataframe tbody tr th:only-of-type {\n",
       "        vertical-align: middle;\n",
       "    }\n",
       "\n",
       "    .dataframe tbody tr th {\n",
       "        vertical-align: top;\n",
       "    }\n",
       "\n",
       "    .dataframe thead tr th {\n",
       "        text-align: left;\n",
       "    }\n",
       "\n",
       "    .dataframe thead tr:last-of-type th {\n",
       "        text-align: right;\n",
       "    }\n",
       "</style>\n",
       "<table border=\"1\" class=\"dataframe\">\n",
       "  <thead>\n",
       "    <tr>\n",
       "      <th></th>\n",
       "      <th></th>\n",
       "      <th></th>\n",
       "      <th colspan=\"4\" halign=\"left\">value</th>\n",
       "    </tr>\n",
       "    <tr>\n",
       "      <th></th>\n",
       "      <th></th>\n",
       "      <th>variable</th>\n",
       "      <th>exports</th>\n",
       "      <th>gross_inland_consumption</th>\n",
       "      <th>imports</th>\n",
       "      <th>primary_production</th>\n",
       "    </tr>\n",
       "    <tr>\n",
       "      <th>country</th>\n",
       "      <th>year</th>\n",
       "      <th>fuel</th>\n",
       "      <th></th>\n",
       "      <th></th>\n",
       "      <th></th>\n",
       "      <th></th>\n",
       "    </tr>\n",
       "  </thead>\n",
       "  <tbody>\n",
       "    <tr>\n",
       "      <th rowspan=\"3\" valign=\"top\">AT</th>\n",
       "      <th rowspan=\"3\" valign=\"top\">2002</th>\n",
       "      <th>bioenergy</th>\n",
       "      <td>203.428</td>\n",
       "      <td>2913.585</td>\n",
       "      <td>196.6</td>\n",
       "      <td>2920.414</td>\n",
       "    </tr>\n",
       "    <tr>\n",
       "      <th>biofuels</th>\n",
       "      <td>0.000</td>\n",
       "      <td>20.347</td>\n",
       "      <td>0.0</td>\n",
       "      <td>20.347</td>\n",
       "    </tr>\n",
       "    <tr>\n",
       "      <th>biogas</th>\n",
       "      <td>0.000</td>\n",
       "      <td>21.950</td>\n",
       "      <td>0.0</td>\n",
       "      <td>21.950</td>\n",
       "    </tr>\n",
       "  </tbody>\n",
       "</table>\n",
       "</div>"
      ],
      "text/plain": [
       "                          value                                   \\\n",
       "variable                exports gross_inland_consumption imports   \n",
       "country year fuel                                                  \n",
       "AT      2002 bioenergy  203.428                 2913.585   196.6   \n",
       "             biofuels     0.000                   20.347     0.0   \n",
       "             biogas       0.000                   21.950     0.0   \n",
       "\n",
       "                                           \n",
       "variable               primary_production  \n",
       "country year fuel                          \n",
       "AT      2002 bioenergy           2920.414  \n",
       "             biofuels              20.347  \n",
       "             biogas                21.950  "
      ]
     },
     "execution_count": 11,
     "metadata": {},
     "output_type": "execute_result"
    }
   ],
   "source": [
    "df2.head(3)"
   ]
  },
  {
   "cell_type": "code",
   "execution_count": 12,
   "metadata": {},
   "outputs": [],
   "source": [
    "df2.columns = df2.columns.droplevel(0).values"
   ]
  },
  {
   "cell_type": "code",
   "execution_count": 13,
   "metadata": {},
   "outputs": [
    {
     "name": "stdout",
     "output_type": "stream",
     "text": [
      "<class 'pandas.core.frame.DataFrame'>\n",
      "MultiIndex: 4536 entries, ('AT', 2002, 'bioenergy') to ('XK', 2019, 'total')\n",
      "Data columns (total 4 columns):\n",
      " #   Column                    Non-Null Count  Dtype  \n",
      "---  ------                    --------------  -----  \n",
      " 0   exports                   4536 non-null   float64\n",
      " 1   gross_inland_consumption  4536 non-null   float64\n",
      " 2   imports                   4536 non-null   float64\n",
      " 3   primary_production        4536 non-null   float64\n",
      "dtypes: float64(4)\n",
      "memory usage: 157.6+ KB\n"
     ]
    }
   ],
   "source": [
    "df2.info()"
   ]
  },
  {
   "cell_type": "code",
   "execution_count": 14,
   "metadata": {},
   "outputs": [],
   "source": [
    "df2.sort_index(ascending=True, inplace=True)"
   ]
  },
  {
   "cell_type": "code",
   "execution_count": 15,
   "metadata": {},
   "outputs": [
    {
     "data": {
      "text/html": [
       "<div>\n",
       "<style scoped>\n",
       "    .dataframe tbody tr th:only-of-type {\n",
       "        vertical-align: middle;\n",
       "    }\n",
       "\n",
       "    .dataframe tbody tr th {\n",
       "        vertical-align: top;\n",
       "    }\n",
       "\n",
       "    .dataframe thead th {\n",
       "        text-align: right;\n",
       "    }\n",
       "</style>\n",
       "<table border=\"1\" class=\"dataframe\">\n",
       "  <thead>\n",
       "    <tr style=\"text-align: right;\">\n",
       "      <th></th>\n",
       "      <th></th>\n",
       "      <th></th>\n",
       "      <th>exports</th>\n",
       "      <th>gross_inland_consumption</th>\n",
       "      <th>imports</th>\n",
       "      <th>primary_production</th>\n",
       "      <th>dependency</th>\n",
       "    </tr>\n",
       "    <tr>\n",
       "      <th>country</th>\n",
       "      <th>year</th>\n",
       "      <th>fuel</th>\n",
       "      <th></th>\n",
       "      <th></th>\n",
       "      <th></th>\n",
       "      <th></th>\n",
       "      <th></th>\n",
       "    </tr>\n",
       "  </thead>\n",
       "  <tbody>\n",
       "    <tr>\n",
       "      <th rowspan=\"5\" valign=\"top\">AT</th>\n",
       "      <th rowspan=\"5\" valign=\"top\">2002</th>\n",
       "      <th>bioenergy</th>\n",
       "      <td>203.428</td>\n",
       "      <td>2913.585</td>\n",
       "      <td>196.600</td>\n",
       "      <td>2920.414</td>\n",
       "      <td>-0.002344</td>\n",
       "    </tr>\n",
       "    <tr>\n",
       "      <th>biofuels</th>\n",
       "      <td>0.000</td>\n",
       "      <td>20.347</td>\n",
       "      <td>0.000</td>\n",
       "      <td>20.347</td>\n",
       "      <td>0.000000</td>\n",
       "    </tr>\n",
       "    <tr>\n",
       "      <th>biogas</th>\n",
       "      <td>0.000</td>\n",
       "      <td>21.950</td>\n",
       "      <td>0.000</td>\n",
       "      <td>21.950</td>\n",
       "      <td>0.000000</td>\n",
       "    </tr>\n",
       "    <tr>\n",
       "      <th>ren_mun_waste</th>\n",
       "      <td>0.000</td>\n",
       "      <td>47.053</td>\n",
       "      <td>0.000</td>\n",
       "      <td>47.053</td>\n",
       "      <td>0.000000</td>\n",
       "    </tr>\n",
       "    <tr>\n",
       "      <th>renewables</th>\n",
       "      <td>172.781</td>\n",
       "      <td>6482.194</td>\n",
       "      <td>164.493</td>\n",
       "      <td>6490.482</td>\n",
       "      <td>-0.001279</td>\n",
       "    </tr>\n",
       "    <tr>\n",
       "      <th>...</th>\n",
       "      <th>...</th>\n",
       "      <th>...</th>\n",
       "      <td>...</td>\n",
       "      <td>...</td>\n",
       "      <td>...</td>\n",
       "      <td>...</td>\n",
       "      <td>...</td>\n",
       "    </tr>\n",
       "    <tr>\n",
       "      <th rowspan=\"5\" valign=\"top\">XK</th>\n",
       "      <th rowspan=\"5\" valign=\"top\">2019</th>\n",
       "      <th>biogas</th>\n",
       "      <td>0.000</td>\n",
       "      <td>0.000</td>\n",
       "      <td>0.000</td>\n",
       "      <td>0.000</td>\n",
       "      <td>NaN</td>\n",
       "    </tr>\n",
       "    <tr>\n",
       "      <th>ren_mun_waste</th>\n",
       "      <td>0.000</td>\n",
       "      <td>0.000</td>\n",
       "      <td>0.000</td>\n",
       "      <td>0.000</td>\n",
       "      <td>NaN</td>\n",
       "    </tr>\n",
       "    <tr>\n",
       "      <th>renewables</th>\n",
       "      <td>0.042</td>\n",
       "      <td>402.360</td>\n",
       "      <td>55.816</td>\n",
       "      <td>346.586</td>\n",
       "      <td>0.138617</td>\n",
       "    </tr>\n",
       "    <tr>\n",
       "      <th>solid_biomass</th>\n",
       "      <td>0.042</td>\n",
       "      <td>374.978</td>\n",
       "      <td>55.816</td>\n",
       "      <td>319.205</td>\n",
       "      <td>0.148739</td>\n",
       "    </tr>\n",
       "    <tr>\n",
       "      <th>total</th>\n",
       "      <td>94.358</td>\n",
       "      <td>2645.048</td>\n",
       "      <td>890.290</td>\n",
       "      <td>1849.116</td>\n",
       "      <td>0.300914</td>\n",
       "    </tr>\n",
       "  </tbody>\n",
       "</table>\n",
       "<p>4536 rows × 5 columns</p>\n",
       "</div>"
      ],
      "text/plain": [
       "                            exports  gross_inland_consumption  imports  \\\n",
       "country year fuel                                                        \n",
       "AT      2002 bioenergy      203.428                  2913.585  196.600   \n",
       "             biofuels         0.000                    20.347    0.000   \n",
       "             biogas           0.000                    21.950    0.000   \n",
       "             ren_mun_waste    0.000                    47.053    0.000   \n",
       "             renewables     172.781                  6482.194  164.493   \n",
       "...                             ...                       ...      ...   \n",
       "XK      2019 biogas           0.000                     0.000    0.000   \n",
       "             ren_mun_waste    0.000                     0.000    0.000   \n",
       "             renewables       0.042                   402.360   55.816   \n",
       "             solid_biomass    0.042                   374.978   55.816   \n",
       "             total           94.358                  2645.048  890.290   \n",
       "\n",
       "                            primary_production  dependency  \n",
       "country year fuel                                           \n",
       "AT      2002 bioenergy                2920.414   -0.002344  \n",
       "             biofuels                   20.347    0.000000  \n",
       "             biogas                     21.950    0.000000  \n",
       "             ren_mun_waste              47.053    0.000000  \n",
       "             renewables               6490.482   -0.001279  \n",
       "...                                        ...         ...  \n",
       "XK      2019 biogas                      0.000         NaN  \n",
       "             ren_mun_waste               0.000         NaN  \n",
       "             renewables                346.586    0.138617  \n",
       "             solid_biomass             319.205    0.148739  \n",
       "             total                    1849.116    0.300914  \n",
       "\n",
       "[4536 rows x 5 columns]"
      ]
     },
     "execution_count": 15,
     "metadata": {},
     "output_type": "execute_result"
    }
   ],
   "source": [
    "df2['dependency'] = (df2['imports'] - df2['exports']) / df2['gross_inland_consumption']\n",
    "df2"
   ]
  },
  {
   "cell_type": "code",
   "execution_count": 16,
   "metadata": {},
   "outputs": [],
   "source": [
    "df2.to_csv(\n",
    "    'balances_bioenergy_2002_2019_ktoe.csv',\n",
    "    decimal=',',\n",
    "    )"
   ]
  },
  {
   "cell_type": "code",
   "execution_count": 17,
   "metadata": {},
   "outputs": [],
   "source": [
    "df3 = df2.copy()"
   ]
  },
  {
   "cell_type": "code",
   "execution_count": 18,
   "metadata": {},
   "outputs": [
    {
     "data": {
      "text/html": [
       "<div>\n",
       "<style scoped>\n",
       "    .dataframe tbody tr th:only-of-type {\n",
       "        vertical-align: middle;\n",
       "    }\n",
       "\n",
       "    .dataframe tbody tr th {\n",
       "        vertical-align: top;\n",
       "    }\n",
       "\n",
       "    .dataframe thead th {\n",
       "        text-align: right;\n",
       "    }\n",
       "</style>\n",
       "<table border=\"1\" class=\"dataframe\">\n",
       "  <thead>\n",
       "    <tr style=\"text-align: right;\">\n",
       "      <th></th>\n",
       "      <th></th>\n",
       "      <th></th>\n",
       "      <th>exports</th>\n",
       "      <th>gross_inland_consumption</th>\n",
       "      <th>imports</th>\n",
       "      <th>primary_production</th>\n",
       "      <th>dependency</th>\n",
       "    </tr>\n",
       "    <tr>\n",
       "      <th>country</th>\n",
       "      <th>year</th>\n",
       "      <th>fuel</th>\n",
       "      <th></th>\n",
       "      <th></th>\n",
       "      <th></th>\n",
       "      <th></th>\n",
       "      <th></th>\n",
       "    </tr>\n",
       "  </thead>\n",
       "  <tbody>\n",
       "    <tr>\n",
       "      <th rowspan=\"5\" valign=\"top\">AT</th>\n",
       "      <th rowspan=\"5\" valign=\"top\">2002</th>\n",
       "      <th>bioenergy</th>\n",
       "      <td>8517.123504</td>\n",
       "      <td>121985.976780</td>\n",
       "      <td>8231.248800</td>\n",
       "      <td>122271.893352</td>\n",
       "      <td>-0.002344</td>\n",
       "    </tr>\n",
       "    <tr>\n",
       "      <th>biofuels</th>\n",
       "      <td>0.000000</td>\n",
       "      <td>851.888196</td>\n",
       "      <td>0.000000</td>\n",
       "      <td>851.888196</td>\n",
       "      <td>0.000000</td>\n",
       "    </tr>\n",
       "    <tr>\n",
       "      <th>biogas</th>\n",
       "      <td>0.000000</td>\n",
       "      <td>919.002600</td>\n",
       "      <td>0.000000</td>\n",
       "      <td>919.002600</td>\n",
       "      <td>0.000000</td>\n",
       "    </tr>\n",
       "    <tr>\n",
       "      <th>ren_mun_waste</th>\n",
       "      <td>0.000000</td>\n",
       "      <td>1970.015004</td>\n",
       "      <td>0.000000</td>\n",
       "      <td>1970.015004</td>\n",
       "      <td>0.000000</td>\n",
       "    </tr>\n",
       "    <tr>\n",
       "      <th>renewables</th>\n",
       "      <td>7233.994908</td>\n",
       "      <td>271396.498392</td>\n",
       "      <td>6886.992924</td>\n",
       "      <td>271743.500376</td>\n",
       "      <td>-0.001279</td>\n",
       "    </tr>\n",
       "    <tr>\n",
       "      <th>...</th>\n",
       "      <th>...</th>\n",
       "      <th>...</th>\n",
       "      <td>...</td>\n",
       "      <td>...</td>\n",
       "      <td>...</td>\n",
       "      <td>...</td>\n",
       "      <td>...</td>\n",
       "    </tr>\n",
       "    <tr>\n",
       "      <th rowspan=\"5\" valign=\"top\">XK</th>\n",
       "      <th rowspan=\"5\" valign=\"top\">2019</th>\n",
       "      <th>biogas</th>\n",
       "      <td>0.000000</td>\n",
       "      <td>0.000000</td>\n",
       "      <td>0.000000</td>\n",
       "      <td>0.000000</td>\n",
       "      <td>NaN</td>\n",
       "    </tr>\n",
       "    <tr>\n",
       "      <th>ren_mun_waste</th>\n",
       "      <td>0.000000</td>\n",
       "      <td>0.000000</td>\n",
       "      <td>0.000000</td>\n",
       "      <td>0.000000</td>\n",
       "      <td>NaN</td>\n",
       "    </tr>\n",
       "    <tr>\n",
       "      <th>renewables</th>\n",
       "      <td>1.758456</td>\n",
       "      <td>16846.008480</td>\n",
       "      <td>2336.904288</td>\n",
       "      <td>14510.862648</td>\n",
       "      <td>0.138617</td>\n",
       "    </tr>\n",
       "    <tr>\n",
       "      <th>solid_biomass</th>\n",
       "      <td>1.758456</td>\n",
       "      <td>15699.578904</td>\n",
       "      <td>2336.904288</td>\n",
       "      <td>13364.474940</td>\n",
       "      <td>0.148739</td>\n",
       "    </tr>\n",
       "    <tr>\n",
       "      <th>total</th>\n",
       "      <td>3950.580744</td>\n",
       "      <td>110742.869664</td>\n",
       "      <td>37274.661720</td>\n",
       "      <td>77418.788688</td>\n",
       "      <td>0.300914</td>\n",
       "    </tr>\n",
       "  </tbody>\n",
       "</table>\n",
       "<p>4536 rows × 5 columns</p>\n",
       "</div>"
      ],
      "text/plain": [
       "                                exports  gross_inland_consumption  \\\n",
       "country year fuel                                                   \n",
       "AT      2002 bioenergy      8517.123504             121985.976780   \n",
       "             biofuels          0.000000                851.888196   \n",
       "             biogas            0.000000                919.002600   \n",
       "             ren_mun_waste     0.000000               1970.015004   \n",
       "             renewables     7233.994908             271396.498392   \n",
       "...                                 ...                       ...   \n",
       "XK      2019 biogas            0.000000                  0.000000   \n",
       "             ren_mun_waste     0.000000                  0.000000   \n",
       "             renewables        1.758456              16846.008480   \n",
       "             solid_biomass     1.758456              15699.578904   \n",
       "             total          3950.580744             110742.869664   \n",
       "\n",
       "                                 imports  primary_production  dependency  \n",
       "country year fuel                                                         \n",
       "AT      2002 bioenergy       8231.248800       122271.893352   -0.002344  \n",
       "             biofuels           0.000000          851.888196    0.000000  \n",
       "             biogas             0.000000          919.002600    0.000000  \n",
       "             ren_mun_waste      0.000000         1970.015004    0.000000  \n",
       "             renewables      6886.992924       271743.500376   -0.001279  \n",
       "...                                  ...                 ...         ...  \n",
       "XK      2019 biogas             0.000000            0.000000         NaN  \n",
       "             ren_mun_waste      0.000000            0.000000         NaN  \n",
       "             renewables      2336.904288        14510.862648    0.138617  \n",
       "             solid_biomass   2336.904288        13364.474940    0.148739  \n",
       "             total          37274.661720        77418.788688    0.300914  \n",
       "\n",
       "[4536 rows x 5 columns]"
      ]
     },
     "execution_count": 18,
     "metadata": {},
     "output_type": "execute_result"
    }
   ],
   "source": [
    "tj_ktoe = 41.868\n",
    "\n",
    "df3 = df3.loc[:, 'exports': 'primary_production'] * tj_ktoe\n",
    "\n",
    "# Keep the share based on the original data in ktoe\n",
    "df3['dependency'] = df2['dependency']\n",
    "df3"
   ]
  },
  {
   "cell_type": "code",
   "execution_count": 19,
   "metadata": {},
   "outputs": [],
   "source": [
    "df3.to_csv(\n",
    "    'balances_bioenergy_2002_2019_tj.csv',\n",
    "    decimal=',',\n",
    "    )"
   ]
  },
  {
   "cell_type": "code",
   "execution_count": 20,
   "metadata": {},
   "outputs": [],
   "source": [
    "# Some minimal testing\n",
    "idx = pd.IndexSlice"
   ]
  },
  {
   "cell_type": "code",
   "execution_count": 21,
   "metadata": {},
   "outputs": [
    {
     "data": {
      "text/plain": [
       "exports    549.453\n",
       "Name: (CZ, 2018, bioenergy), dtype: float64"
      ]
     },
     "execution_count": 21,
     "metadata": {},
     "output_type": "execute_result"
    }
   ],
   "source": [
    "df2.loc[idx['CZ', 2018, 'bioenergy'], ['exports']]"
   ]
  },
  {
   "cell_type": "code",
   "execution_count": 22,
   "metadata": {},
   "outputs": [],
   "source": [
    "assert df2.loc[idx['CZ', 2018, 'bioenergy'], ['exports']].item() == 549.453"
   ]
  },
  {
   "cell_type": "code",
   "execution_count": 23,
   "metadata": {},
   "outputs": [
    {
     "data": {
      "text/plain": [
       "primary_production    2761.8\n",
       "Name: (CZ, 2009, bioenergy), dtype: float64"
      ]
     },
     "execution_count": 23,
     "metadata": {},
     "output_type": "execute_result"
    }
   ],
   "source": [
    "df2.loc[idx['CZ', 2009, 'bioenergy'], ['primary_production']]"
   ]
  },
  {
   "cell_type": "code",
   "execution_count": 24,
   "metadata": {},
   "outputs": [],
   "source": [
    "assert df2.loc[idx['CZ', 2009, 'bioenergy'], ['primary_production']].item() == 2761.8"
   ]
  },
  {
   "cell_type": "code",
   "execution_count": 25,
   "metadata": {},
   "outputs": [
    {
     "data": {
      "text/plain": [
       "exports                      318.821000\n",
       "gross_inland_consumption    2568.609000\n",
       "imports                      123.617000\n",
       "primary_production          2761.800000\n",
       "dependency                    -0.075996\n",
       "Name: (CZ, 2009, bioenergy), dtype: float64"
      ]
     },
     "execution_count": 25,
     "metadata": {},
     "output_type": "execute_result"
    }
   ],
   "source": [
    "result_cz_2009_bioenergy = df2.loc[idx['CZ', 2009, 'bioenergy']]\n",
    "result_cz_2009_bioenergy"
   ]
  },
  {
   "cell_type": "code",
   "execution_count": 26,
   "metadata": {},
   "outputs": [],
   "source": [
    "cz_2009_bioenergy = pd.Series(\n",
    "    {'exports': 318.821,\n",
    "     'gross_inland_consumption': 2568.609,\n",
    "     'imports': 123.617,\n",
    "     'primary_production': 2761.8,\n",
    "     'dependency': -0.075996,\n",
    "    })"
   ]
  },
  {
   "cell_type": "code",
   "execution_count": 27,
   "metadata": {},
   "outputs": [],
   "source": [
    "cz_2009_bioenergy\n",
    "cz_2009_bioenergy.name = ('CZ', 2009, 'bioenergy')"
   ]
  },
  {
   "cell_type": "code",
   "execution_count": 28,
   "metadata": {},
   "outputs": [],
   "source": [
    "pd.testing.assert_series_equal(cz_2009_bioenergy, result_cz_2009_bioenergy)"
   ]
  },
  {
   "cell_type": "code",
   "execution_count": null,
   "metadata": {},
   "outputs": [],
   "source": []
  }
 ],
 "metadata": {
  "kernelspec": {
   "display_name": "Python 3",
   "language": "python",
   "name": "python3"
  },
  "language_info": {
   "codemirror_mode": {
    "name": "ipython",
    "version": 3
   },
   "file_extension": ".py",
   "mimetype": "text/x-python",
   "name": "python",
   "nbconvert_exporter": "python",
   "pygments_lexer": "ipython3",
   "version": "3.7.0"
  }
 },
 "nbformat": 4,
 "nbformat_minor": 2
}
