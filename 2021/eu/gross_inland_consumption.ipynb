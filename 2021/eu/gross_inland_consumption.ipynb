{
 "cells": [
  {
   "source": [
    "# Gross inland consumption of bioenergy in the EU27\n",
    "\n",
    "Based on Eurostat [energy balances](https://ec.europa.eu/eurostat/web/energy/data/energy-balances) data from 2021. \n",
    "\n",
    "Methology of energy balances is different from the [SHARES](https://ec.europa.eu/eurostat/web/energy/data/shares) database which is used to identify share of renewables on final energy consumption."
   ],
   "cell_type": "markdown",
   "metadata": {}
  },
  {
   "cell_type": "code",
   "execution_count": 1,
   "id": "closed-england",
   "metadata": {},
   "outputs": [],
   "source": [
    "import pandas as pd\n",
    "import os"
   ]
  },
  {
   "cell_type": "code",
   "execution_count": 2,
   "metadata": {},
   "outputs": [],
   "source": [
    "# Get iso codes of EU member states from wikipedia\n",
    "eu_df = pd.read_html('https://en.wikipedia.org/wiki/Member_state_of_the_European_Union')[1]\n",
    "member = eu_df.loc[:26, 'ISO 3166-1 alpha-2']"
   ]
  },
  {
   "cell_type": "code",
   "execution_count": 3,
   "id": "convinced-delaware",
   "metadata": {},
   "outputs": [],
   "source": [
    "# Get iso codes of all countries from wikipedia\n",
    "iso_df = pd.read_html('https://en.wikipedia.org/wiki/ISO_3166-1')[1]"
   ]
  },
  {
   "cell_type": "code",
   "execution_count": 4,
   "metadata": {},
   "outputs": [],
   "source": [
    "# Rename default columns for easier merging\n",
    "iso_df = iso_df[['Alpha-2 code', 'English short name (using title case)']]\n",
    "iso_df = iso_df.rename(columns={'Alpha-2 code': 'alpha_2', 'English short name (using title case)': 'country'})"
   ]
  },
  {
   "cell_type": "code",
   "execution_count": 5,
   "id": "eleven-award",
   "metadata": {},
   "outputs": [],
   "source": [
    "# Load Eurostat balances csv for bioenergy\n",
    "csvfile = os.path.abspath('balances_bioenergy_2002_2019_tj.csv')\n",
    "df0 = pd.read_csv(csvfile, delimiter=',', decimal=',')"
   ]
  },
  {
   "cell_type": "code",
   "execution_count": 6,
   "metadata": {},
   "outputs": [],
   "source": [
    "# Change country code for Greece (Eurostat uses 'EL' to encode the file)\n",
    "df0.loc[df0['country'] == 'EL', 'country'] = 'GR'"
   ]
  },
  {
   "cell_type": "code",
   "execution_count": 7,
   "metadata": {},
   "outputs": [],
   "source": [
    "# Merge to have human readable country names\n",
    "df0.rename(columns={'country': 'alpha_2'}, inplace=True)\n",
    "df0 = df0[df0['alpha_2'].isin(member)]\n",
    "df = df0.merge(iso_df, on='alpha_2', how='left')"
   ]
  },
  {
   "cell_type": "code",
   "execution_count": 8,
   "metadata": {},
   "outputs": [
    {
     "output_type": "execute_result",
     "data": {
      "text/plain": [
       "     alpha_2  year           fuel        exports  gross_inland_consumption  \\\n",
       "1008      GR  2002      bioenergy      14.151384              4.172305e+04   \n",
       "1009      GR  2002       biofuels       0.000000              0.000000e+00   \n",
       "1010      GR  2002         biogas       0.000000              2.029007e+03   \n",
       "1011      GR  2002  ren_mun_waste       0.000000              0.000000e+00   \n",
       "1012      GR  2002     renewables       0.000000              6.096659e+04   \n",
       "...      ...   ...            ...            ...                       ...   \n",
       "1129      GR  2019         biogas       0.000000              5.232830e+03   \n",
       "1130      GR  2019  ren_mun_waste       0.000000              0.000000e+00   \n",
       "1131      GR  2019     renewables    1048.709664              1.323849e+05   \n",
       "1132      GR  2019  solid_biomass     263.014776              3.393372e+04   \n",
       "1133      GR  2019          total  781912.784088              1.068747e+06   \n",
       "\n",
       "           imports  primary_production  dependency country  \n",
       "1008  3.822548e+01        41699.020752    0.000577  Greece  \n",
       "1009  0.000000e+00            0.000000         NaN  Greece  \n",
       "1010  0.000000e+00         2029.007016    0.000000  Greece  \n",
       "1011  0.000000e+00            0.000000         NaN  Greece  \n",
       "1012  0.000000e+00        60966.590616    0.000000  Greece  \n",
       "...            ...                 ...         ...     ...  \n",
       "1129  0.000000e+00         5232.830112    0.000000  Greece  \n",
       "1130  0.000000e+00            0.000000         NaN  Greece  \n",
       "1131  5.414077e+03       128188.176696    0.032975  Greece  \n",
       "1132  1.919606e+03        32277.087900    0.048818  Greece  \n",
       "1133  1.590457e+06       351908.243712    0.756535  Greece  \n",
       "\n",
       "[126 rows x 9 columns]"
      ],
      "text/html": "<div>\n<style scoped>\n    .dataframe tbody tr th:only-of-type {\n        vertical-align: middle;\n    }\n\n    .dataframe tbody tr th {\n        vertical-align: top;\n    }\n\n    .dataframe thead th {\n        text-align: right;\n    }\n</style>\n<table border=\"1\" class=\"dataframe\">\n  <thead>\n    <tr style=\"text-align: right;\">\n      <th></th>\n      <th>alpha_2</th>\n      <th>year</th>\n      <th>fuel</th>\n      <th>exports</th>\n      <th>gross_inland_consumption</th>\n      <th>imports</th>\n      <th>primary_production</th>\n      <th>dependency</th>\n      <th>country</th>\n    </tr>\n  </thead>\n  <tbody>\n    <tr>\n      <th>1008</th>\n      <td>GR</td>\n      <td>2002</td>\n      <td>bioenergy</td>\n      <td>14.151384</td>\n      <td>4.172305e+04</td>\n      <td>3.822548e+01</td>\n      <td>41699.020752</td>\n      <td>0.000577</td>\n      <td>Greece</td>\n    </tr>\n    <tr>\n      <th>1009</th>\n      <td>GR</td>\n      <td>2002</td>\n      <td>biofuels</td>\n      <td>0.000000</td>\n      <td>0.000000e+00</td>\n      <td>0.000000e+00</td>\n      <td>0.000000</td>\n      <td>NaN</td>\n      <td>Greece</td>\n    </tr>\n    <tr>\n      <th>1010</th>\n      <td>GR</td>\n      <td>2002</td>\n      <td>biogas</td>\n      <td>0.000000</td>\n      <td>2.029007e+03</td>\n      <td>0.000000e+00</td>\n      <td>2029.007016</td>\n      <td>0.000000</td>\n      <td>Greece</td>\n    </tr>\n    <tr>\n      <th>1011</th>\n      <td>GR</td>\n      <td>2002</td>\n      <td>ren_mun_waste</td>\n      <td>0.000000</td>\n      <td>0.000000e+00</td>\n      <td>0.000000e+00</td>\n      <td>0.000000</td>\n      <td>NaN</td>\n      <td>Greece</td>\n    </tr>\n    <tr>\n      <th>1012</th>\n      <td>GR</td>\n      <td>2002</td>\n      <td>renewables</td>\n      <td>0.000000</td>\n      <td>6.096659e+04</td>\n      <td>0.000000e+00</td>\n      <td>60966.590616</td>\n      <td>0.000000</td>\n      <td>Greece</td>\n    </tr>\n    <tr>\n      <th>...</th>\n      <td>...</td>\n      <td>...</td>\n      <td>...</td>\n      <td>...</td>\n      <td>...</td>\n      <td>...</td>\n      <td>...</td>\n      <td>...</td>\n      <td>...</td>\n    </tr>\n    <tr>\n      <th>1129</th>\n      <td>GR</td>\n      <td>2019</td>\n      <td>biogas</td>\n      <td>0.000000</td>\n      <td>5.232830e+03</td>\n      <td>0.000000e+00</td>\n      <td>5232.830112</td>\n      <td>0.000000</td>\n      <td>Greece</td>\n    </tr>\n    <tr>\n      <th>1130</th>\n      <td>GR</td>\n      <td>2019</td>\n      <td>ren_mun_waste</td>\n      <td>0.000000</td>\n      <td>0.000000e+00</td>\n      <td>0.000000e+00</td>\n      <td>0.000000</td>\n      <td>NaN</td>\n      <td>Greece</td>\n    </tr>\n    <tr>\n      <th>1131</th>\n      <td>GR</td>\n      <td>2019</td>\n      <td>renewables</td>\n      <td>1048.709664</td>\n      <td>1.323849e+05</td>\n      <td>5.414077e+03</td>\n      <td>128188.176696</td>\n      <td>0.032975</td>\n      <td>Greece</td>\n    </tr>\n    <tr>\n      <th>1132</th>\n      <td>GR</td>\n      <td>2019</td>\n      <td>solid_biomass</td>\n      <td>263.014776</td>\n      <td>3.393372e+04</td>\n      <td>1.919606e+03</td>\n      <td>32277.087900</td>\n      <td>0.048818</td>\n      <td>Greece</td>\n    </tr>\n    <tr>\n      <th>1133</th>\n      <td>GR</td>\n      <td>2019</td>\n      <td>total</td>\n      <td>781912.784088</td>\n      <td>1.068747e+06</td>\n      <td>1.590457e+06</td>\n      <td>351908.243712</td>\n      <td>0.756535</td>\n      <td>Greece</td>\n    </tr>\n  </tbody>\n</table>\n<p>126 rows × 9 columns</p>\n</div>"
     },
     "metadata": {},
     "execution_count": 8
    }
   ],
   "source": [
    "df.head()\n",
    "df[df['country'] == 'Greece']"
   ]
  },
  {
   "cell_type": "code",
   "execution_count": 9,
   "metadata": {},
   "outputs": [
    {
     "output_type": "stream",
     "name": "stdout",
     "text": [
      "<class 'pandas.core.frame.DataFrame'>\nInt64Index: 3402 entries, 0 to 3401\nData columns (total 9 columns):\n #   Column                    Non-Null Count  Dtype  \n---  ------                    --------------  -----  \n 0   alpha_2                   3402 non-null   object \n 1   year                      3402 non-null   int64  \n 2   fuel                      3402 non-null   object \n 3   exports                   3402 non-null   float64\n 4   gross_inland_consumption  3402 non-null   float64\n 5   imports                   3402 non-null   float64\n 6   primary_production        3402 non-null   float64\n 7   dependency                3150 non-null   float64\n 8   country                   3402 non-null   object \ndtypes: float64(5), int64(1), object(3)\nmemory usage: 265.8+ KB\n"
     ]
    }
   ],
   "source": [
    "df.info()"
   ]
  },
  {
   "cell_type": "code",
   "execution_count": 10,
   "metadata": {},
   "outputs": [],
   "source": [
    "bioenergy = df['fuel'] == 'bioenergy'\n",
    "total = df['fuel'] == 'total'\n",
    "res = df['fuel'] == 'renewables'"
   ]
  },
  {
   "source": [
    "## Gross inland consumption of bioenergy"
   ],
   "cell_type": "markdown",
   "metadata": {}
  },
  {
   "cell_type": "code",
   "execution_count": 11,
   "metadata": {},
   "outputs": [
    {
     "output_type": "execute_result",
     "data": {
      "text/plain": [
       "            Austria       Belgium      Bulgaria       Croatia      Cyprus  \\\n",
       "Year                                                                        \n",
       "2002  121985.976780  28346.980608  26769.017556  43865.019864  516.986064   \n",
       "2003  126972.078768  35113.686768  28538.987256  50698.003068  604.992600   \n",
       "2004  128553.433128  38901.275388  29621.986812  49787.080992  556.802532   \n",
       "2005  154127.956644  46704.926304  28980.987732  52238.871072  516.399912   \n",
       "2006  179539.069356  55181.437848  31053.286260  48550.174668  521.382204   \n",
       "\n",
       "           Czechia       Denmark       Estonia        Finland         France  \\\n",
       "Year                                                                           \n",
       "2002  72605.182860  69169.201704  22918.291992  292090.469148  400732.528176   \n",
       "2003  71296.179840  78701.707944  24086.827872  295242.501528  424164.875472   \n",
       "2004  76443.013080  86527.339560  24945.205608  310402.443780  432107.193204   \n",
       "2005  78234.461064  94692.562524  24355.452960  296555.021460  457780.567068   \n",
       "2006  82671.003684  96245.321040  21936.822336  327295.595628  421888.470444   \n",
       "\n",
       "      ...   Luxembourg  Malta   Netherlands         Poland       Portugal  \\\n",
       "Year  ...                                                                   \n",
       "2002  ...  1236.529512    0.0  62195.918832  164661.610500  115218.391392   \n",
       "2003  ...  1462.072428    0.0  59282.366580  166789.635336  115339.641120   \n",
       "2004  ...  1657.554120    0.0  68960.322252  172360.172736  117275.575572   \n",
       "2005  ...  2518.653276    0.0  88970.462964  178559.986176  119244.543876   \n",
       "2006  ...  2636.721036    0.0  92946.331980  187260.282180  122623.542684   \n",
       "\n",
       "            Romania      Slovakia      Slovenia          Spain         Sweden  \n",
       "Year                                                                           \n",
       "2002   98477.429724  11786.511888  22816.636488  176862.950532  308707.920216  \n",
       "2003  119058.608088  14156.952444  25428.236724  193688.820504  325832.937048  \n",
       "2004  131216.698476  15423.082632  25163.463492  197991.594864  332264.824812  \n",
       "2005  133346.942316  16783.122744  29706.183360  206199.816264  343611.555228  \n",
       "2006  133336.893996  18589.643208  26416.656468  202487.506308  368384.306544  \n",
       "\n",
       "[5 rows x 27 columns]"
      ],
      "text/html": "<div>\n<style scoped>\n    .dataframe tbody tr th:only-of-type {\n        vertical-align: middle;\n    }\n\n    .dataframe tbody tr th {\n        vertical-align: top;\n    }\n\n    .dataframe thead th {\n        text-align: right;\n    }\n</style>\n<table border=\"1\" class=\"dataframe\">\n  <thead>\n    <tr style=\"text-align: right;\">\n      <th></th>\n      <th>Austria</th>\n      <th>Belgium</th>\n      <th>Bulgaria</th>\n      <th>Croatia</th>\n      <th>Cyprus</th>\n      <th>Czechia</th>\n      <th>Denmark</th>\n      <th>Estonia</th>\n      <th>Finland</th>\n      <th>France</th>\n      <th>...</th>\n      <th>Luxembourg</th>\n      <th>Malta</th>\n      <th>Netherlands</th>\n      <th>Poland</th>\n      <th>Portugal</th>\n      <th>Romania</th>\n      <th>Slovakia</th>\n      <th>Slovenia</th>\n      <th>Spain</th>\n      <th>Sweden</th>\n    </tr>\n    <tr>\n      <th>Year</th>\n      <th></th>\n      <th></th>\n      <th></th>\n      <th></th>\n      <th></th>\n      <th></th>\n      <th></th>\n      <th></th>\n      <th></th>\n      <th></th>\n      <th></th>\n      <th></th>\n      <th></th>\n      <th></th>\n      <th></th>\n      <th></th>\n      <th></th>\n      <th></th>\n      <th></th>\n      <th></th>\n      <th></th>\n    </tr>\n  </thead>\n  <tbody>\n    <tr>\n      <th>2002</th>\n      <td>121985.976780</td>\n      <td>28346.980608</td>\n      <td>26769.017556</td>\n      <td>43865.019864</td>\n      <td>516.986064</td>\n      <td>72605.182860</td>\n      <td>69169.201704</td>\n      <td>22918.291992</td>\n      <td>292090.469148</td>\n      <td>400732.528176</td>\n      <td>...</td>\n      <td>1236.529512</td>\n      <td>0.0</td>\n      <td>62195.918832</td>\n      <td>164661.610500</td>\n      <td>115218.391392</td>\n      <td>98477.429724</td>\n      <td>11786.511888</td>\n      <td>22816.636488</td>\n      <td>176862.950532</td>\n      <td>308707.920216</td>\n    </tr>\n    <tr>\n      <th>2003</th>\n      <td>126972.078768</td>\n      <td>35113.686768</td>\n      <td>28538.987256</td>\n      <td>50698.003068</td>\n      <td>604.992600</td>\n      <td>71296.179840</td>\n      <td>78701.707944</td>\n      <td>24086.827872</td>\n      <td>295242.501528</td>\n      <td>424164.875472</td>\n      <td>...</td>\n      <td>1462.072428</td>\n      <td>0.0</td>\n      <td>59282.366580</td>\n      <td>166789.635336</td>\n      <td>115339.641120</td>\n      <td>119058.608088</td>\n      <td>14156.952444</td>\n      <td>25428.236724</td>\n      <td>193688.820504</td>\n      <td>325832.937048</td>\n    </tr>\n    <tr>\n      <th>2004</th>\n      <td>128553.433128</td>\n      <td>38901.275388</td>\n      <td>29621.986812</td>\n      <td>49787.080992</td>\n      <td>556.802532</td>\n      <td>76443.013080</td>\n      <td>86527.339560</td>\n      <td>24945.205608</td>\n      <td>310402.443780</td>\n      <td>432107.193204</td>\n      <td>...</td>\n      <td>1657.554120</td>\n      <td>0.0</td>\n      <td>68960.322252</td>\n      <td>172360.172736</td>\n      <td>117275.575572</td>\n      <td>131216.698476</td>\n      <td>15423.082632</td>\n      <td>25163.463492</td>\n      <td>197991.594864</td>\n      <td>332264.824812</td>\n    </tr>\n    <tr>\n      <th>2005</th>\n      <td>154127.956644</td>\n      <td>46704.926304</td>\n      <td>28980.987732</td>\n      <td>52238.871072</td>\n      <td>516.399912</td>\n      <td>78234.461064</td>\n      <td>94692.562524</td>\n      <td>24355.452960</td>\n      <td>296555.021460</td>\n      <td>457780.567068</td>\n      <td>...</td>\n      <td>2518.653276</td>\n      <td>0.0</td>\n      <td>88970.462964</td>\n      <td>178559.986176</td>\n      <td>119244.543876</td>\n      <td>133346.942316</td>\n      <td>16783.122744</td>\n      <td>29706.183360</td>\n      <td>206199.816264</td>\n      <td>343611.555228</td>\n    </tr>\n    <tr>\n      <th>2006</th>\n      <td>179539.069356</td>\n      <td>55181.437848</td>\n      <td>31053.286260</td>\n      <td>48550.174668</td>\n      <td>521.382204</td>\n      <td>82671.003684</td>\n      <td>96245.321040</td>\n      <td>21936.822336</td>\n      <td>327295.595628</td>\n      <td>421888.470444</td>\n      <td>...</td>\n      <td>2636.721036</td>\n      <td>0.0</td>\n      <td>92946.331980</td>\n      <td>187260.282180</td>\n      <td>122623.542684</td>\n      <td>133336.893996</td>\n      <td>18589.643208</td>\n      <td>26416.656468</td>\n      <td>202487.506308</td>\n      <td>368384.306544</td>\n    </tr>\n  </tbody>\n</table>\n<p>5 rows × 27 columns</p>\n</div>"
     },
     "metadata": {},
     "execution_count": 11
    }
   ],
   "source": [
    "consumption_bioenergy = df.loc[\n",
    "    bioenergy,\n",
    "    ['year', 'country', 'gross_inland_consumption']\n",
    "    ].pivot(\n",
    "        index='year',\n",
    "        columns='country'\n",
    "    ).droplevel(0, axis=1)\n",
    "    \n",
    "consumption_bioenergy.index.name = 'Year'\n",
    "consumption_bioenergy.columns.name = None\n",
    "consumption_bioenergy.head()"
   ]
  },
  {
   "cell_type": "code",
   "execution_count": 12,
   "metadata": {},
   "outputs": [],
   "source": [
    "consumption_bioenergy.to_csv('gross_inland_consumption_eu_tj.csv')"
   ]
  },
  {
   "cell_type": "code",
   "execution_count": 13,
   "metadata": {},
   "outputs": [],
   "source": [
    "consumption = df.loc[:, ['country', 'year', 'fuel', 'gross_inland_consumption']].pivot(index=['country', 'year'], columns='fuel').droplevel(0, axis=1).reset_index()"
   ]
  },
  {
   "source": [
    "## Transformations to get shares"
   ],
   "cell_type": "markdown",
   "metadata": {}
  },
  {
   "cell_type": "code",
   "execution_count": 14,
   "metadata": {},
   "outputs": [
    {
     "output_type": "execute_result",
     "data": {
      "text/plain": [
       "   country  year      bioenergy      biofuels       biogas  ren_mun_waste  \\\n",
       "0  Austria  2002  121985.976780    851.888196   919.002600    1970.015004   \n",
       "1  Austria  2003  126972.078768    864.867276  1099.997964    2263.007268   \n",
       "2  Austria  2004  128553.433128   1420.706844  1198.010952    2872.982160   \n",
       "3  Austria  2005  154127.956644   4619.254572  4961.232396    3076.293168   \n",
       "4  Austria  2006  179539.069356  13431.966156  6799.656276    4213.218708   \n",
       "\n",
       "      renewables  solid_biomass         total  share_bioenergy_total  \\\n",
       "0  271396.498392  117873.994896  1.297996e+06               0.093980   \n",
       "1  251923.942800  121819.007196  1.366498e+06               0.092918   \n",
       "2  268711.838496  122327.996472  1.392073e+06               0.092347   \n",
       "3  300379.621392  140803.716852  1.439308e+06               0.107085   \n",
       "4  322397.709516  153585.389232  1.452296e+06               0.123624   \n",
       "\n",
       "   share_bioenergy_renewables  share_renewables_total  \n",
       "0                    0.449475                0.209089  \n",
       "1                    0.504010                0.184357  \n",
       "2                    0.478406                0.193030  \n",
       "3                    0.513111                0.208697  \n",
       "4                    0.556887                0.221992  "
      ],
      "text/html": "<div>\n<style scoped>\n    .dataframe tbody tr th:only-of-type {\n        vertical-align: middle;\n    }\n\n    .dataframe tbody tr th {\n        vertical-align: top;\n    }\n\n    .dataframe thead th {\n        text-align: right;\n    }\n</style>\n<table border=\"1\" class=\"dataframe\">\n  <thead>\n    <tr style=\"text-align: right;\">\n      <th></th>\n      <th>country</th>\n      <th>year</th>\n      <th>bioenergy</th>\n      <th>biofuels</th>\n      <th>biogas</th>\n      <th>ren_mun_waste</th>\n      <th>renewables</th>\n      <th>solid_biomass</th>\n      <th>total</th>\n      <th>share_bioenergy_total</th>\n      <th>share_bioenergy_renewables</th>\n      <th>share_renewables_total</th>\n    </tr>\n  </thead>\n  <tbody>\n    <tr>\n      <th>0</th>\n      <td>Austria</td>\n      <td>2002</td>\n      <td>121985.976780</td>\n      <td>851.888196</td>\n      <td>919.002600</td>\n      <td>1970.015004</td>\n      <td>271396.498392</td>\n      <td>117873.994896</td>\n      <td>1.297996e+06</td>\n      <td>0.093980</td>\n      <td>0.449475</td>\n      <td>0.209089</td>\n    </tr>\n    <tr>\n      <th>1</th>\n      <td>Austria</td>\n      <td>2003</td>\n      <td>126972.078768</td>\n      <td>864.867276</td>\n      <td>1099.997964</td>\n      <td>2263.007268</td>\n      <td>251923.942800</td>\n      <td>121819.007196</td>\n      <td>1.366498e+06</td>\n      <td>0.092918</td>\n      <td>0.504010</td>\n      <td>0.184357</td>\n    </tr>\n    <tr>\n      <th>2</th>\n      <td>Austria</td>\n      <td>2004</td>\n      <td>128553.433128</td>\n      <td>1420.706844</td>\n      <td>1198.010952</td>\n      <td>2872.982160</td>\n      <td>268711.838496</td>\n      <td>122327.996472</td>\n      <td>1.392073e+06</td>\n      <td>0.092347</td>\n      <td>0.478406</td>\n      <td>0.193030</td>\n    </tr>\n    <tr>\n      <th>3</th>\n      <td>Austria</td>\n      <td>2005</td>\n      <td>154127.956644</td>\n      <td>4619.254572</td>\n      <td>4961.232396</td>\n      <td>3076.293168</td>\n      <td>300379.621392</td>\n      <td>140803.716852</td>\n      <td>1.439308e+06</td>\n      <td>0.107085</td>\n      <td>0.513111</td>\n      <td>0.208697</td>\n    </tr>\n    <tr>\n      <th>4</th>\n      <td>Austria</td>\n      <td>2006</td>\n      <td>179539.069356</td>\n      <td>13431.966156</td>\n      <td>6799.656276</td>\n      <td>4213.218708</td>\n      <td>322397.709516</td>\n      <td>153585.389232</td>\n      <td>1.452296e+06</td>\n      <td>0.123624</td>\n      <td>0.556887</td>\n      <td>0.221992</td>\n    </tr>\n  </tbody>\n</table>\n</div>"
     },
     "metadata": {},
     "execution_count": 14
    }
   ],
   "source": [
    "consumption.columns.name = None\n",
    "consumption['share_bioenergy_total'] = consumption['bioenergy'] / consumption['total']\n",
    "consumption['share_bioenergy_renewables'] = consumption['bioenergy'] / consumption['renewables']\n",
    "consumption['share_renewables_total'] = consumption['renewables'] / consumption['total']\n",
    "consumption.head()"
   ]
  },
  {
   "cell_type": "code",
   "execution_count": 15,
   "metadata": {},
   "outputs": [
    {
     "output_type": "execute_result",
     "data": {
      "text/plain": [
       "   country  year  share_bioenergy_total  share_bioenergy_renewables  \\\n",
       "0  Austria  2002               0.093980                    0.449475   \n",
       "1  Austria  2003               0.092918                    0.504010   \n",
       "2  Austria  2004               0.092347                    0.478406   \n",
       "3  Austria  2005               0.107085                    0.513111   \n",
       "4  Austria  2006               0.123624                    0.556887   \n",
       "\n",
       "   share_renewables_total  \n",
       "0                0.209089  \n",
       "1                0.184357  \n",
       "2                0.193030  \n",
       "3                0.208697  \n",
       "4                0.221992  "
      ],
      "text/html": "<div>\n<style scoped>\n    .dataframe tbody tr th:only-of-type {\n        vertical-align: middle;\n    }\n\n    .dataframe tbody tr th {\n        vertical-align: top;\n    }\n\n    .dataframe thead th {\n        text-align: right;\n    }\n</style>\n<table border=\"1\" class=\"dataframe\">\n  <thead>\n    <tr style=\"text-align: right;\">\n      <th></th>\n      <th>country</th>\n      <th>year</th>\n      <th>share_bioenergy_total</th>\n      <th>share_bioenergy_renewables</th>\n      <th>share_renewables_total</th>\n    </tr>\n  </thead>\n  <tbody>\n    <tr>\n      <th>0</th>\n      <td>Austria</td>\n      <td>2002</td>\n      <td>0.093980</td>\n      <td>0.449475</td>\n      <td>0.209089</td>\n    </tr>\n    <tr>\n      <th>1</th>\n      <td>Austria</td>\n      <td>2003</td>\n      <td>0.092918</td>\n      <td>0.504010</td>\n      <td>0.184357</td>\n    </tr>\n    <tr>\n      <th>2</th>\n      <td>Austria</td>\n      <td>2004</td>\n      <td>0.092347</td>\n      <td>0.478406</td>\n      <td>0.193030</td>\n    </tr>\n    <tr>\n      <th>3</th>\n      <td>Austria</td>\n      <td>2005</td>\n      <td>0.107085</td>\n      <td>0.513111</td>\n      <td>0.208697</td>\n    </tr>\n    <tr>\n      <th>4</th>\n      <td>Austria</td>\n      <td>2006</td>\n      <td>0.123624</td>\n      <td>0.556887</td>\n      <td>0.221992</td>\n    </tr>\n  </tbody>\n</table>\n</div>"
     },
     "metadata": {},
     "execution_count": 15
    }
   ],
   "source": [
    "consumption[['country', 'year', 'share_bioenergy_total', 'share_bioenergy_renewables', 'share_renewables_total']].head()"
   ]
  },
  {
   "source": [
    "## Share of bioenergy on total gross inland consumption"
   ],
   "cell_type": "markdown",
   "metadata": {}
  },
  {
   "cell_type": "code",
   "execution_count": 16,
   "metadata": {},
   "outputs": [
    {
     "output_type": "execute_result",
     "data": {
      "text/plain": [
       "       Austria   Belgium  Bulgaria   Croatia    Cyprus   Czechia   Denmark  \\\n",
       "Year                                                                         \n",
       "2015  0.176236  0.055959  0.064843  0.156554  0.024602  0.090394  0.208182   \n",
       "2016  0.172789  0.055098  0.071315  0.153342  0.024176  0.092164  0.215620   \n",
       "2017  0.170400  0.055799  0.069153  0.150061  0.028735  0.089991  0.233234   \n",
       "2018  0.165480  0.058355  0.089229  0.159569  0.031332  0.089904  0.233068   \n",
       "2019  0.158609  0.052816  0.095245  0.166324  0.031570  0.097571  0.247394   \n",
       "\n",
       "       Estonia   Finland    France  ...  Luxembourg     Malta  Netherlands  \\\n",
       "Year                                ...                                      \n",
       "2015  0.158718  0.278273  0.056430  ...    0.049331  0.011341     0.035873   \n",
       "2016  0.155307  0.274516  0.061648  ...    0.054918  0.013799     0.035042   \n",
       "2017  0.171782  0.288335  0.061757  ...    0.062505  0.013392     0.035811   \n",
       "2018  0.174775  0.291342  0.062349  ...    0.068557  0.016100     0.040075   \n",
       "2019  0.237399  0.302785  0.064178  ...    0.076773  0.016132     0.047351   \n",
       "\n",
       "        Poland  Portugal   Romania  Slovakia  Slovenia     Spain    Sweden  \n",
       "Year                                                                        \n",
       "2015  0.081420  0.122884  0.117062  0.073765  0.109165  0.055193  0.234502  \n",
       "2016  0.073668  0.121626  0.122016  0.070771  0.103984  0.056061  0.233755  \n",
       "2017  0.069166  0.117109  0.117926  0.068258  0.098473  0.056153  0.244346  \n",
       "2018  0.071266  0.120878  0.112553  0.071876  0.096605  0.059069  0.228121  \n",
       "2019  0.077589  0.127720  0.117750  0.101621  0.098867  0.060942  0.242913  \n",
       "\n",
       "[5 rows x 27 columns]"
      ],
      "text/html": "<div>\n<style scoped>\n    .dataframe tbody tr th:only-of-type {\n        vertical-align: middle;\n    }\n\n    .dataframe tbody tr th {\n        vertical-align: top;\n    }\n\n    .dataframe thead th {\n        text-align: right;\n    }\n</style>\n<table border=\"1\" class=\"dataframe\">\n  <thead>\n    <tr style=\"text-align: right;\">\n      <th></th>\n      <th>Austria</th>\n      <th>Belgium</th>\n      <th>Bulgaria</th>\n      <th>Croatia</th>\n      <th>Cyprus</th>\n      <th>Czechia</th>\n      <th>Denmark</th>\n      <th>Estonia</th>\n      <th>Finland</th>\n      <th>France</th>\n      <th>...</th>\n      <th>Luxembourg</th>\n      <th>Malta</th>\n      <th>Netherlands</th>\n      <th>Poland</th>\n      <th>Portugal</th>\n      <th>Romania</th>\n      <th>Slovakia</th>\n      <th>Slovenia</th>\n      <th>Spain</th>\n      <th>Sweden</th>\n    </tr>\n    <tr>\n      <th>Year</th>\n      <th></th>\n      <th></th>\n      <th></th>\n      <th></th>\n      <th></th>\n      <th></th>\n      <th></th>\n      <th></th>\n      <th></th>\n      <th></th>\n      <th></th>\n      <th></th>\n      <th></th>\n      <th></th>\n      <th></th>\n      <th></th>\n      <th></th>\n      <th></th>\n      <th></th>\n      <th></th>\n      <th></th>\n    </tr>\n  </thead>\n  <tbody>\n    <tr>\n      <th>2015</th>\n      <td>0.176236</td>\n      <td>0.055959</td>\n      <td>0.064843</td>\n      <td>0.156554</td>\n      <td>0.024602</td>\n      <td>0.090394</td>\n      <td>0.208182</td>\n      <td>0.158718</td>\n      <td>0.278273</td>\n      <td>0.056430</td>\n      <td>...</td>\n      <td>0.049331</td>\n      <td>0.011341</td>\n      <td>0.035873</td>\n      <td>0.081420</td>\n      <td>0.122884</td>\n      <td>0.117062</td>\n      <td>0.073765</td>\n      <td>0.109165</td>\n      <td>0.055193</td>\n      <td>0.234502</td>\n    </tr>\n    <tr>\n      <th>2016</th>\n      <td>0.172789</td>\n      <td>0.055098</td>\n      <td>0.071315</td>\n      <td>0.153342</td>\n      <td>0.024176</td>\n      <td>0.092164</td>\n      <td>0.215620</td>\n      <td>0.155307</td>\n      <td>0.274516</td>\n      <td>0.061648</td>\n      <td>...</td>\n      <td>0.054918</td>\n      <td>0.013799</td>\n      <td>0.035042</td>\n      <td>0.073668</td>\n      <td>0.121626</td>\n      <td>0.122016</td>\n      <td>0.070771</td>\n      <td>0.103984</td>\n      <td>0.056061</td>\n      <td>0.233755</td>\n    </tr>\n    <tr>\n      <th>2017</th>\n      <td>0.170400</td>\n      <td>0.055799</td>\n      <td>0.069153</td>\n      <td>0.150061</td>\n      <td>0.028735</td>\n      <td>0.089991</td>\n      <td>0.233234</td>\n      <td>0.171782</td>\n      <td>0.288335</td>\n      <td>0.061757</td>\n      <td>...</td>\n      <td>0.062505</td>\n      <td>0.013392</td>\n      <td>0.035811</td>\n      <td>0.069166</td>\n      <td>0.117109</td>\n      <td>0.117926</td>\n      <td>0.068258</td>\n      <td>0.098473</td>\n      <td>0.056153</td>\n      <td>0.244346</td>\n    </tr>\n    <tr>\n      <th>2018</th>\n      <td>0.165480</td>\n      <td>0.058355</td>\n      <td>0.089229</td>\n      <td>0.159569</td>\n      <td>0.031332</td>\n      <td>0.089904</td>\n      <td>0.233068</td>\n      <td>0.174775</td>\n      <td>0.291342</td>\n      <td>0.062349</td>\n      <td>...</td>\n      <td>0.068557</td>\n      <td>0.016100</td>\n      <td>0.040075</td>\n      <td>0.071266</td>\n      <td>0.120878</td>\n      <td>0.112553</td>\n      <td>0.071876</td>\n      <td>0.096605</td>\n      <td>0.059069</td>\n      <td>0.228121</td>\n    </tr>\n    <tr>\n      <th>2019</th>\n      <td>0.158609</td>\n      <td>0.052816</td>\n      <td>0.095245</td>\n      <td>0.166324</td>\n      <td>0.031570</td>\n      <td>0.097571</td>\n      <td>0.247394</td>\n      <td>0.237399</td>\n      <td>0.302785</td>\n      <td>0.064178</td>\n      <td>...</td>\n      <td>0.076773</td>\n      <td>0.016132</td>\n      <td>0.047351</td>\n      <td>0.077589</td>\n      <td>0.127720</td>\n      <td>0.117750</td>\n      <td>0.101621</td>\n      <td>0.098867</td>\n      <td>0.060942</td>\n      <td>0.242913</td>\n    </tr>\n  </tbody>\n</table>\n<p>5 rows × 27 columns</p>\n</div>"
     },
     "metadata": {},
     "execution_count": 16
    }
   ],
   "source": [
    "share_bioenergy_total = consumption[['country', 'year', 'share_bioenergy_total']].pivot(index='year', columns='country').droplevel(0, axis=1)\n",
    "share_bioenergy_total.index.name = 'Year'\n",
    "share_bioenergy_total.columns.name = None\n",
    "share_bioenergy_total.to_csv('gross_inland_consumption_share_bioenergy_total.csv')\n",
    "share_bioenergy_total.tail()"
   ]
  },
  {
   "source": [
    "## Share of bioenergy on renewables gross inland consumption"
   ],
   "cell_type": "markdown",
   "metadata": {}
  },
  {
   "cell_type": "code",
   "execution_count": 17,
   "metadata": {},
   "outputs": [
    {
     "output_type": "execute_result",
     "data": {
      "text/plain": [
       "       Austria   Belgium  Bulgaria   Croatia    Cyprus   Czechia   Denmark  \\\n",
       "Year                                                                         \n",
       "2015  0.591563  0.811483  0.583396  0.674162  0.362809  0.866905  0.715265   \n",
       "2016  0.571291  0.793155  0.645072  0.651943  0.367593  0.865978  0.734218   \n",
       "2017  0.571086  0.773460  0.670760  0.697714  0.413851  0.861533  0.722483   \n",
       "2018  0.562430  0.760652  0.667184  0.634031  0.346162  0.857287  0.726615   \n",
       "2019  0.532655  0.685653  0.726315  0.684382  0.337153  0.853868  0.710811   \n",
       "\n",
       "       Estonia   Finland    France  ...  Luxembourg     Malta  Netherlands  \\\n",
       "Year                                ...                                      \n",
       "2015  0.924847  0.866246  0.602185  ...    0.980934  0.407134     0.738286   \n",
       "2016  0.931499  0.873592  0.598398  ...    1.027373  0.403270     0.711941   \n",
       "2017  0.920786  0.837285  0.607823  ...    1.024012  0.282865     0.672084   \n",
       "2018  0.934358  0.842541  0.567548  ...    1.046928  0.298294     0.670382   \n",
       "2019  0.971303  0.848151  0.566800  ...    1.088868  0.286774     0.661832   \n",
       "\n",
       "        Poland  Portugal   Romania  Slovakia  Slovenia     Spain    Sweden  \n",
       "Year                                                                        \n",
       "2015  0.857470  0.520740  0.624651  0.761381  0.637605  0.397194  0.538647  \n",
       "2016  0.831631  0.459413  0.626449  0.733610  0.597672  0.386893  0.579368  \n",
       "2017  0.804437  0.529126  0.654525  0.739565  0.618033  0.429044  0.582217  \n",
       "2018  0.828977  0.475382  0.626223  0.774784  0.573890  0.412685  0.576284  \n",
       "2019  0.814463  0.504015  0.648369  0.785119  0.582039  0.409675  0.567475  \n",
       "\n",
       "[5 rows x 27 columns]"
      ],
      "text/html": "<div>\n<style scoped>\n    .dataframe tbody tr th:only-of-type {\n        vertical-align: middle;\n    }\n\n    .dataframe tbody tr th {\n        vertical-align: top;\n    }\n\n    .dataframe thead th {\n        text-align: right;\n    }\n</style>\n<table border=\"1\" class=\"dataframe\">\n  <thead>\n    <tr style=\"text-align: right;\">\n      <th></th>\n      <th>Austria</th>\n      <th>Belgium</th>\n      <th>Bulgaria</th>\n      <th>Croatia</th>\n      <th>Cyprus</th>\n      <th>Czechia</th>\n      <th>Denmark</th>\n      <th>Estonia</th>\n      <th>Finland</th>\n      <th>France</th>\n      <th>...</th>\n      <th>Luxembourg</th>\n      <th>Malta</th>\n      <th>Netherlands</th>\n      <th>Poland</th>\n      <th>Portugal</th>\n      <th>Romania</th>\n      <th>Slovakia</th>\n      <th>Slovenia</th>\n      <th>Spain</th>\n      <th>Sweden</th>\n    </tr>\n    <tr>\n      <th>Year</th>\n      <th></th>\n      <th></th>\n      <th></th>\n      <th></th>\n      <th></th>\n      <th></th>\n      <th></th>\n      <th></th>\n      <th></th>\n      <th></th>\n      <th></th>\n      <th></th>\n      <th></th>\n      <th></th>\n      <th></th>\n      <th></th>\n      <th></th>\n      <th></th>\n      <th></th>\n      <th></th>\n      <th></th>\n    </tr>\n  </thead>\n  <tbody>\n    <tr>\n      <th>2015</th>\n      <td>0.591563</td>\n      <td>0.811483</td>\n      <td>0.583396</td>\n      <td>0.674162</td>\n      <td>0.362809</td>\n      <td>0.866905</td>\n      <td>0.715265</td>\n      <td>0.924847</td>\n      <td>0.866246</td>\n      <td>0.602185</td>\n      <td>...</td>\n      <td>0.980934</td>\n      <td>0.407134</td>\n      <td>0.738286</td>\n      <td>0.857470</td>\n      <td>0.520740</td>\n      <td>0.624651</td>\n      <td>0.761381</td>\n      <td>0.637605</td>\n      <td>0.397194</td>\n      <td>0.538647</td>\n    </tr>\n    <tr>\n      <th>2016</th>\n      <td>0.571291</td>\n      <td>0.793155</td>\n      <td>0.645072</td>\n      <td>0.651943</td>\n      <td>0.367593</td>\n      <td>0.865978</td>\n      <td>0.734218</td>\n      <td>0.931499</td>\n      <td>0.873592</td>\n      <td>0.598398</td>\n      <td>...</td>\n      <td>1.027373</td>\n      <td>0.403270</td>\n      <td>0.711941</td>\n      <td>0.831631</td>\n      <td>0.459413</td>\n      <td>0.626449</td>\n      <td>0.733610</td>\n      <td>0.597672</td>\n      <td>0.386893</td>\n      <td>0.579368</td>\n    </tr>\n    <tr>\n      <th>2017</th>\n      <td>0.571086</td>\n      <td>0.773460</td>\n      <td>0.670760</td>\n      <td>0.697714</td>\n      <td>0.413851</td>\n      <td>0.861533</td>\n      <td>0.722483</td>\n      <td>0.920786</td>\n      <td>0.837285</td>\n      <td>0.607823</td>\n      <td>...</td>\n      <td>1.024012</td>\n      <td>0.282865</td>\n      <td>0.672084</td>\n      <td>0.804437</td>\n      <td>0.529126</td>\n      <td>0.654525</td>\n      <td>0.739565</td>\n      <td>0.618033</td>\n      <td>0.429044</td>\n      <td>0.582217</td>\n    </tr>\n    <tr>\n      <th>2018</th>\n      <td>0.562430</td>\n      <td>0.760652</td>\n      <td>0.667184</td>\n      <td>0.634031</td>\n      <td>0.346162</td>\n      <td>0.857287</td>\n      <td>0.726615</td>\n      <td>0.934358</td>\n      <td>0.842541</td>\n      <td>0.567548</td>\n      <td>...</td>\n      <td>1.046928</td>\n      <td>0.298294</td>\n      <td>0.670382</td>\n      <td>0.828977</td>\n      <td>0.475382</td>\n      <td>0.626223</td>\n      <td>0.774784</td>\n      <td>0.573890</td>\n      <td>0.412685</td>\n      <td>0.576284</td>\n    </tr>\n    <tr>\n      <th>2019</th>\n      <td>0.532655</td>\n      <td>0.685653</td>\n      <td>0.726315</td>\n      <td>0.684382</td>\n      <td>0.337153</td>\n      <td>0.853868</td>\n      <td>0.710811</td>\n      <td>0.971303</td>\n      <td>0.848151</td>\n      <td>0.566800</td>\n      <td>...</td>\n      <td>1.088868</td>\n      <td>0.286774</td>\n      <td>0.661832</td>\n      <td>0.814463</td>\n      <td>0.504015</td>\n      <td>0.648369</td>\n      <td>0.785119</td>\n      <td>0.582039</td>\n      <td>0.409675</td>\n      <td>0.567475</td>\n    </tr>\n  </tbody>\n</table>\n<p>5 rows × 27 columns</p>\n</div>"
     },
     "metadata": {},
     "execution_count": 17
    }
   ],
   "source": [
    "share_bioenergy_res = consumption[['country', 'year', 'share_bioenergy_renewables']].pivot(index='year', columns='country').droplevel(0, axis=1)\n",
    "share_bioenergy_res.index.name = 'Year'\n",
    "share_bioenergy_res.columns.name = None\n",
    "share_bioenergy_res.to_csv('gross_inland_consumption_share_bioenergy_res.csv')\n",
    "share_bioenergy_res.tail()"
   ]
  },
  {
   "source": [
    "## Share of renewables on total gross inland consuption"
   ],
   "cell_type": "markdown",
   "metadata": {}
  },
  {
   "cell_type": "code",
   "execution_count": 18,
   "metadata": {},
   "outputs": [
    {
     "output_type": "execute_result",
     "data": {
      "text/plain": [
       "       Austria   Belgium  Bulgaria   Croatia    Cyprus   Czechia   Denmark  \\\n",
       "Year                                                                         \n",
       "2015  0.297915  0.068959  0.111148  0.232221  0.067809  0.104272  0.291056   \n",
       "2016  0.302454  0.069466  0.110554  0.235207  0.065767  0.106428  0.293672   \n",
       "2017  0.298379  0.072142  0.103096  0.215075  0.069434  0.104454  0.322822   \n",
       "2018  0.294223  0.076717  0.133740  0.251674  0.090511  0.104870  0.320758   \n",
       "2019  0.297771  0.077031  0.131135  0.243028  0.093636  0.114269  0.348045   \n",
       "\n",
       "       Estonia   Finland    France  ...  Luxembourg     Malta  Netherlands  \\\n",
       "Year                                ...                                      \n",
       "2015  0.171616  0.321240  0.093709  ...    0.050290  0.027856     0.048589   \n",
       "2016  0.166728  0.314238  0.103022  ...    0.053454  0.034218     0.049220   \n",
       "2017  0.186560  0.344370  0.101604  ...    0.061039  0.047344     0.053284   \n",
       "2018  0.187054  0.345790  0.109857  ...    0.065484  0.053975     0.059779   \n",
       "2019  0.244412  0.356994  0.113229  ...    0.070507  0.056252     0.071546   \n",
       "\n",
       "        Poland  Portugal   Romania  Slovakia  Slovenia     Spain    Sweden  \n",
       "Year                                                                        \n",
       "2015  0.094954  0.235979  0.187404  0.096883  0.171211  0.138958  0.435355  \n",
       "2016  0.088583  0.264741  0.194774  0.096469  0.173981  0.144900  0.403466  \n",
       "2017  0.085981  0.221325  0.180170  0.092295  0.159332  0.130879  0.419683  \n",
       "2018  0.085969  0.254275  0.179732  0.092769  0.168333  0.143133  0.395848  \n",
       "2019  0.095264  0.253406  0.181610  0.129434  0.169864  0.148756  0.428060  \n",
       "\n",
       "[5 rows x 27 columns]"
      ],
      "text/html": "<div>\n<style scoped>\n    .dataframe tbody tr th:only-of-type {\n        vertical-align: middle;\n    }\n\n    .dataframe tbody tr th {\n        vertical-align: top;\n    }\n\n    .dataframe thead th {\n        text-align: right;\n    }\n</style>\n<table border=\"1\" class=\"dataframe\">\n  <thead>\n    <tr style=\"text-align: right;\">\n      <th></th>\n      <th>Austria</th>\n      <th>Belgium</th>\n      <th>Bulgaria</th>\n      <th>Croatia</th>\n      <th>Cyprus</th>\n      <th>Czechia</th>\n      <th>Denmark</th>\n      <th>Estonia</th>\n      <th>Finland</th>\n      <th>France</th>\n      <th>...</th>\n      <th>Luxembourg</th>\n      <th>Malta</th>\n      <th>Netherlands</th>\n      <th>Poland</th>\n      <th>Portugal</th>\n      <th>Romania</th>\n      <th>Slovakia</th>\n      <th>Slovenia</th>\n      <th>Spain</th>\n      <th>Sweden</th>\n    </tr>\n    <tr>\n      <th>Year</th>\n      <th></th>\n      <th></th>\n      <th></th>\n      <th></th>\n      <th></th>\n      <th></th>\n      <th></th>\n      <th></th>\n      <th></th>\n      <th></th>\n      <th></th>\n      <th></th>\n      <th></th>\n      <th></th>\n      <th></th>\n      <th></th>\n      <th></th>\n      <th></th>\n      <th></th>\n      <th></th>\n      <th></th>\n    </tr>\n  </thead>\n  <tbody>\n    <tr>\n      <th>2015</th>\n      <td>0.297915</td>\n      <td>0.068959</td>\n      <td>0.111148</td>\n      <td>0.232221</td>\n      <td>0.067809</td>\n      <td>0.104272</td>\n      <td>0.291056</td>\n      <td>0.171616</td>\n      <td>0.321240</td>\n      <td>0.093709</td>\n      <td>...</td>\n      <td>0.050290</td>\n      <td>0.027856</td>\n      <td>0.048589</td>\n      <td>0.094954</td>\n      <td>0.235979</td>\n      <td>0.187404</td>\n      <td>0.096883</td>\n      <td>0.171211</td>\n      <td>0.138958</td>\n      <td>0.435355</td>\n    </tr>\n    <tr>\n      <th>2016</th>\n      <td>0.302454</td>\n      <td>0.069466</td>\n      <td>0.110554</td>\n      <td>0.235207</td>\n      <td>0.065767</td>\n      <td>0.106428</td>\n      <td>0.293672</td>\n      <td>0.166728</td>\n      <td>0.314238</td>\n      <td>0.103022</td>\n      <td>...</td>\n      <td>0.053454</td>\n      <td>0.034218</td>\n      <td>0.049220</td>\n      <td>0.088583</td>\n      <td>0.264741</td>\n      <td>0.194774</td>\n      <td>0.096469</td>\n      <td>0.173981</td>\n      <td>0.144900</td>\n      <td>0.403466</td>\n    </tr>\n    <tr>\n      <th>2017</th>\n      <td>0.298379</td>\n      <td>0.072142</td>\n      <td>0.103096</td>\n      <td>0.215075</td>\n      <td>0.069434</td>\n      <td>0.104454</td>\n      <td>0.322822</td>\n      <td>0.186560</td>\n      <td>0.344370</td>\n      <td>0.101604</td>\n      <td>...</td>\n      <td>0.061039</td>\n      <td>0.047344</td>\n      <td>0.053284</td>\n      <td>0.085981</td>\n      <td>0.221325</td>\n      <td>0.180170</td>\n      <td>0.092295</td>\n      <td>0.159332</td>\n      <td>0.130879</td>\n      <td>0.419683</td>\n    </tr>\n    <tr>\n      <th>2018</th>\n      <td>0.294223</td>\n      <td>0.076717</td>\n      <td>0.133740</td>\n      <td>0.251674</td>\n      <td>0.090511</td>\n      <td>0.104870</td>\n      <td>0.320758</td>\n      <td>0.187054</td>\n      <td>0.345790</td>\n      <td>0.109857</td>\n      <td>...</td>\n      <td>0.065484</td>\n      <td>0.053975</td>\n      <td>0.059779</td>\n      <td>0.085969</td>\n      <td>0.254275</td>\n      <td>0.179732</td>\n      <td>0.092769</td>\n      <td>0.168333</td>\n      <td>0.143133</td>\n      <td>0.395848</td>\n    </tr>\n    <tr>\n      <th>2019</th>\n      <td>0.297771</td>\n      <td>0.077031</td>\n      <td>0.131135</td>\n      <td>0.243028</td>\n      <td>0.093636</td>\n      <td>0.114269</td>\n      <td>0.348045</td>\n      <td>0.244412</td>\n      <td>0.356994</td>\n      <td>0.113229</td>\n      <td>...</td>\n      <td>0.070507</td>\n      <td>0.056252</td>\n      <td>0.071546</td>\n      <td>0.095264</td>\n      <td>0.253406</td>\n      <td>0.181610</td>\n      <td>0.129434</td>\n      <td>0.169864</td>\n      <td>0.148756</td>\n      <td>0.428060</td>\n    </tr>\n  </tbody>\n</table>\n<p>5 rows × 27 columns</p>\n</div>"
     },
     "metadata": {},
     "execution_count": 18
    }
   ],
   "source": [
    "share_res_total = consumption[['country', 'year', 'share_renewables_total']].pivot(index='year', columns='country').droplevel(0, axis=1)\n",
    "share_res_total.index.name = 'Year'\n",
    "share_res_total.columns.name = None\n",
    "share_res_total.to_csv('gross_inland_consumption_share_res_total.csv')\n",
    "share_res_total.tail()"
   ]
  },
  {
   "source": [
    "## Bioenergy share in context\n",
    "Share of bioenergy, other renewables and non-renewables on gross inland consumption in 2019 in EU27."
   ],
   "cell_type": "markdown",
   "metadata": {}
  },
  {
   "cell_type": "code",
   "execution_count": 19,
   "metadata": {},
   "outputs": [],
   "source": [
    "consumption['renewables_without_bioenergy'] =  consumption['renewables'] - consumption['bioenergy']"
   ]
  },
  {
   "cell_type": "code",
   "execution_count": 20,
   "metadata": {},
   "outputs": [],
   "source": [
    "consumption['share_renewables_without_bioenergy_total'] = consumption['renewables_without_bioenergy'] / consumption['total']"
   ]
  },
  {
   "cell_type": "code",
   "execution_count": 21,
   "metadata": {},
   "outputs": [],
   "source": [
    "consumption['share_nonrenewables_total'] = (consumption['total'] - consumption['renewables']) / consumption['total']"
   ]
  },
  {
   "cell_type": "code",
   "execution_count": 22,
   "metadata": {},
   "outputs": [
    {
     "output_type": "execute_result",
     "data": {
      "text/plain": [
       "         country  share_bioenergy_total  \\\n",
       "17       Austria               0.158609   \n",
       "35       Belgium               0.052816   \n",
       "53      Bulgaria               0.095245   \n",
       "71       Croatia               0.166324   \n",
       "89        Cyprus               0.031570   \n",
       "107      Czechia               0.097571   \n",
       "125      Denmark               0.247394   \n",
       "143      Estonia               0.237399   \n",
       "161      Finland               0.302785   \n",
       "179       France               0.064178   \n",
       "197      Germany               0.086381   \n",
       "215       Greece               0.046300   \n",
       "233      Hungary               0.093978   \n",
       "251      Ireland               0.041582   \n",
       "269        Italy               0.089371   \n",
       "287       Latvia               0.352823   \n",
       "305    Lithuania               0.193641   \n",
       "323   Luxembourg               0.076773   \n",
       "341        Malta               0.016132   \n",
       "359  Netherlands               0.047351   \n",
       "377       Poland               0.077589   \n",
       "395     Portugal               0.127720   \n",
       "413      Romania               0.117750   \n",
       "431     Slovakia               0.101621   \n",
       "449     Slovenia               0.098867   \n",
       "467        Spain               0.060942   \n",
       "485       Sweden               0.242913   \n",
       "\n",
       "     share_renewables_without_bioenergy_total  share_nonrenewables_total  \n",
       "17                                   0.139162                   0.702229  \n",
       "35                                   0.024214                   0.922969  \n",
       "53                                   0.035890                   0.868865  \n",
       "71                                   0.076704                   0.756972  \n",
       "89                                   0.062067                   0.906364  \n",
       "107                                  0.016698                   0.885731  \n",
       "125                                  0.100651                   0.651955  \n",
       "143                                  0.007014                   0.755588  \n",
       "161                                  0.054209                   0.643006  \n",
       "179                                  0.049051                   0.886771  \n",
       "197                                  0.062384                   0.851235  \n",
       "215                                  0.077569                   0.876131  \n",
       "233                                  0.011953                   0.894069  \n",
       "251                                  0.067000                   0.891418  \n",
       "269                                  0.100499                   0.810130  \n",
       "287                                  0.039147                   0.608030  \n",
       "305                                  0.009984                   0.796375  \n",
       "323                                 -0.006266                   0.929493  \n",
       "341                                  0.040120                   0.943748  \n",
       "359                                  0.024194                   0.928454  \n",
       "377                                  0.017675                   0.904736  \n",
       "395                                  0.125685                   0.746594  \n",
       "413                                  0.063860                   0.818390  \n",
       "431                                  0.027813                   0.870566  \n",
       "449                                  0.070996                   0.830136  \n",
       "467                                  0.087814                   0.851244  \n",
       "485                                  0.185147                   0.571940  "
      ],
      "text/html": "<div>\n<style scoped>\n    .dataframe tbody tr th:only-of-type {\n        vertical-align: middle;\n    }\n\n    .dataframe tbody tr th {\n        vertical-align: top;\n    }\n\n    .dataframe thead th {\n        text-align: right;\n    }\n</style>\n<table border=\"1\" class=\"dataframe\">\n  <thead>\n    <tr style=\"text-align: right;\">\n      <th></th>\n      <th>country</th>\n      <th>share_bioenergy_total</th>\n      <th>share_renewables_without_bioenergy_total</th>\n      <th>share_nonrenewables_total</th>\n    </tr>\n  </thead>\n  <tbody>\n    <tr>\n      <th>17</th>\n      <td>Austria</td>\n      <td>0.158609</td>\n      <td>0.139162</td>\n      <td>0.702229</td>\n    </tr>\n    <tr>\n      <th>35</th>\n      <td>Belgium</td>\n      <td>0.052816</td>\n      <td>0.024214</td>\n      <td>0.922969</td>\n    </tr>\n    <tr>\n      <th>53</th>\n      <td>Bulgaria</td>\n      <td>0.095245</td>\n      <td>0.035890</td>\n      <td>0.868865</td>\n    </tr>\n    <tr>\n      <th>71</th>\n      <td>Croatia</td>\n      <td>0.166324</td>\n      <td>0.076704</td>\n      <td>0.756972</td>\n    </tr>\n    <tr>\n      <th>89</th>\n      <td>Cyprus</td>\n      <td>0.031570</td>\n      <td>0.062067</td>\n      <td>0.906364</td>\n    </tr>\n    <tr>\n      <th>107</th>\n      <td>Czechia</td>\n      <td>0.097571</td>\n      <td>0.016698</td>\n      <td>0.885731</td>\n    </tr>\n    <tr>\n      <th>125</th>\n      <td>Denmark</td>\n      <td>0.247394</td>\n      <td>0.100651</td>\n      <td>0.651955</td>\n    </tr>\n    <tr>\n      <th>143</th>\n      <td>Estonia</td>\n      <td>0.237399</td>\n      <td>0.007014</td>\n      <td>0.755588</td>\n    </tr>\n    <tr>\n      <th>161</th>\n      <td>Finland</td>\n      <td>0.302785</td>\n      <td>0.054209</td>\n      <td>0.643006</td>\n    </tr>\n    <tr>\n      <th>179</th>\n      <td>France</td>\n      <td>0.064178</td>\n      <td>0.049051</td>\n      <td>0.886771</td>\n    </tr>\n    <tr>\n      <th>197</th>\n      <td>Germany</td>\n      <td>0.086381</td>\n      <td>0.062384</td>\n      <td>0.851235</td>\n    </tr>\n    <tr>\n      <th>215</th>\n      <td>Greece</td>\n      <td>0.046300</td>\n      <td>0.077569</td>\n      <td>0.876131</td>\n    </tr>\n    <tr>\n      <th>233</th>\n      <td>Hungary</td>\n      <td>0.093978</td>\n      <td>0.011953</td>\n      <td>0.894069</td>\n    </tr>\n    <tr>\n      <th>251</th>\n      <td>Ireland</td>\n      <td>0.041582</td>\n      <td>0.067000</td>\n      <td>0.891418</td>\n    </tr>\n    <tr>\n      <th>269</th>\n      <td>Italy</td>\n      <td>0.089371</td>\n      <td>0.100499</td>\n      <td>0.810130</td>\n    </tr>\n    <tr>\n      <th>287</th>\n      <td>Latvia</td>\n      <td>0.352823</td>\n      <td>0.039147</td>\n      <td>0.608030</td>\n    </tr>\n    <tr>\n      <th>305</th>\n      <td>Lithuania</td>\n      <td>0.193641</td>\n      <td>0.009984</td>\n      <td>0.796375</td>\n    </tr>\n    <tr>\n      <th>323</th>\n      <td>Luxembourg</td>\n      <td>0.076773</td>\n      <td>-0.006266</td>\n      <td>0.929493</td>\n    </tr>\n    <tr>\n      <th>341</th>\n      <td>Malta</td>\n      <td>0.016132</td>\n      <td>0.040120</td>\n      <td>0.943748</td>\n    </tr>\n    <tr>\n      <th>359</th>\n      <td>Netherlands</td>\n      <td>0.047351</td>\n      <td>0.024194</td>\n      <td>0.928454</td>\n    </tr>\n    <tr>\n      <th>377</th>\n      <td>Poland</td>\n      <td>0.077589</td>\n      <td>0.017675</td>\n      <td>0.904736</td>\n    </tr>\n    <tr>\n      <th>395</th>\n      <td>Portugal</td>\n      <td>0.127720</td>\n      <td>0.125685</td>\n      <td>0.746594</td>\n    </tr>\n    <tr>\n      <th>413</th>\n      <td>Romania</td>\n      <td>0.117750</td>\n      <td>0.063860</td>\n      <td>0.818390</td>\n    </tr>\n    <tr>\n      <th>431</th>\n      <td>Slovakia</td>\n      <td>0.101621</td>\n      <td>0.027813</td>\n      <td>0.870566</td>\n    </tr>\n    <tr>\n      <th>449</th>\n      <td>Slovenia</td>\n      <td>0.098867</td>\n      <td>0.070996</td>\n      <td>0.830136</td>\n    </tr>\n    <tr>\n      <th>467</th>\n      <td>Spain</td>\n      <td>0.060942</td>\n      <td>0.087814</td>\n      <td>0.851244</td>\n    </tr>\n    <tr>\n      <th>485</th>\n      <td>Sweden</td>\n      <td>0.242913</td>\n      <td>0.185147</td>\n      <td>0.571940</td>\n    </tr>\n  </tbody>\n</table>\n</div>"
     },
     "metadata": {},
     "execution_count": 22
    }
   ],
   "source": [
    "shares_2019 = consumption.loc[consumption['year'] == 2019, ['country', 'share_bioenergy_total', 'share_renewables_without_bioenergy_total', 'share_nonrenewables_total']]\n",
    "shares_2019"
   ]
  },
  {
   "cell_type": "code",
   "execution_count": 23,
   "metadata": {},
   "outputs": [
    {
     "output_type": "execute_result",
     "data": {
      "text/plain": [
       "17     1.0\n",
       "35     1.0\n",
       "53     1.0\n",
       "71     1.0\n",
       "89     1.0\n",
       "107    1.0\n",
       "125    1.0\n",
       "143    1.0\n",
       "161    1.0\n",
       "179    1.0\n",
       "197    1.0\n",
       "215    1.0\n",
       "233    1.0\n",
       "251    1.0\n",
       "269    1.0\n",
       "287    1.0\n",
       "305    1.0\n",
       "323    1.0\n",
       "341    1.0\n",
       "359    1.0\n",
       "377    1.0\n",
       "395    1.0\n",
       "413    1.0\n",
       "431    1.0\n",
       "449    1.0\n",
       "467    1.0\n",
       "485    1.0\n",
       "dtype: float64"
      ]
     },
     "metadata": {},
     "execution_count": 23
    }
   ],
   "source": [
    "shares_2019.sum(axis=1)"
   ]
  },
  {
   "cell_type": "code",
   "execution_count": 24,
   "metadata": {},
   "outputs": [],
   "source": [
    "shares_2019.to_csv('shares_2019.csv', index=False)"
   ]
  },
  {
   "cell_type": "code",
   "execution_count": null,
   "metadata": {},
   "outputs": [],
   "source": []
  }
 ],
 "metadata": {
  "kernelspec": {
   "name": "python3",
   "display_name": "Python 3.7.0 64-bit ('venv')",
   "metadata": {
    "interpreter": {
     "hash": "cc8133609ba540c1544e89182c728cded361820f0d14a2e7daca8ba5f09b9677"
    }
   }
  },
  "language_info": {
   "codemirror_mode": {
    "name": "ipython",
    "version": 3
   },
   "file_extension": ".py",
   "mimetype": "text/x-python",
   "name": "python",
   "nbconvert_exporter": "python",
   "pygments_lexer": "ipython3",
   "version": "3.7.0-final"
  }
 },
 "nbformat": 4,
 "nbformat_minor": 5
}