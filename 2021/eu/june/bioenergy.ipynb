{
 "cells": [
  {
   "cell_type": "markdown",
   "metadata": {},
   "source": [
    "# Eurostat bioenergy balance (June 2021 edition)\n",
    "\n",
    "Extract bioenergy related data from an archive containing XLSB files, one for each EU country which contain multiple sheets for each year (1990-2019).\n",
    "\n",
    "Data from Eurostat's [energy balances](https://ec.europa.eu/eurostat/web/energy/data/energy-balances) June 2021 edition.\n",
    "\n",
    "Walk through excel files (country spreadsheets) and parse selected variables and fuels for each year (sheet in country's spreadsheet).\n",
    "\n",
    "Somewhere on Eurostat's website there might be a better source for parsing this data, but I did not find it."
   ]
  },
  {
   "cell_type": "code",
   "execution_count": 1,
   "metadata": {},
   "outputs": [],
   "source": [
    "import os\n",
    "import zipfile\n",
    "import requests\n",
    "import pandas as pd\n",
    "import numpy as np\n",
    "import pyxlsb"
   ]
  },
  {
   "cell_type": "code",
   "execution_count": 2,
   "metadata": {},
   "outputs": [],
   "source": [
    "def parse_values_for_country(file, country, variables, fuels):\n",
    "    \"\"\"Reads fuel variable in multiple sheets 2002-2018.\n",
    "    Sums the values across multiple columns if relevant.\n",
    "    Returns: dict\n",
    "    \"\"\"\n",
    "    country_data = {}\n",
    "    \n",
    "    for year in range(2002,2020):\n",
    "        df = pd.read_excel(\n",
    "            file,\n",
    "            engine='pyxlsb',\n",
    "            sheet_name=str(year),\n",
    "            skiprows=[0,1,2,3],\n",
    "            index_col=1,\n",
    "            na_values=':',\n",
    "            )\n",
    "        for variable in variables:\n",
    "            for fuel, start, end in fuels:             \n",
    "                try:\n",
    "                    country_data[(country, year, fuel, variable.lower().replace(' ', '_'))] = df.loc[variable, start:end].sum()\n",
    "                except TypeError:\n",
    "                    country_data[(country, year, fuel, variable.lower().replace(' ', '_'))] = pd.to_numeric(df.loc[variable, start:end], errors='coerce').sum()\n",
    "\n",
    "    return country_data"
   ]
  },
  {
   "cell_type": "code",
   "execution_count": 3,
   "metadata": {},
   "outputs": [],
   "source": [
    "def walk_through_excel_files(directory, variables, fuels):\n",
    "    d = {}\n",
    "    \n",
    "    for filename in os.listdir(directory):\n",
    "        if '!' not in filename and '.pdf' not in filename: # skip readme files \n",
    "            country = filename.split('-')[0]\n",
    "            excel_path = os.path.join(directory, filename)\n",
    "            data = parse_values_for_country(excel_path, country, variables, fuels)\n",
    "            d.update(data)\n",
    "    return d"
   ]
  },
  {
   "cell_type": "code",
   "execution_count": 4,
   "metadata": {},
   "outputs": [],
   "source": [
    "# Selected variables for bioenergy and some other for context\n",
    "variables = [\n",
    "'Primary production',\n",
    "'Imports',\n",
    "'Exports',\n",
    "'Gross inland consumption',\n",
    "]\n",
    "\n",
    "fuels = [\n",
    "    ('total', 'Total', 'Total'),\n",
    "    ('renewables', 'Renewables and biofuels', 'Renewables and biofuels'),\n",
    "    ('bioenergy', 'Bioenergy', 'Bioenergy',),\n",
    "    ('solid_biomass', 'Primary solid biofuels', 'Primary solid biofuels'),\n",
    "    ('biofuels', 'Pure biogasoline', 'Other liquid biofuels'),\n",
    "    ('biogas', 'Biogases', 'Biogases'),\n",
    "    ('ren_mun_waste', 'Renewable municipal waste', 'Renewable municipal waste'),\n",
    "    ]"
   ]
  },
  {
   "cell_type": "code",
   "execution_count": 5,
   "metadata": {},
   "outputs": [],
   "source": [
    "# The url contains February, but it is the June file\n",
    "url = 'https://ec.europa.eu/eurostat/documents/38154/4956218/Energy-balance-sheets-February-2021-edition.zip/4b1d6665-f303-be7d-a7e5-1e0da16ec0d9?t=1612709565471'\n",
    "\n",
    "r = requests.get(url)\n",
    "\n",
    "with open('eurostat_balances_2021.zip', 'wb') as f:\n",
    "    f.write(r.content)"
   ]
  },
  {
   "cell_type": "code",
   "execution_count": 6,
   "metadata": {},
   "outputs": [],
   "source": [
    "with zipfile.ZipFile('eurostat_balances_2021.zip', 'r') as zip_archive:\n",
    "    zip_archive.extractall(path='balances/')"
   ]
  },
  {
   "cell_type": "code",
   "execution_count": 7,
   "metadata": {},
   "outputs": [
    {
     "output_type": "stream",
     "name": "stdout",
     "text": [
      "CPU times: user 2min 7s, sys: 2.54 s, total: 2min 9s\nWall time: 2min 23s\n"
     ]
    }
   ],
   "source": [
    "# This is quite slow, opening many files, one time for each sheet\n",
    "# There must be a better way\n",
    "\n",
    "%time data_dict = walk_through_excel_files('balances/', variables, fuels)"
   ]
  },
  {
   "cell_type": "code",
   "execution_count": 8,
   "metadata": {},
   "outputs": [],
   "source": [
    "# https://stackoverflow.com/questions/44012099/creating-a-dataframe-from-a-dict-where-keys-are-tuples\n",
    "df1 = pd.Series(data_dict).reset_index()\n",
    "df1.columns = ['country', 'year', 'fuel', 'variable', 'value']"
   ]
  },
  {
   "cell_type": "code",
   "execution_count": 9,
   "metadata": {},
   "outputs": [
    {
     "output_type": "execute_result",
     "data": {
      "text/plain": [
       "  country  year        fuel            variable     value\n",
       "0      AT  2002       total  primary_production  9831.767\n",
       "1      AT  2002  renewables  primary_production  6490.482\n",
       "2      AT  2002   bioenergy  primary_production  2920.414"
      ],
      "text/html": "<div>\n<style scoped>\n    .dataframe tbody tr th:only-of-type {\n        vertical-align: middle;\n    }\n\n    .dataframe tbody tr th {\n        vertical-align: top;\n    }\n\n    .dataframe thead th {\n        text-align: right;\n    }\n</style>\n<table border=\"1\" class=\"dataframe\">\n  <thead>\n    <tr style=\"text-align: right;\">\n      <th></th>\n      <th>country</th>\n      <th>year</th>\n      <th>fuel</th>\n      <th>variable</th>\n      <th>value</th>\n    </tr>\n  </thead>\n  <tbody>\n    <tr>\n      <th>0</th>\n      <td>AT</td>\n      <td>2002</td>\n      <td>total</td>\n      <td>primary_production</td>\n      <td>9831.767</td>\n    </tr>\n    <tr>\n      <th>1</th>\n      <td>AT</td>\n      <td>2002</td>\n      <td>renewables</td>\n      <td>primary_production</td>\n      <td>6490.482</td>\n    </tr>\n    <tr>\n      <th>2</th>\n      <td>AT</td>\n      <td>2002</td>\n      <td>bioenergy</td>\n      <td>primary_production</td>\n      <td>2920.414</td>\n    </tr>\n  </tbody>\n</table>\n</div>"
     },
     "metadata": {},
     "execution_count": 9
    }
   ],
   "source": [
    "df1.head(3)"
   ]
  },
  {
   "cell_type": "code",
   "execution_count": 10,
   "metadata": {},
   "outputs": [],
   "source": [
    "df2 = df1.set_index(['country', 'year', 'fuel', 'variable']).unstack(level=3)"
   ]
  },
  {
   "cell_type": "code",
   "execution_count": 11,
   "metadata": {},
   "outputs": [
    {
     "output_type": "execute_result",
     "data": {
      "text/plain": [
       "                         value                                   \\\n",
       "variable               exports gross_inland_consumption imports   \n",
       "country year fuel                                                 \n",
       "AL      2002 bioenergy     0.0                  255.995     0.0   \n",
       "             biofuels      0.0                    0.000     0.0   \n",
       "             biogas        0.0                    0.000     0.0   \n",
       "\n",
       "                                           \n",
       "variable               primary_production  \n",
       "country year fuel                          \n",
       "AL      2002 bioenergy            255.995  \n",
       "             biofuels               0.000  \n",
       "             biogas                 0.000  "
      ],
      "text/html": "<div>\n<style scoped>\n    .dataframe tbody tr th:only-of-type {\n        vertical-align: middle;\n    }\n\n    .dataframe tbody tr th {\n        vertical-align: top;\n    }\n\n    .dataframe thead tr th {\n        text-align: left;\n    }\n\n    .dataframe thead tr:last-of-type th {\n        text-align: right;\n    }\n</style>\n<table border=\"1\" class=\"dataframe\">\n  <thead>\n    <tr>\n      <th></th>\n      <th></th>\n      <th></th>\n      <th colspan=\"4\" halign=\"left\">value</th>\n    </tr>\n    <tr>\n      <th></th>\n      <th></th>\n      <th>variable</th>\n      <th>exports</th>\n      <th>gross_inland_consumption</th>\n      <th>imports</th>\n      <th>primary_production</th>\n    </tr>\n    <tr>\n      <th>country</th>\n      <th>year</th>\n      <th>fuel</th>\n      <th></th>\n      <th></th>\n      <th></th>\n      <th></th>\n    </tr>\n  </thead>\n  <tbody>\n    <tr>\n      <th rowspan=\"3\" valign=\"top\">AL</th>\n      <th rowspan=\"3\" valign=\"top\">2002</th>\n      <th>bioenergy</th>\n      <td>0.0</td>\n      <td>255.995</td>\n      <td>0.0</td>\n      <td>255.995</td>\n    </tr>\n    <tr>\n      <th>biofuels</th>\n      <td>0.0</td>\n      <td>0.000</td>\n      <td>0.0</td>\n      <td>0.000</td>\n    </tr>\n    <tr>\n      <th>biogas</th>\n      <td>0.0</td>\n      <td>0.000</td>\n      <td>0.0</td>\n      <td>0.000</td>\n    </tr>\n  </tbody>\n</table>\n</div>"
     },
     "metadata": {},
     "execution_count": 11
    }
   ],
   "source": [
    "df2.head(3)"
   ]
  },
  {
   "cell_type": "code",
   "execution_count": 12,
   "metadata": {},
   "outputs": [],
   "source": [
    "df2.columns = df2.columns.droplevel(0).values"
   ]
  },
  {
   "cell_type": "code",
   "execution_count": 13,
   "metadata": {},
   "outputs": [
    {
     "output_type": "stream",
     "name": "stdout",
     "text": [
      "<class 'pandas.core.frame.DataFrame'>\nMultiIndex: 5418 entries, ('AL', 2002, 'bioenergy') to ('XK', 2019, 'total')\nData columns (total 4 columns):\n #   Column                    Non-Null Count  Dtype  \n---  ------                    --------------  -----  \n 0   exports                   5418 non-null   float64\n 1   gross_inland_consumption  5418 non-null   float64\n 2   imports                   5418 non-null   float64\n 3   primary_production        5418 non-null   float64\ndtypes: float64(4)\nmemory usage: 188.1+ KB\n"
     ]
    }
   ],
   "source": [
    "df2.info()"
   ]
  },
  {
   "cell_type": "code",
   "execution_count": 14,
   "metadata": {},
   "outputs": [],
   "source": [
    "df2.sort_index(ascending=True, inplace=True)"
   ]
  },
  {
   "cell_type": "code",
   "execution_count": 15,
   "metadata": {},
   "outputs": [
    {
     "output_type": "execute_result",
     "data": {
      "text/plain": [
       "                            exports  gross_inland_consumption  imports  \\\n",
       "country year fuel                                                        \n",
       "AL      2002 bioenergy        0.000                   255.995    0.000   \n",
       "             biofuels         0.000                     0.000    0.000   \n",
       "             biogas           0.000                     0.000    0.000   \n",
       "             ren_mun_waste    0.000                     0.000    0.000   \n",
       "             renewables       0.000                   559.382    0.000   \n",
       "...                             ...                       ...      ...   \n",
       "XK      2019 biogas           0.000                     0.000    0.000   \n",
       "             ren_mun_waste    0.000                     0.000    0.000   \n",
       "             renewables       0.042                   402.360   55.816   \n",
       "             solid_biomass    0.042                   374.978   55.816   \n",
       "             total           94.358                  2668.905  909.275   \n",
       "\n",
       "                            primary_production  dependency  \n",
       "country year fuel                                           \n",
       "AL      2002 bioenergy                 255.995    0.000000  \n",
       "             biofuels                    0.000         NaN  \n",
       "             biogas                      0.000         NaN  \n",
       "             ren_mun_waste               0.000         NaN  \n",
       "             renewables                559.382    0.000000  \n",
       "...                                        ...         ...  \n",
       "XK      2019 biogas                      0.000         NaN  \n",
       "             ren_mun_waste               0.000         NaN  \n",
       "             renewables                346.586    0.138617  \n",
       "             solid_biomass             319.205    0.148739  \n",
       "             total                    1849.116    0.305338  \n",
       "\n",
       "[5418 rows x 5 columns]"
      ],
      "text/html": "<div>\n<style scoped>\n    .dataframe tbody tr th:only-of-type {\n        vertical-align: middle;\n    }\n\n    .dataframe tbody tr th {\n        vertical-align: top;\n    }\n\n    .dataframe thead th {\n        text-align: right;\n    }\n</style>\n<table border=\"1\" class=\"dataframe\">\n  <thead>\n    <tr style=\"text-align: right;\">\n      <th></th>\n      <th></th>\n      <th></th>\n      <th>exports</th>\n      <th>gross_inland_consumption</th>\n      <th>imports</th>\n      <th>primary_production</th>\n      <th>dependency</th>\n    </tr>\n    <tr>\n      <th>country</th>\n      <th>year</th>\n      <th>fuel</th>\n      <th></th>\n      <th></th>\n      <th></th>\n      <th></th>\n      <th></th>\n    </tr>\n  </thead>\n  <tbody>\n    <tr>\n      <th rowspan=\"5\" valign=\"top\">AL</th>\n      <th rowspan=\"5\" valign=\"top\">2002</th>\n      <th>bioenergy</th>\n      <td>0.000</td>\n      <td>255.995</td>\n      <td>0.000</td>\n      <td>255.995</td>\n      <td>0.000000</td>\n    </tr>\n    <tr>\n      <th>biofuels</th>\n      <td>0.000</td>\n      <td>0.000</td>\n      <td>0.000</td>\n      <td>0.000</td>\n      <td>NaN</td>\n    </tr>\n    <tr>\n      <th>biogas</th>\n      <td>0.000</td>\n      <td>0.000</td>\n      <td>0.000</td>\n      <td>0.000</td>\n      <td>NaN</td>\n    </tr>\n    <tr>\n      <th>ren_mun_waste</th>\n      <td>0.000</td>\n      <td>0.000</td>\n      <td>0.000</td>\n      <td>0.000</td>\n      <td>NaN</td>\n    </tr>\n    <tr>\n      <th>renewables</th>\n      <td>0.000</td>\n      <td>559.382</td>\n      <td>0.000</td>\n      <td>559.382</td>\n      <td>0.000000</td>\n    </tr>\n    <tr>\n      <th>...</th>\n      <th>...</th>\n      <th>...</th>\n      <td>...</td>\n      <td>...</td>\n      <td>...</td>\n      <td>...</td>\n      <td>...</td>\n    </tr>\n    <tr>\n      <th rowspan=\"5\" valign=\"top\">XK</th>\n      <th rowspan=\"5\" valign=\"top\">2019</th>\n      <th>biogas</th>\n      <td>0.000</td>\n      <td>0.000</td>\n      <td>0.000</td>\n      <td>0.000</td>\n      <td>NaN</td>\n    </tr>\n    <tr>\n      <th>ren_mun_waste</th>\n      <td>0.000</td>\n      <td>0.000</td>\n      <td>0.000</td>\n      <td>0.000</td>\n      <td>NaN</td>\n    </tr>\n    <tr>\n      <th>renewables</th>\n      <td>0.042</td>\n      <td>402.360</td>\n      <td>55.816</td>\n      <td>346.586</td>\n      <td>0.138617</td>\n    </tr>\n    <tr>\n      <th>solid_biomass</th>\n      <td>0.042</td>\n      <td>374.978</td>\n      <td>55.816</td>\n      <td>319.205</td>\n      <td>0.148739</td>\n    </tr>\n    <tr>\n      <th>total</th>\n      <td>94.358</td>\n      <td>2668.905</td>\n      <td>909.275</td>\n      <td>1849.116</td>\n      <td>0.305338</td>\n    </tr>\n  </tbody>\n</table>\n<p>5418 rows × 5 columns</p>\n</div>"
     },
     "metadata": {},
     "execution_count": 15
    }
   ],
   "source": [
    "df2['dependency'] = (df2['imports'] - df2['exports']) / df2['gross_inland_consumption']\n",
    "df2"
   ]
  },
  {
   "cell_type": "code",
   "execution_count": 16,
   "metadata": {},
   "outputs": [],
   "source": [
    "df2.to_csv(\n",
    "    'balances_bioenergy_2002_2019_ktoe.csv',\n",
    "    decimal=',',\n",
    "    )"
   ]
  },
  {
   "cell_type": "code",
   "execution_count": 17,
   "metadata": {},
   "outputs": [],
   "source": [
    "df3 = df2.copy()"
   ]
  },
  {
   "cell_type": "code",
   "execution_count": 18,
   "metadata": {},
   "outputs": [
    {
     "output_type": "execute_result",
     "data": {
      "text/plain": [
       "                                exports  gross_inland_consumption  \\\n",
       "country year fuel                                                   \n",
       "AL      2002 bioenergy         0.000000              10717.998660   \n",
       "             biofuels          0.000000                  0.000000   \n",
       "             biogas            0.000000                  0.000000   \n",
       "             ren_mun_waste     0.000000                  0.000000   \n",
       "             renewables        0.000000              23420.205576   \n",
       "...                                 ...                       ...   \n",
       "XK      2019 biogas            0.000000                  0.000000   \n",
       "             ren_mun_waste     0.000000                  0.000000   \n",
       "             renewables        1.758456              16846.008480   \n",
       "             solid_biomass     1.758456              15699.578904   \n",
       "             total          3950.580744             111741.714540   \n",
       "\n",
       "                                 imports  primary_production  dependency  \n",
       "country year fuel                                                         \n",
       "AL      2002 bioenergy          0.000000        10717.998660    0.000000  \n",
       "             biofuels           0.000000            0.000000         NaN  \n",
       "             biogas             0.000000            0.000000         NaN  \n",
       "             ren_mun_waste      0.000000            0.000000         NaN  \n",
       "             renewables         0.000000        23420.205576    0.000000  \n",
       "...                                  ...                 ...         ...  \n",
       "XK      2019 biogas             0.000000            0.000000         NaN  \n",
       "             ren_mun_waste      0.000000            0.000000         NaN  \n",
       "             renewables      2336.904288        14510.862648    0.138617  \n",
       "             solid_biomass   2336.904288        13364.474940    0.148739  \n",
       "             total          38069.525700        77418.788688    0.305338  \n",
       "\n",
       "[5418 rows x 5 columns]"
      ],
      "text/html": "<div>\n<style scoped>\n    .dataframe tbody tr th:only-of-type {\n        vertical-align: middle;\n    }\n\n    .dataframe tbody tr th {\n        vertical-align: top;\n    }\n\n    .dataframe thead th {\n        text-align: right;\n    }\n</style>\n<table border=\"1\" class=\"dataframe\">\n  <thead>\n    <tr style=\"text-align: right;\">\n      <th></th>\n      <th></th>\n      <th></th>\n      <th>exports</th>\n      <th>gross_inland_consumption</th>\n      <th>imports</th>\n      <th>primary_production</th>\n      <th>dependency</th>\n    </tr>\n    <tr>\n      <th>country</th>\n      <th>year</th>\n      <th>fuel</th>\n      <th></th>\n      <th></th>\n      <th></th>\n      <th></th>\n      <th></th>\n    </tr>\n  </thead>\n  <tbody>\n    <tr>\n      <th rowspan=\"5\" valign=\"top\">AL</th>\n      <th rowspan=\"5\" valign=\"top\">2002</th>\n      <th>bioenergy</th>\n      <td>0.000000</td>\n      <td>10717.998660</td>\n      <td>0.000000</td>\n      <td>10717.998660</td>\n      <td>0.000000</td>\n    </tr>\n    <tr>\n      <th>biofuels</th>\n      <td>0.000000</td>\n      <td>0.000000</td>\n      <td>0.000000</td>\n      <td>0.000000</td>\n      <td>NaN</td>\n    </tr>\n    <tr>\n      <th>biogas</th>\n      <td>0.000000</td>\n      <td>0.000000</td>\n      <td>0.000000</td>\n      <td>0.000000</td>\n      <td>NaN</td>\n    </tr>\n    <tr>\n      <th>ren_mun_waste</th>\n      <td>0.000000</td>\n      <td>0.000000</td>\n      <td>0.000000</td>\n      <td>0.000000</td>\n      <td>NaN</td>\n    </tr>\n    <tr>\n      <th>renewables</th>\n      <td>0.000000</td>\n      <td>23420.205576</td>\n      <td>0.000000</td>\n      <td>23420.205576</td>\n      <td>0.000000</td>\n    </tr>\n    <tr>\n      <th>...</th>\n      <th>...</th>\n      <th>...</th>\n      <td>...</td>\n      <td>...</td>\n      <td>...</td>\n      <td>...</td>\n      <td>...</td>\n    </tr>\n    <tr>\n      <th rowspan=\"5\" valign=\"top\">XK</th>\n      <th rowspan=\"5\" valign=\"top\">2019</th>\n      <th>biogas</th>\n      <td>0.000000</td>\n      <td>0.000000</td>\n      <td>0.000000</td>\n      <td>0.000000</td>\n      <td>NaN</td>\n    </tr>\n    <tr>\n      <th>ren_mun_waste</th>\n      <td>0.000000</td>\n      <td>0.000000</td>\n      <td>0.000000</td>\n      <td>0.000000</td>\n      <td>NaN</td>\n    </tr>\n    <tr>\n      <th>renewables</th>\n      <td>1.758456</td>\n      <td>16846.008480</td>\n      <td>2336.904288</td>\n      <td>14510.862648</td>\n      <td>0.138617</td>\n    </tr>\n    <tr>\n      <th>solid_biomass</th>\n      <td>1.758456</td>\n      <td>15699.578904</td>\n      <td>2336.904288</td>\n      <td>13364.474940</td>\n      <td>0.148739</td>\n    </tr>\n    <tr>\n      <th>total</th>\n      <td>3950.580744</td>\n      <td>111741.714540</td>\n      <td>38069.525700</td>\n      <td>77418.788688</td>\n      <td>0.305338</td>\n    </tr>\n  </tbody>\n</table>\n<p>5418 rows × 5 columns</p>\n</div>"
     },
     "metadata": {},
     "execution_count": 18
    }
   ],
   "source": [
    "tj_ktoe = 41.868\n",
    "\n",
    "df3 = df3.loc[:, 'exports': 'primary_production'] * tj_ktoe\n",
    "\n",
    "# Keep the share based on the original data in ktoe\n",
    "df3['dependency'] = df2['dependency']\n",
    "df3"
   ]
  },
  {
   "cell_type": "code",
   "execution_count": 19,
   "metadata": {},
   "outputs": [],
   "source": [
    "df3.to_csv(\n",
    "    'balances_bioenergy_2002_2019_tj.csv',\n",
    "    decimal=',',\n",
    "    )"
   ]
  },
  {
   "cell_type": "code",
   "execution_count": 20,
   "metadata": {},
   "outputs": [],
   "source": [
    "# Some minimal testing\n",
    "idx = pd.IndexSlice"
   ]
  },
  {
   "cell_type": "code",
   "execution_count": 21,
   "metadata": {},
   "outputs": [
    {
     "output_type": "execute_result",
     "data": {
      "text/plain": [
       "exports    549.453\n",
       "Name: (CZ, 2018, bioenergy), dtype: float64"
      ]
     },
     "metadata": {},
     "execution_count": 21
    }
   ],
   "source": [
    "df2.loc[idx['CZ', 2018, 'bioenergy'], ['exports']]"
   ]
  },
  {
   "cell_type": "code",
   "execution_count": 22,
   "metadata": {},
   "outputs": [],
   "source": [
    "assert df2.loc[idx['CZ', 2018, 'bioenergy'], ['exports']].item() == 549.453"
   ]
  },
  {
   "cell_type": "code",
   "execution_count": 23,
   "metadata": {},
   "outputs": [
    {
     "output_type": "execute_result",
     "data": {
      "text/plain": [
       "primary_production    2761.8\n",
       "Name: (CZ, 2009, bioenergy), dtype: float64"
      ]
     },
     "metadata": {},
     "execution_count": 23
    }
   ],
   "source": [
    "df2.loc[idx['CZ', 2009, 'bioenergy'], ['primary_production']]"
   ]
  },
  {
   "cell_type": "code",
   "execution_count": 24,
   "metadata": {},
   "outputs": [],
   "source": [
    "assert df2.loc[idx['CZ', 2009, 'bioenergy'], ['primary_production']].item() == 2761.8"
   ]
  },
  {
   "cell_type": "code",
   "execution_count": 25,
   "metadata": {},
   "outputs": [
    {
     "output_type": "execute_result",
     "data": {
      "text/plain": [
       "exports                      318.821000\n",
       "gross_inland_consumption    2568.609000\n",
       "imports                      123.617000\n",
       "primary_production          2761.800000\n",
       "dependency                    -0.075996\n",
       "Name: (CZ, 2009, bioenergy), dtype: float64"
      ]
     },
     "metadata": {},
     "execution_count": 25
    }
   ],
   "source": [
    "result_cz_2009_bioenergy = df2.loc[idx['CZ', 2009, 'bioenergy']]\n",
    "result_cz_2009_bioenergy"
   ]
  },
  {
   "cell_type": "code",
   "execution_count": 26,
   "metadata": {},
   "outputs": [],
   "source": [
    "cz_2009_bioenergy = pd.Series(\n",
    "    {'exports': 318.821,\n",
    "     'gross_inland_consumption': 2568.609,\n",
    "     'imports': 123.617,\n",
    "     'primary_production': 2761.8,\n",
    "     'dependency': -0.075996,\n",
    "    })"
   ]
  },
  {
   "cell_type": "code",
   "execution_count": 27,
   "metadata": {},
   "outputs": [],
   "source": [
    "cz_2009_bioenergy\n",
    "cz_2009_bioenergy.name = ('CZ', 2009, 'bioenergy')"
   ]
  },
  {
   "cell_type": "code",
   "execution_count": 28,
   "metadata": {},
   "outputs": [],
   "source": [
    "pd.testing.assert_series_equal(cz_2009_bioenergy, result_cz_2009_bioenergy)"
   ]
  },
  {
   "cell_type": "code",
   "execution_count": null,
   "metadata": {},
   "outputs": [],
   "source": []
  }
 ],
 "metadata": {
  "kernelspec": {
   "name": "python3",
   "display_name": "Python 3.9.5 64-bit ('venv': venv)"
  },
  "language_info": {
   "codemirror_mode": {
    "name": "ipython",
    "version": 3
   },
   "file_extension": ".py",
   "mimetype": "text/x-python",
   "name": "python",
   "nbconvert_exporter": "python",
   "pygments_lexer": "ipython3",
   "version": "3.9.5"
  },
  "interpreter": {
   "hash": "cc8133609ba540c1544e89182c728cded361820f0d14a2e7daca8ba5f09b9677"
  }
 },
 "nbformat": 4,
 "nbformat_minor": 2
}