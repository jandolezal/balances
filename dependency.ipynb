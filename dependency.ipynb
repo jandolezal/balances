{
 "cells": [
  {
   "source": [
    "# Energy dependency 2002-2018\n",
    "\n",
    "(Imports - Exports) / Gross domestic consumption\n",
    "\n",
    "[Eurostat](https://ec.europa.eu/eurostat/web/energy/data/energy-balances)"
   ],
   "cell_type": "markdown",
   "metadata": {}
  },
  {
   "cell_type": "code",
   "execution_count": 1,
   "metadata": {},
   "outputs": [],
   "source": [
    "import pandas as pd\n",
    "import os\n",
    "import pyxlsb\n",
    "import numpy as np\n"
   ]
  },
  {
   "source": [
    "## Bioenergy"
   ],
   "cell_type": "markdown",
   "metadata": {}
  },
  {
   "cell_type": "code",
   "execution_count": 2,
   "metadata": {
    "tags": []
   },
   "outputs": [],
   "source": [
    "def get_energy_dependency(file, column):\n",
    "    trajectory = {}\n",
    "    for year in range(2002,2019):\n",
    "        df = pd.read_excel(\n",
    "            file,\n",
    "            engine='pyxlsb',\n",
    "            sheet_name=str(year),\n",
    "            skiprows=[0,1,2,3],\n",
    "            index_col=1\n",
    "            )\n",
    "        imports = df.loc['Imports', column]\n",
    "        exports = df.loc['Exports', column]\n",
    "        consumption = df.loc['Gross inland consumption', column]\n",
    "        energy_dependency = (imports - exports)/consumption\n",
    "        trajectory[year] = energy_dependency\n",
    "    return pd.Series(trajectory)"
   ]
  },
  {
   "cell_type": "code",
   "execution_count": 3,
   "metadata": {
    "tags": []
   },
   "outputs": [],
   "source": [
    "dependency = pd.DataFrame()\n",
    "\n",
    "countries = ('CZ', 'AT', 'DK', 'NL', 'PL', 'SK')\n",
    "\n",
    "for file in os.listdir('Energy-Balances-June-2020-edition'):\n",
    "    if file.startswith(countries):\n",
    "        data = get_energy_dependency('Energy-Balances-June-2020-edition/' + file, 'Bioenergy')\n",
    "        dependency[f'{file[:2]}'] = data"
   ]
  },
  {
   "cell_type": "code",
   "execution_count": 4,
   "metadata": {},
   "outputs": [
    {
     "output_type": "execute_result",
     "data": {
      "text/plain": "            AT        NL        DK        SK        CZ        PL\n2002 -0.002344 -0.074889  0.080602 -0.006294 -0.019729 -0.000458\n2003 -0.028737 -0.114392  0.086022 -0.016159 -0.079935 -0.000658\n2004 -0.052183 -0.021566  0.126475 -0.043027 -0.082543 -0.001240\n2005 -0.007057  0.174812  0.176998 -0.099175 -0.105124 -0.017443\n2006  0.079718  0.153329  0.162155 -0.061220 -0.120045 -0.018075\n2007  0.068190  0.162606  0.168390 -0.037930 -0.111876 -0.002245\n2008  0.055876  0.193771  0.204172 -0.142918 -0.093793  0.029388\n2009  0.090154  0.134688  0.218144 -0.112637 -0.075996  0.035838\n2010  0.072757  0.042199  0.269750 -0.090813 -0.054805  0.061702\n2011  0.107367  0.095820  0.334321 -0.085318 -0.027223  0.064177\n2012  0.086481 -0.084890  0.389522 -0.078080 -0.027580  0.016716\n2013  0.100393 -0.288280  0.383048 -0.060670 -0.041146  0.001484\n2014  0.091120 -0.438825  0.402036 -0.021152 -0.024758  0.071230\n2015  0.078079 -0.407538  0.358410 -0.002087 -0.017787  0.018099\n2016  0.053381 -0.350023  0.379573 -0.011650 -0.005336 -0.032536\n2017  0.042707 -0.437115  0.422590 -0.001225  0.002886 -0.023345\n2018  0.040016 -0.262803  0.412612 -0.005066 -0.016234  0.031993",
      "text/html": "<div>\n<style scoped>\n    .dataframe tbody tr th:only-of-type {\n        vertical-align: middle;\n    }\n\n    .dataframe tbody tr th {\n        vertical-align: top;\n    }\n\n    .dataframe thead th {\n        text-align: right;\n    }\n</style>\n<table border=\"1\" class=\"dataframe\">\n  <thead>\n    <tr style=\"text-align: right;\">\n      <th></th>\n      <th>AT</th>\n      <th>NL</th>\n      <th>DK</th>\n      <th>SK</th>\n      <th>CZ</th>\n      <th>PL</th>\n    </tr>\n  </thead>\n  <tbody>\n    <tr>\n      <th>2002</th>\n      <td>-0.002344</td>\n      <td>-0.074889</td>\n      <td>0.080602</td>\n      <td>-0.006294</td>\n      <td>-0.019729</td>\n      <td>-0.000458</td>\n    </tr>\n    <tr>\n      <th>2003</th>\n      <td>-0.028737</td>\n      <td>-0.114392</td>\n      <td>0.086022</td>\n      <td>-0.016159</td>\n      <td>-0.079935</td>\n      <td>-0.000658</td>\n    </tr>\n    <tr>\n      <th>2004</th>\n      <td>-0.052183</td>\n      <td>-0.021566</td>\n      <td>0.126475</td>\n      <td>-0.043027</td>\n      <td>-0.082543</td>\n      <td>-0.001240</td>\n    </tr>\n    <tr>\n      <th>2005</th>\n      <td>-0.007057</td>\n      <td>0.174812</td>\n      <td>0.176998</td>\n      <td>-0.099175</td>\n      <td>-0.105124</td>\n      <td>-0.017443</td>\n    </tr>\n    <tr>\n      <th>2006</th>\n      <td>0.079718</td>\n      <td>0.153329</td>\n      <td>0.162155</td>\n      <td>-0.061220</td>\n      <td>-0.120045</td>\n      <td>-0.018075</td>\n    </tr>\n    <tr>\n      <th>2007</th>\n      <td>0.068190</td>\n      <td>0.162606</td>\n      <td>0.168390</td>\n      <td>-0.037930</td>\n      <td>-0.111876</td>\n      <td>-0.002245</td>\n    </tr>\n    <tr>\n      <th>2008</th>\n      <td>0.055876</td>\n      <td>0.193771</td>\n      <td>0.204172</td>\n      <td>-0.142918</td>\n      <td>-0.093793</td>\n      <td>0.029388</td>\n    </tr>\n    <tr>\n      <th>2009</th>\n      <td>0.090154</td>\n      <td>0.134688</td>\n      <td>0.218144</td>\n      <td>-0.112637</td>\n      <td>-0.075996</td>\n      <td>0.035838</td>\n    </tr>\n    <tr>\n      <th>2010</th>\n      <td>0.072757</td>\n      <td>0.042199</td>\n      <td>0.269750</td>\n      <td>-0.090813</td>\n      <td>-0.054805</td>\n      <td>0.061702</td>\n    </tr>\n    <tr>\n      <th>2011</th>\n      <td>0.107367</td>\n      <td>0.095820</td>\n      <td>0.334321</td>\n      <td>-0.085318</td>\n      <td>-0.027223</td>\n      <td>0.064177</td>\n    </tr>\n    <tr>\n      <th>2012</th>\n      <td>0.086481</td>\n      <td>-0.084890</td>\n      <td>0.389522</td>\n      <td>-0.078080</td>\n      <td>-0.027580</td>\n      <td>0.016716</td>\n    </tr>\n    <tr>\n      <th>2013</th>\n      <td>0.100393</td>\n      <td>-0.288280</td>\n      <td>0.383048</td>\n      <td>-0.060670</td>\n      <td>-0.041146</td>\n      <td>0.001484</td>\n    </tr>\n    <tr>\n      <th>2014</th>\n      <td>0.091120</td>\n      <td>-0.438825</td>\n      <td>0.402036</td>\n      <td>-0.021152</td>\n      <td>-0.024758</td>\n      <td>0.071230</td>\n    </tr>\n    <tr>\n      <th>2015</th>\n      <td>0.078079</td>\n      <td>-0.407538</td>\n      <td>0.358410</td>\n      <td>-0.002087</td>\n      <td>-0.017787</td>\n      <td>0.018099</td>\n    </tr>\n    <tr>\n      <th>2016</th>\n      <td>0.053381</td>\n      <td>-0.350023</td>\n      <td>0.379573</td>\n      <td>-0.011650</td>\n      <td>-0.005336</td>\n      <td>-0.032536</td>\n    </tr>\n    <tr>\n      <th>2017</th>\n      <td>0.042707</td>\n      <td>-0.437115</td>\n      <td>0.422590</td>\n      <td>-0.001225</td>\n      <td>0.002886</td>\n      <td>-0.023345</td>\n    </tr>\n    <tr>\n      <th>2018</th>\n      <td>0.040016</td>\n      <td>-0.262803</td>\n      <td>0.412612</td>\n      <td>-0.005066</td>\n      <td>-0.016234</td>\n      <td>0.031993</td>\n    </tr>\n  </tbody>\n</table>\n</div>"
     },
     "metadata": {},
     "execution_count": 4
    }
   ],
   "source": [
    "dependency"
   ]
  },
  {
   "cell_type": "code",
   "execution_count": 5,
   "metadata": {},
   "outputs": [],
   "source": [
    "dependency.to_csv(\n",
    "    'dependency_bioenergy_2002_2018.csv',\n",
    "    index_label='year',\n",
    "    decimal=',',\n",
    "    columns=countries,\n",
    "    )"
   ]
  },
  {
   "source": [
    "## Solid biomass"
   ],
   "cell_type": "markdown",
   "metadata": {}
  },
  {
   "cell_type": "code",
   "execution_count": 6,
   "metadata": {},
   "outputs": [],
   "source": [
    "dependency = pd.DataFrame()\n",
    "\n",
    "countries = ('CZ', 'AT', 'DK', 'NL', 'PL', 'SK')\n",
    "\n",
    "for file in os.listdir('Energy-Balances-June-2020-edition'):\n",
    "    if file.startswith(countries):\n",
    "        data = get_energy_dependency('Energy-Balances-June-2020-edition/' + file, 'Primary solid biofuels')\n",
    "        dependency[f'{file[:2]}'] = data\n",
    "\n",
    "dependency\n",
    "\n",
    "dependency.to_csv(\n",
    "    'dependency_solid_2002_2018.csv',\n",
    "    index_label='year',\n",
    "    decimal=',',\n",
    "    columns=countries,\n",
    "    )\n"
   ]
  },
  {
   "source": [
    "## Biofuels"
   ],
   "cell_type": "markdown",
   "metadata": {}
  },
  {
   "cell_type": "code",
   "execution_count": 7,
   "metadata": {
    "tags": []
   },
   "outputs": [],
   "source": [
    "def get_energy_dependency_agregate(file, start, end):\n",
    "    trajectory = {}\n",
    "    for year in range(2002,2019):\n",
    "        df = pd.read_excel(\n",
    "            file,\n",
    "            engine='pyxlsb',\n",
    "            sheet_name=str(year),\n",
    "            skiprows=[0,1,2,3],\n",
    "            index_col=1\n",
    "            )\n",
    "        imports = df.loc['Imports', start:end].sum()\n",
    "        exports = df.loc['Exports', start:end].sum()\n",
    "        consumption = df.loc['Gross inland consumption', start:end].sum()\n",
    "        # print(imports,  '-', exports, '/', consumption)\n",
    "        try:\n",
    "            energy_dependency = (imports - exports)/consumption\n",
    "        except ZeroDivisionError:\n",
    "            energy_dependency = np.nan\n",
    "        trajectory[year] = energy_dependency\n",
    "    return pd.Series(trajectory)\n",
    "\n",
    "# file = 'Energy-Balances-June-2020-edition/PL-Energy-balance-sheets-June-2020-edition.xlsb'\n",
    "# get_energy_dependency_agregate(file, 'Pure biogasoline', 'Other liquid biofuels')"
   ]
  },
  {
   "cell_type": "code",
   "execution_count": 8,
   "metadata": {},
   "outputs": [
    {
     "output_type": "execute_result",
     "data": {
      "text/plain": "            AT        NL        DK         SK         CZ        PL\n2002  0.000000  1.000000  0.000000   0.000000  -0.428230       NaN\n2003  0.000000  1.000000  0.000000   0.000000  -0.620569  0.000000\n2004  0.000000  0.811853  0.000000 -11.000000  -1.369303  0.000000\n2005  0.446320  0.800066  0.000000  -1.818234 -41.244436 -1.214591\n2006  0.703432  0.703876  0.161831   0.073041  -4.298822 -0.711426\n2007  0.438232  0.868737  0.213449   0.065041  -1.695810 -0.026927\n2008  0.464858  0.946439  0.159678  -0.806161   0.079598  0.355058\n2009  0.441763  0.337395  0.251364  -0.751189  -0.009970  0.343389\n2010  0.419318 -0.670986  0.446697  -0.597971  -0.011126  0.492267\n2011  0.525886 -0.217254  1.106361  -0.708424   0.276679  0.542317\n2012  0.550870 -1.942430  0.955317  -0.698128   0.233787  0.184060\n2013  0.540722 -3.336747  0.937835  -0.475667   0.152438  0.042693\n2014  0.385142 -3.245991  0.902113  -0.110656   0.198868 -0.053756\n2015  0.344969 -3.523786  0.942477  -0.030498   0.252069 -0.219456\n2016  0.297507 -3.978682  0.923500  -0.125129   0.322709 -0.989961\n2017  0.289686 -3.855865  1.033460  -0.067709   0.353052 -0.508039\n2018  0.306154 -1.479919  0.968618  -0.132631   0.297009  0.028528",
      "text/html": "<div>\n<style scoped>\n    .dataframe tbody tr th:only-of-type {\n        vertical-align: middle;\n    }\n\n    .dataframe tbody tr th {\n        vertical-align: top;\n    }\n\n    .dataframe thead th {\n        text-align: right;\n    }\n</style>\n<table border=\"1\" class=\"dataframe\">\n  <thead>\n    <tr style=\"text-align: right;\">\n      <th></th>\n      <th>AT</th>\n      <th>NL</th>\n      <th>DK</th>\n      <th>SK</th>\n      <th>CZ</th>\n      <th>PL</th>\n    </tr>\n  </thead>\n  <tbody>\n    <tr>\n      <th>2002</th>\n      <td>0.000000</td>\n      <td>1.000000</td>\n      <td>0.000000</td>\n      <td>0.000000</td>\n      <td>-0.428230</td>\n      <td>NaN</td>\n    </tr>\n    <tr>\n      <th>2003</th>\n      <td>0.000000</td>\n      <td>1.000000</td>\n      <td>0.000000</td>\n      <td>0.000000</td>\n      <td>-0.620569</td>\n      <td>0.000000</td>\n    </tr>\n    <tr>\n      <th>2004</th>\n      <td>0.000000</td>\n      <td>0.811853</td>\n      <td>0.000000</td>\n      <td>-11.000000</td>\n      <td>-1.369303</td>\n      <td>0.000000</td>\n    </tr>\n    <tr>\n      <th>2005</th>\n      <td>0.446320</td>\n      <td>0.800066</td>\n      <td>0.000000</td>\n      <td>-1.818234</td>\n      <td>-41.244436</td>\n      <td>-1.214591</td>\n    </tr>\n    <tr>\n      <th>2006</th>\n      <td>0.703432</td>\n      <td>0.703876</td>\n      <td>0.161831</td>\n      <td>0.073041</td>\n      <td>-4.298822</td>\n      <td>-0.711426</td>\n    </tr>\n    <tr>\n      <th>2007</th>\n      <td>0.438232</td>\n      <td>0.868737</td>\n      <td>0.213449</td>\n      <td>0.065041</td>\n      <td>-1.695810</td>\n      <td>-0.026927</td>\n    </tr>\n    <tr>\n      <th>2008</th>\n      <td>0.464858</td>\n      <td>0.946439</td>\n      <td>0.159678</td>\n      <td>-0.806161</td>\n      <td>0.079598</td>\n      <td>0.355058</td>\n    </tr>\n    <tr>\n      <th>2009</th>\n      <td>0.441763</td>\n      <td>0.337395</td>\n      <td>0.251364</td>\n      <td>-0.751189</td>\n      <td>-0.009970</td>\n      <td>0.343389</td>\n    </tr>\n    <tr>\n      <th>2010</th>\n      <td>0.419318</td>\n      <td>-0.670986</td>\n      <td>0.446697</td>\n      <td>-0.597971</td>\n      <td>-0.011126</td>\n      <td>0.492267</td>\n    </tr>\n    <tr>\n      <th>2011</th>\n      <td>0.525886</td>\n      <td>-0.217254</td>\n      <td>1.106361</td>\n      <td>-0.708424</td>\n      <td>0.276679</td>\n      <td>0.542317</td>\n    </tr>\n    <tr>\n      <th>2012</th>\n      <td>0.550870</td>\n      <td>-1.942430</td>\n      <td>0.955317</td>\n      <td>-0.698128</td>\n      <td>0.233787</td>\n      <td>0.184060</td>\n    </tr>\n    <tr>\n      <th>2013</th>\n      <td>0.540722</td>\n      <td>-3.336747</td>\n      <td>0.937835</td>\n      <td>-0.475667</td>\n      <td>0.152438</td>\n      <td>0.042693</td>\n    </tr>\n    <tr>\n      <th>2014</th>\n      <td>0.385142</td>\n      <td>-3.245991</td>\n      <td>0.902113</td>\n      <td>-0.110656</td>\n      <td>0.198868</td>\n      <td>-0.053756</td>\n    </tr>\n    <tr>\n      <th>2015</th>\n      <td>0.344969</td>\n      <td>-3.523786</td>\n      <td>0.942477</td>\n      <td>-0.030498</td>\n      <td>0.252069</td>\n      <td>-0.219456</td>\n    </tr>\n    <tr>\n      <th>2016</th>\n      <td>0.297507</td>\n      <td>-3.978682</td>\n      <td>0.923500</td>\n      <td>-0.125129</td>\n      <td>0.322709</td>\n      <td>-0.989961</td>\n    </tr>\n    <tr>\n      <th>2017</th>\n      <td>0.289686</td>\n      <td>-3.855865</td>\n      <td>1.033460</td>\n      <td>-0.067709</td>\n      <td>0.353052</td>\n      <td>-0.508039</td>\n    </tr>\n    <tr>\n      <th>2018</th>\n      <td>0.306154</td>\n      <td>-1.479919</td>\n      <td>0.968618</td>\n      <td>-0.132631</td>\n      <td>0.297009</td>\n      <td>0.028528</td>\n    </tr>\n  </tbody>\n</table>\n</div>"
     },
     "metadata": {},
     "execution_count": 8
    }
   ],
   "source": [
    "dependency = pd.DataFrame()\n",
    "\n",
    "countries = ('CZ', 'AT', 'DK', 'NL', 'PL', 'SK')\n",
    "\n",
    "for file in os.listdir('Energy-Balances-June-2020-edition'):\n",
    "    if file.startswith(countries):\n",
    "        data = get_energy_dependency_agregate('Energy-Balances-June-2020-edition/' + file, 'Pure biogasoline', 'Other liquid biofuels')\n",
    "        dependency[f'{file[:2]}'] = data\n",
    "\n",
    "dependency.to_csv(\n",
    "    'dependency_biofuels_2002_2018.csv',\n",
    "    index_label='year',\n",
    "    decimal=',',\n",
    "    columns=countries,\n",
    "    )\n",
    "\n",
    "dependency"
   ]
  },
  {
   "cell_type": "code",
   "execution_count": 13,
   "metadata": {},
   "outputs": [],
   "source": [
    "eu = pd.DataFrame()"
   ]
  },
  {
   "cell_type": "code",
   "execution_count": 14,
   "metadata": {},
   "outputs": [],
   "source": [
    "eu['bioenergy'] = get_energy_dependency('Energy-Balances-June-2020-edition/EU28-Energy-balance-sheets-June-2020-edition.xlsb', 'Bioenergy')\n"
   ]
  },
  {
   "cell_type": "code",
   "execution_count": 15,
   "metadata": {},
   "outputs": [],
   "source": [
    "eu['solid'] = get_energy_dependency('Energy-Balances-June-2020-edition/EU28-Energy-balance-sheets-June-2020-edition.xlsb', 'Primary solid biofuels')\n"
   ]
  },
  {
   "cell_type": "code",
   "execution_count": 16,
   "metadata": {},
   "outputs": [],
   "source": [
    "eu['biofuels'] = get_energy_dependency_agregate('Energy-Balances-June-2020-edition/EU28-Energy-balance-sheets-June-2020-edition.xlsb', 'Pure biogasoline', 'Other liquid biofuels')\n"
   ]
  },
  {
   "cell_type": "code",
   "execution_count": 17,
   "metadata": {},
   "outputs": [
    {
     "output_type": "execute_result",
     "data": {
      "text/plain": "      bioenergy     solid  biofuels\n2002   0.009162  0.006780 -0.019503\n2003   0.008199  0.004579  0.033948\n2004   0.013662  0.011343  0.013512\n2005   0.029114  0.019227  0.157384\n2006   0.037069  0.024716  0.174918\n2007   0.037380  0.023323  0.169789\n2008   0.043495  0.021392  0.227264\n2009   0.049830  0.028195  0.211406\n2010   0.054869  0.033329  0.220957\n2011   0.065281  0.033643  0.294026\n2012   0.057783  0.027369  0.267778\n2013   0.046849  0.037491  0.121589\n2014   0.053491  0.049313  0.091236\n2015   0.049960  0.043129  0.095858\n2016   0.050604  0.046930  0.086482\n2017   0.049412  0.047679  0.067171\n2018   0.063924  0.053491  0.127205",
      "text/html": "<div>\n<style scoped>\n    .dataframe tbody tr th:only-of-type {\n        vertical-align: middle;\n    }\n\n    .dataframe tbody tr th {\n        vertical-align: top;\n    }\n\n    .dataframe thead th {\n        text-align: right;\n    }\n</style>\n<table border=\"1\" class=\"dataframe\">\n  <thead>\n    <tr style=\"text-align: right;\">\n      <th></th>\n      <th>bioenergy</th>\n      <th>solid</th>\n      <th>biofuels</th>\n    </tr>\n  </thead>\n  <tbody>\n    <tr>\n      <th>2002</th>\n      <td>0.009162</td>\n      <td>0.006780</td>\n      <td>-0.019503</td>\n    </tr>\n    <tr>\n      <th>2003</th>\n      <td>0.008199</td>\n      <td>0.004579</td>\n      <td>0.033948</td>\n    </tr>\n    <tr>\n      <th>2004</th>\n      <td>0.013662</td>\n      <td>0.011343</td>\n      <td>0.013512</td>\n    </tr>\n    <tr>\n      <th>2005</th>\n      <td>0.029114</td>\n      <td>0.019227</td>\n      <td>0.157384</td>\n    </tr>\n    <tr>\n      <th>2006</th>\n      <td>0.037069</td>\n      <td>0.024716</td>\n      <td>0.174918</td>\n    </tr>\n    <tr>\n      <th>2007</th>\n      <td>0.037380</td>\n      <td>0.023323</td>\n      <td>0.169789</td>\n    </tr>\n    <tr>\n      <th>2008</th>\n      <td>0.043495</td>\n      <td>0.021392</td>\n      <td>0.227264</td>\n    </tr>\n    <tr>\n      <th>2009</th>\n      <td>0.049830</td>\n      <td>0.028195</td>\n      <td>0.211406</td>\n    </tr>\n    <tr>\n      <th>2010</th>\n      <td>0.054869</td>\n      <td>0.033329</td>\n      <td>0.220957</td>\n    </tr>\n    <tr>\n      <th>2011</th>\n      <td>0.065281</td>\n      <td>0.033643</td>\n      <td>0.294026</td>\n    </tr>\n    <tr>\n      <th>2012</th>\n      <td>0.057783</td>\n      <td>0.027369</td>\n      <td>0.267778</td>\n    </tr>\n    <tr>\n      <th>2013</th>\n      <td>0.046849</td>\n      <td>0.037491</td>\n      <td>0.121589</td>\n    </tr>\n    <tr>\n      <th>2014</th>\n      <td>0.053491</td>\n      <td>0.049313</td>\n      <td>0.091236</td>\n    </tr>\n    <tr>\n      <th>2015</th>\n      <td>0.049960</td>\n      <td>0.043129</td>\n      <td>0.095858</td>\n    </tr>\n    <tr>\n      <th>2016</th>\n      <td>0.050604</td>\n      <td>0.046930</td>\n      <td>0.086482</td>\n    </tr>\n    <tr>\n      <th>2017</th>\n      <td>0.049412</td>\n      <td>0.047679</td>\n      <td>0.067171</td>\n    </tr>\n    <tr>\n      <th>2018</th>\n      <td>0.063924</td>\n      <td>0.053491</td>\n      <td>0.127205</td>\n    </tr>\n  </tbody>\n</table>\n</div>"
     },
     "metadata": {},
     "execution_count": 17
    }
   ],
   "source": [
    "eu.to_csv(\n",
    "    'dependency_eu28_2002_2018.csv',\n",
    "    index_label='year',\n",
    "    decimal=',',\n",
    "    )\n",
    "\n",
    "eu"
   ]
  },
  {
   "cell_type": "code",
   "execution_count": null,
   "metadata": {},
   "outputs": [],
   "source": []
  }
 ],
 "metadata": {
  "kernelspec": {
   "name": "python_defaultSpec_1601626350785",
   "display_name": "Python 3.7.0 64-bit ('venv')",
   "metadata": {
    "interpreter": {
     "hash": "639da732ab091020ab968f361f5d8817f716db792fde42dd09c3e2e290128d87"
    }
   }
  },
  "language_info": {
   "codemirror_mode": {
    "name": "ipython",
    "version": 3
   },
   "file_extension": ".py",
   "mimetype": "text/x-python",
   "name": "python",
   "nbconvert_exporter": "python",
   "pygments_lexer": "ipython3",
   "version": "3.7.0-final"
  }
 },
 "nbformat": 4,
 "nbformat_minor": 4
}