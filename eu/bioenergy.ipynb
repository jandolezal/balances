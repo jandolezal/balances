{
 "metadata": {
  "language_info": {
   "codemirror_mode": {
    "name": "ipython",
    "version": 3
   },
   "file_extension": ".py",
   "mimetype": "text/x-python",
   "name": "python",
   "nbconvert_exporter": "python",
   "pygments_lexer": "ipython3",
   "version": "3.7.0-final"
  },
  "orig_nbformat": 2,
  "kernelspec": {
   "name": "python3",
   "display_name": "Python 3",
   "language": "python"
  }
 },
 "nbformat": 4,
 "nbformat_minor": 2,
 "cells": [
  {
   "source": [
    "# Eurostat energy balance 2018\n",
    "\n",
    "Extract bioenergy related data from an archive containing XLSB files, one for each EU country which contain multiple sheets for each year (1990-2018)."
   ],
   "cell_type": "markdown",
   "metadata": {}
  },
  {
   "cell_type": "code",
   "execution_count": 1,
   "metadata": {},
   "outputs": [],
   "source": [
    "import os\n",
    "import zipfile\n",
    "import requests\n",
    "import pandas as pd\n",
    "import numpy as np\n",
    "import pyxlsb"
   ]
  },
  {
   "cell_type": "code",
   "execution_count": 2,
   "metadata": {},
   "outputs": [],
   "source": [
    "def get_values(file, country, variable, fuel, col_start, col_end):\n",
    "    \"\"\"Reads fuel variable in multiple sheets 2002-2018.\n",
    "    Sums the values across multiple columns if relevant.\n",
    "    Returns: dict\n",
    "    \"\"\"\n",
    "    trajectory = {}\n",
    "    for year in range(2002,2019):\n",
    "        df = pd.read_excel(\n",
    "            file,\n",
    "            engine='pyxlsb',\n",
    "            sheet_name=str(year),\n",
    "            skiprows=[0,1,2,3],\n",
    "            index_col=1\n",
    "            )\n",
    "        try:\n",
    "            trajectory[(country, year, fuel)] = df.loc[variable, col_start:col_end].sum()\n",
    "        except TypeError:\n",
    "            trajectory[(country, year, fuel)] = pd.to_numeric(df.loc[variable, col_start:col_end], errors='coerce').sum()\n",
    "    return trajectory\n"
   ]
  },
  {
   "cell_type": "code",
   "execution_count": 3,
   "metadata": {},
   "outputs": [],
   "source": [
    "def read_excels(directory, var, var_key, col_start, col_end):\n",
    "    d = {}\n",
    "    \n",
    "    for filename in os.listdir(directory):\n",
    "        if '!' not in filename: # skip readme files\n",
    "            country = filename.split('-')[0]\n",
    "            excel_path = os.path.join(directory, filename)\n",
    "            data = get_values(excel_path, country, var, var_key, col_start, col_end)\n",
    "            d.update(data)\n",
    "    return d"
   ]
  },
  {
   "cell_type": "code",
   "execution_count": 4,
   "metadata": {},
   "outputs": [],
   "source": [
    "tj_ktoe = 41.868"
   ]
  },
  {
   "cell_type": "code",
   "execution_count": 5,
   "metadata": {},
   "outputs": [],
   "source": [
    "url = 'https://ec.europa.eu/eurostat/documents/38154/4956218/Energy-Balances-April-2020-edition.zip/69da6e9f-bf8f-cd8e-f4ad-50b52f8ce616'\n",
    "\n",
    "r = requests.get(url)\n",
    "\n",
    "with open('eurostat_balances_2020.zip', 'wb') as f:\n",
    "    f.write(r.content)"
   ]
  },
  {
   "cell_type": "code",
   "execution_count": 6,
   "metadata": {
    "tags": []
   },
   "outputs": [],
   "source": [
    "# All variables of interest\n",
    "all_data = {}\n",
    "\n",
    "variables = [\n",
    "    'Primary production',\n",
    "    'Imports',\n",
    "    'Exports',\n",
    "    'Gross inland consumption',\n",
    "    ]\n",
    "\n",
    "fuel_tuples = [\n",
    "    ('total', 'Total', 'Total'),\n",
    "    ('renewables', 'Renewables and biofuels', 'Renewables and biofuels'),\n",
    "    ('bioenergy', 'Bioenergy', 'Bioenergy',),\n",
    "    ('solid_biomass', 'Primary solid biofuels', 'Primary solid biofuels'),\n",
    "    ('biofuels', 'Pure biogasoline', 'Other liquid biofuels'),\n",
    "    ('biogas', 'Biogases', 'Biogases'),\n",
    "    ('ren_mun_waste', 'Renewable municipal waste', 'Renewable municipal waste'),\n",
    "    ]\n",
    "\n",
    "with zipfile.ZipFile('eurostat_balances_2020.zip', 'r') as zip_archive:\n",
    "    zip_archive.extractall(path='balances/')\n",
    "\n",
    "for variable in variables:\n",
    "    for fuel_key, start, end in fuel_tuples:\n",
    "        data = read_excels('balances', variable, fuel_key, start, end)\n",
    "        all_data.setdefault(variable.lower().replace(' ', '_'), {}).update(data)\n",
    "\n",
    "df = pd.DataFrame(all_data)\n",
    "df.index.names = ['country', 'year', 'fuel']"
   ]
  },
  {
   "cell_type": "code",
   "execution_count": 7,
   "metadata": {},
   "outputs": [
    {
     "output_type": "execute_result",
     "data": {
      "text/plain": [
       "                           primary_production  imports  exports  \\\n",
       "country year fuel                                                 \n",
       "LT      2002 total                    5227.83  9372.06  5679.77   \n",
       "        2003 total                    5552.45    10490  6446.45   \n",
       "        2004 total                    5392.67  12284.9  7911.38   \n",
       "        2005 total                     4145.6  12800.7  7751.96   \n",
       "        2006 total                     3737.9  12485.8  7048.76   \n",
       "...                                       ...      ...      ...   \n",
       "ES      2014 ren_mun_waste            204.189        0        0   \n",
       "        2015 ren_mun_waste            252.006        0        0   \n",
       "        2016 ren_mun_waste            235.239        0        0   \n",
       "        2017 ren_mun_waste            259.661        0        0   \n",
       "        2018 ren_mun_waste            254.132        0        0   \n",
       "\n",
       "                           gross_inland_consumption  \n",
       "country year fuel                                    \n",
       "LT      2002 total                          8983.61  \n",
       "        2003 total                          9369.74  \n",
       "        2004 total                          9495.61  \n",
       "        2005 total                          8982.81  \n",
       "        2006 total                          8872.44  \n",
       "...                                             ...  \n",
       "ES      2014 ren_mun_waste                  204.189  \n",
       "        2015 ren_mun_waste                  252.006  \n",
       "        2016 ren_mun_waste                  235.239  \n",
       "        2017 ren_mun_waste                  259.661  \n",
       "        2018 ren_mun_waste                  254.132  \n",
       "\n",
       "[5117 rows x 4 columns]"
      ],
      "text/html": "<div>\n<style scoped>\n    .dataframe tbody tr th:only-of-type {\n        vertical-align: middle;\n    }\n\n    .dataframe tbody tr th {\n        vertical-align: top;\n    }\n\n    .dataframe thead th {\n        text-align: right;\n    }\n</style>\n<table border=\"1\" class=\"dataframe\">\n  <thead>\n    <tr style=\"text-align: right;\">\n      <th></th>\n      <th></th>\n      <th></th>\n      <th>primary_production</th>\n      <th>imports</th>\n      <th>exports</th>\n      <th>gross_inland_consumption</th>\n    </tr>\n    <tr>\n      <th>country</th>\n      <th>year</th>\n      <th>fuel</th>\n      <th></th>\n      <th></th>\n      <th></th>\n      <th></th>\n    </tr>\n  </thead>\n  <tbody>\n    <tr>\n      <th rowspan=\"5\" valign=\"top\">LT</th>\n      <th>2002</th>\n      <th>total</th>\n      <td>5227.83</td>\n      <td>9372.06</td>\n      <td>5679.77</td>\n      <td>8983.61</td>\n    </tr>\n    <tr>\n      <th>2003</th>\n      <th>total</th>\n      <td>5552.45</td>\n      <td>10490</td>\n      <td>6446.45</td>\n      <td>9369.74</td>\n    </tr>\n    <tr>\n      <th>2004</th>\n      <th>total</th>\n      <td>5392.67</td>\n      <td>12284.9</td>\n      <td>7911.38</td>\n      <td>9495.61</td>\n    </tr>\n    <tr>\n      <th>2005</th>\n      <th>total</th>\n      <td>4145.6</td>\n      <td>12800.7</td>\n      <td>7751.96</td>\n      <td>8982.81</td>\n    </tr>\n    <tr>\n      <th>2006</th>\n      <th>total</th>\n      <td>3737.9</td>\n      <td>12485.8</td>\n      <td>7048.76</td>\n      <td>8872.44</td>\n    </tr>\n    <tr>\n      <th>...</th>\n      <th>...</th>\n      <th>...</th>\n      <td>...</td>\n      <td>...</td>\n      <td>...</td>\n      <td>...</td>\n    </tr>\n    <tr>\n      <th rowspan=\"5\" valign=\"top\">ES</th>\n      <th>2014</th>\n      <th>ren_mun_waste</th>\n      <td>204.189</td>\n      <td>0</td>\n      <td>0</td>\n      <td>204.189</td>\n    </tr>\n    <tr>\n      <th>2015</th>\n      <th>ren_mun_waste</th>\n      <td>252.006</td>\n      <td>0</td>\n      <td>0</td>\n      <td>252.006</td>\n    </tr>\n    <tr>\n      <th>2016</th>\n      <th>ren_mun_waste</th>\n      <td>235.239</td>\n      <td>0</td>\n      <td>0</td>\n      <td>235.239</td>\n    </tr>\n    <tr>\n      <th>2017</th>\n      <th>ren_mun_waste</th>\n      <td>259.661</td>\n      <td>0</td>\n      <td>0</td>\n      <td>259.661</td>\n    </tr>\n    <tr>\n      <th>2018</th>\n      <th>ren_mun_waste</th>\n      <td>254.132</td>\n      <td>0</td>\n      <td>0</td>\n      <td>254.132</td>\n    </tr>\n  </tbody>\n</table>\n<p>5117 rows × 4 columns</p>\n</div>"
     },
     "metadata": {},
     "execution_count": 7
    }
   ],
   "source": [
    "df"
   ]
  },
  {
   "cell_type": "code",
   "execution_count": 8,
   "metadata": {},
   "outputs": [
    {
     "output_type": "stream",
     "name": "stdout",
     "text": [
      "<class 'pandas.core.frame.DataFrame'>\nMultiIndex: 5117 entries, ('LT', 2002, 'total') to ('ES', 2018, 'ren_mun_waste')\nData columns (total 4 columns):\n #   Column                    Non-Null Count  Dtype \n---  ------                    --------------  ----- \n 0   primary_production        5117 non-null   object\n 1   imports                   5117 non-null   object\n 2   exports                   5117 non-null   object\n 3   gross_inland_consumption  5117 non-null   object\ndtypes: object(4)\nmemory usage: 177.8+ KB\n"
     ]
    }
   ],
   "source": [
    "df.info()"
   ]
  },
  {
   "cell_type": "code",
   "execution_count": 9,
   "metadata": {},
   "outputs": [
    {
     "output_type": "execute_result",
     "data": {
      "text/plain": [
       "Index(['LT', 'EE', 'UK', 'IE', 'MK', 'DE', 'MT', 'AT', 'XK', 'BA', 'RO', 'NL',\n",
       "       'HR', 'UA', 'GE', 'AL', 'SE', 'EU27_2020', 'LV', 'CY', 'MD', 'FR', 'HU',\n",
       "       'RS', 'FI', 'PT', 'BG', 'ME', 'DK', 'IT', 'TR', 'SI', 'NO', 'EL', 'SK',\n",
       "       'CZ', 'LU', 'IS', 'EU28', 'PL', 'EA19', 'BE', 'ES'],\n",
       "      dtype='object', name='country')"
      ]
     },
     "metadata": {},
     "execution_count": 9
    }
   ],
   "source": [
    "df.index.unique(level=0)"
   ]
  },
  {
   "cell_type": "code",
   "execution_count": 10,
   "metadata": {},
   "outputs": [
    {
     "output_type": "execute_result",
     "data": {
      "text/plain": [
       "                           primary_production  imports  exports  \\\n",
       "country year fuel                                                 \n",
       "LT      2002 total                    5227.83  9372.06  5679.77   \n",
       "        2003 total                    5552.45    10490  6446.45   \n",
       "        2004 total                    5392.67  12284.9  7911.38   \n",
       "        2005 total                     4145.6  12800.7  7751.96   \n",
       "        2006 total                     3737.9  12485.8  7048.76   \n",
       "...                                       ...      ...      ...   \n",
       "ES      2014 ren_mun_waste            204.189        0        0   \n",
       "        2015 ren_mun_waste            252.006        0        0   \n",
       "        2016 ren_mun_waste            235.239        0        0   \n",
       "        2017 ren_mun_waste            259.661        0        0   \n",
       "        2018 ren_mun_waste            254.132        0        0   \n",
       "\n",
       "                           gross_inland_consumption  \n",
       "country year fuel                                    \n",
       "LT      2002 total                          8983.61  \n",
       "        2003 total                          9369.74  \n",
       "        2004 total                          9495.61  \n",
       "        2005 total                          8982.81  \n",
       "        2006 total                          8872.44  \n",
       "...                                             ...  \n",
       "ES      2014 ren_mun_waste                  204.189  \n",
       "        2015 ren_mun_waste                  252.006  \n",
       "        2016 ren_mun_waste                  235.239  \n",
       "        2017 ren_mun_waste                  259.661  \n",
       "        2018 ren_mun_waste                  254.132  \n",
       "\n",
       "[5117 rows x 4 columns]"
      ],
      "text/html": "<div>\n<style scoped>\n    .dataframe tbody tr th:only-of-type {\n        vertical-align: middle;\n    }\n\n    .dataframe tbody tr th {\n        vertical-align: top;\n    }\n\n    .dataframe thead th {\n        text-align: right;\n    }\n</style>\n<table border=\"1\" class=\"dataframe\">\n  <thead>\n    <tr style=\"text-align: right;\">\n      <th></th>\n      <th></th>\n      <th></th>\n      <th>primary_production</th>\n      <th>imports</th>\n      <th>exports</th>\n      <th>gross_inland_consumption</th>\n    </tr>\n    <tr>\n      <th>country</th>\n      <th>year</th>\n      <th>fuel</th>\n      <th></th>\n      <th></th>\n      <th></th>\n      <th></th>\n    </tr>\n  </thead>\n  <tbody>\n    <tr>\n      <th rowspan=\"5\" valign=\"top\">LT</th>\n      <th>2002</th>\n      <th>total</th>\n      <td>5227.83</td>\n      <td>9372.06</td>\n      <td>5679.77</td>\n      <td>8983.61</td>\n    </tr>\n    <tr>\n      <th>2003</th>\n      <th>total</th>\n      <td>5552.45</td>\n      <td>10490</td>\n      <td>6446.45</td>\n      <td>9369.74</td>\n    </tr>\n    <tr>\n      <th>2004</th>\n      <th>total</th>\n      <td>5392.67</td>\n      <td>12284.9</td>\n      <td>7911.38</td>\n      <td>9495.61</td>\n    </tr>\n    <tr>\n      <th>2005</th>\n      <th>total</th>\n      <td>4145.6</td>\n      <td>12800.7</td>\n      <td>7751.96</td>\n      <td>8982.81</td>\n    </tr>\n    <tr>\n      <th>2006</th>\n      <th>total</th>\n      <td>3737.9</td>\n      <td>12485.8</td>\n      <td>7048.76</td>\n      <td>8872.44</td>\n    </tr>\n    <tr>\n      <th>...</th>\n      <th>...</th>\n      <th>...</th>\n      <td>...</td>\n      <td>...</td>\n      <td>...</td>\n      <td>...</td>\n    </tr>\n    <tr>\n      <th rowspan=\"5\" valign=\"top\">ES</th>\n      <th>2014</th>\n      <th>ren_mun_waste</th>\n      <td>204.189</td>\n      <td>0</td>\n      <td>0</td>\n      <td>204.189</td>\n    </tr>\n    <tr>\n      <th>2015</th>\n      <th>ren_mun_waste</th>\n      <td>252.006</td>\n      <td>0</td>\n      <td>0</td>\n      <td>252.006</td>\n    </tr>\n    <tr>\n      <th>2016</th>\n      <th>ren_mun_waste</th>\n      <td>235.239</td>\n      <td>0</td>\n      <td>0</td>\n      <td>235.239</td>\n    </tr>\n    <tr>\n      <th>2017</th>\n      <th>ren_mun_waste</th>\n      <td>259.661</td>\n      <td>0</td>\n      <td>0</td>\n      <td>259.661</td>\n    </tr>\n    <tr>\n      <th>2018</th>\n      <th>ren_mun_waste</th>\n      <td>254.132</td>\n      <td>0</td>\n      <td>0</td>\n      <td>254.132</td>\n    </tr>\n  </tbody>\n</table>\n<p>5117 rows × 4 columns</p>\n</div>"
     },
     "metadata": {},
     "execution_count": 10
    }
   ],
   "source": [
    "df.loc[pd.IndexSlice[:, :, :], :]"
   ]
  },
  {
   "cell_type": "code",
   "execution_count": 11,
   "metadata": {},
   "outputs": [],
   "source": [
    "df.to_csv(\n",
    "    'bioenergy_2002_2018.csv',\n",
    "    decimal=',',\n",
    "    )"
   ]
  },
  {
   "cell_type": "code",
   "execution_count": 12,
   "metadata": {},
   "outputs": [],
   "source": [
    "df2 = df.copy()\n"
   ]
  },
  {
   "cell_type": "code",
   "execution_count": 13,
   "metadata": {},
   "outputs": [],
   "source": [
    "df2 = df2.apply(pd.to_numeric, downcast='float', errors='coerce')"
   ]
  },
  {
   "cell_type": "code",
   "execution_count": 14,
   "metadata": {},
   "outputs": [
    {
     "output_type": "execute_result",
     "data": {
      "text/plain": [
       "                            primary_production       imports      exports  \\\n",
       "country year fuel                                                           \n",
       "LT      2002 total                 5227.826172   9372.054688  5679.765137   \n",
       "        2003 total                 5552.446777  10489.969727  6446.448242   \n",
       "        2004 total                 5392.669922  12284.943359  7911.381836   \n",
       "        2005 total                 4145.604004  12800.707031  7751.960938   \n",
       "        2006 total                 3737.903076  12485.837891  7048.756836   \n",
       "...                                        ...           ...          ...   \n",
       "ES      2014 ren_mun_waste          204.188995      0.000000     0.000000   \n",
       "        2015 ren_mun_waste          252.005997      0.000000     0.000000   \n",
       "        2016 ren_mun_waste          235.238998      0.000000     0.000000   \n",
       "        2017 ren_mun_waste          259.661011      0.000000     0.000000   \n",
       "        2018 ren_mun_waste          254.132004      0.000000     0.000000   \n",
       "\n",
       "                            gross_inland_consumption  \n",
       "country year fuel                                     \n",
       "LT      2002 total                       8983.607422  \n",
       "        2003 total                       9369.743164  \n",
       "        2004 total                       9495.610352  \n",
       "        2005 total                       8982.805664  \n",
       "        2006 total                       8872.442383  \n",
       "...                                              ...  \n",
       "ES      2014 ren_mun_waste                204.188995  \n",
       "        2015 ren_mun_waste                252.005997  \n",
       "        2016 ren_mun_waste                235.238998  \n",
       "        2017 ren_mun_waste                259.661011  \n",
       "        2018 ren_mun_waste                254.132004  \n",
       "\n",
       "[5117 rows x 4 columns]"
      ],
      "text/html": "<div>\n<style scoped>\n    .dataframe tbody tr th:only-of-type {\n        vertical-align: middle;\n    }\n\n    .dataframe tbody tr th {\n        vertical-align: top;\n    }\n\n    .dataframe thead th {\n        text-align: right;\n    }\n</style>\n<table border=\"1\" class=\"dataframe\">\n  <thead>\n    <tr style=\"text-align: right;\">\n      <th></th>\n      <th></th>\n      <th></th>\n      <th>primary_production</th>\n      <th>imports</th>\n      <th>exports</th>\n      <th>gross_inland_consumption</th>\n    </tr>\n    <tr>\n      <th>country</th>\n      <th>year</th>\n      <th>fuel</th>\n      <th></th>\n      <th></th>\n      <th></th>\n      <th></th>\n    </tr>\n  </thead>\n  <tbody>\n    <tr>\n      <th rowspan=\"5\" valign=\"top\">LT</th>\n      <th>2002</th>\n      <th>total</th>\n      <td>5227.826172</td>\n      <td>9372.054688</td>\n      <td>5679.765137</td>\n      <td>8983.607422</td>\n    </tr>\n    <tr>\n      <th>2003</th>\n      <th>total</th>\n      <td>5552.446777</td>\n      <td>10489.969727</td>\n      <td>6446.448242</td>\n      <td>9369.743164</td>\n    </tr>\n    <tr>\n      <th>2004</th>\n      <th>total</th>\n      <td>5392.669922</td>\n      <td>12284.943359</td>\n      <td>7911.381836</td>\n      <td>9495.610352</td>\n    </tr>\n    <tr>\n      <th>2005</th>\n      <th>total</th>\n      <td>4145.604004</td>\n      <td>12800.707031</td>\n      <td>7751.960938</td>\n      <td>8982.805664</td>\n    </tr>\n    <tr>\n      <th>2006</th>\n      <th>total</th>\n      <td>3737.903076</td>\n      <td>12485.837891</td>\n      <td>7048.756836</td>\n      <td>8872.442383</td>\n    </tr>\n    <tr>\n      <th>...</th>\n      <th>...</th>\n      <th>...</th>\n      <td>...</td>\n      <td>...</td>\n      <td>...</td>\n      <td>...</td>\n    </tr>\n    <tr>\n      <th rowspan=\"5\" valign=\"top\">ES</th>\n      <th>2014</th>\n      <th>ren_mun_waste</th>\n      <td>204.188995</td>\n      <td>0.000000</td>\n      <td>0.000000</td>\n      <td>204.188995</td>\n    </tr>\n    <tr>\n      <th>2015</th>\n      <th>ren_mun_waste</th>\n      <td>252.005997</td>\n      <td>0.000000</td>\n      <td>0.000000</td>\n      <td>252.005997</td>\n    </tr>\n    <tr>\n      <th>2016</th>\n      <th>ren_mun_waste</th>\n      <td>235.238998</td>\n      <td>0.000000</td>\n      <td>0.000000</td>\n      <td>235.238998</td>\n    </tr>\n    <tr>\n      <th>2017</th>\n      <th>ren_mun_waste</th>\n      <td>259.661011</td>\n      <td>0.000000</td>\n      <td>0.000000</td>\n      <td>259.661011</td>\n    </tr>\n    <tr>\n      <th>2018</th>\n      <th>ren_mun_waste</th>\n      <td>254.132004</td>\n      <td>0.000000</td>\n      <td>0.000000</td>\n      <td>254.132004</td>\n    </tr>\n  </tbody>\n</table>\n<p>5117 rows × 4 columns</p>\n</div>"
     },
     "metadata": {},
     "execution_count": 14
    }
   ],
   "source": [
    "df2"
   ]
  },
  {
   "cell_type": "code",
   "execution_count": 15,
   "metadata": {},
   "outputs": [
    {
     "output_type": "stream",
     "name": "stdout",
     "text": [
      "<class 'pandas.core.frame.DataFrame'>\nMultiIndex: 5117 entries, ('LT', 2002, 'total') to ('ES', 2018, 'ren_mun_waste')\nData columns (total 4 columns):\n #   Column                    Non-Null Count  Dtype  \n---  ------                    --------------  -----  \n 0   primary_production        4900 non-null   float32\n 1   imports                   4900 non-null   float32\n 2   exports                   4900 non-null   float32\n 3   gross_inland_consumption  4900 non-null   float32\ndtypes: float32(4)\nmemory usage: 97.8+ KB\n"
     ]
    }
   ],
   "source": [
    "df2.info()"
   ]
  },
  {
   "cell_type": "code",
   "execution_count": 16,
   "metadata": {},
   "outputs": [],
   "source": [
    "df2['dependency'] = (df2['imports'] - df2['exports']) / df2['gross_inland_consumption']"
   ]
  },
  {
   "cell_type": "code",
   "execution_count": 17,
   "metadata": {},
   "outputs": [
    {
     "output_type": "execute_result",
     "data": {
      "text/plain": [
       "                            primary_production       imports      exports  \\\n",
       "country year fuel                                                           \n",
       "LT      2002 total                 5227.826172   9372.054688  5679.765137   \n",
       "        2003 total                 5552.446777  10489.969727  6446.448242   \n",
       "        2004 total                 5392.669922  12284.943359  7911.381836   \n",
       "        2005 total                 4145.604004  12800.707031  7751.960938   \n",
       "        2006 total                 3737.903076  12485.837891  7048.756836   \n",
       "...                                        ...           ...          ...   \n",
       "ES      2014 ren_mun_waste          204.188995      0.000000     0.000000   \n",
       "        2015 ren_mun_waste          252.005997      0.000000     0.000000   \n",
       "        2016 ren_mun_waste          235.238998      0.000000     0.000000   \n",
       "        2017 ren_mun_waste          259.661011      0.000000     0.000000   \n",
       "        2018 ren_mun_waste          254.132004      0.000000     0.000000   \n",
       "\n",
       "                            gross_inland_consumption  dependency  \n",
       "country year fuel                                                 \n",
       "LT      2002 total                       8983.607422    0.411003  \n",
       "        2003 total                       9369.743164    0.431551  \n",
       "        2004 total                       9495.610352    0.460588  \n",
       "        2005 total                       8982.805664    0.562046  \n",
       "        2006 total                       8872.442383    0.612805  \n",
       "...                                              ...         ...  \n",
       "ES      2014 ren_mun_waste                204.188995    0.000000  \n",
       "        2015 ren_mun_waste                252.005997    0.000000  \n",
       "        2016 ren_mun_waste                235.238998    0.000000  \n",
       "        2017 ren_mun_waste                259.661011    0.000000  \n",
       "        2018 ren_mun_waste                254.132004    0.000000  \n",
       "\n",
       "[5117 rows x 5 columns]"
      ],
      "text/html": "<div>\n<style scoped>\n    .dataframe tbody tr th:only-of-type {\n        vertical-align: middle;\n    }\n\n    .dataframe tbody tr th {\n        vertical-align: top;\n    }\n\n    .dataframe thead th {\n        text-align: right;\n    }\n</style>\n<table border=\"1\" class=\"dataframe\">\n  <thead>\n    <tr style=\"text-align: right;\">\n      <th></th>\n      <th></th>\n      <th></th>\n      <th>primary_production</th>\n      <th>imports</th>\n      <th>exports</th>\n      <th>gross_inland_consumption</th>\n      <th>dependency</th>\n    </tr>\n    <tr>\n      <th>country</th>\n      <th>year</th>\n      <th>fuel</th>\n      <th></th>\n      <th></th>\n      <th></th>\n      <th></th>\n      <th></th>\n    </tr>\n  </thead>\n  <tbody>\n    <tr>\n      <th rowspan=\"5\" valign=\"top\">LT</th>\n      <th>2002</th>\n      <th>total</th>\n      <td>5227.826172</td>\n      <td>9372.054688</td>\n      <td>5679.765137</td>\n      <td>8983.607422</td>\n      <td>0.411003</td>\n    </tr>\n    <tr>\n      <th>2003</th>\n      <th>total</th>\n      <td>5552.446777</td>\n      <td>10489.969727</td>\n      <td>6446.448242</td>\n      <td>9369.743164</td>\n      <td>0.431551</td>\n    </tr>\n    <tr>\n      <th>2004</th>\n      <th>total</th>\n      <td>5392.669922</td>\n      <td>12284.943359</td>\n      <td>7911.381836</td>\n      <td>9495.610352</td>\n      <td>0.460588</td>\n    </tr>\n    <tr>\n      <th>2005</th>\n      <th>total</th>\n      <td>4145.604004</td>\n      <td>12800.707031</td>\n      <td>7751.960938</td>\n      <td>8982.805664</td>\n      <td>0.562046</td>\n    </tr>\n    <tr>\n      <th>2006</th>\n      <th>total</th>\n      <td>3737.903076</td>\n      <td>12485.837891</td>\n      <td>7048.756836</td>\n      <td>8872.442383</td>\n      <td>0.612805</td>\n    </tr>\n    <tr>\n      <th>...</th>\n      <th>...</th>\n      <th>...</th>\n      <td>...</td>\n      <td>...</td>\n      <td>...</td>\n      <td>...</td>\n      <td>...</td>\n    </tr>\n    <tr>\n      <th rowspan=\"5\" valign=\"top\">ES</th>\n      <th>2014</th>\n      <th>ren_mun_waste</th>\n      <td>204.188995</td>\n      <td>0.000000</td>\n      <td>0.000000</td>\n      <td>204.188995</td>\n      <td>0.000000</td>\n    </tr>\n    <tr>\n      <th>2015</th>\n      <th>ren_mun_waste</th>\n      <td>252.005997</td>\n      <td>0.000000</td>\n      <td>0.000000</td>\n      <td>252.005997</td>\n      <td>0.000000</td>\n    </tr>\n    <tr>\n      <th>2016</th>\n      <th>ren_mun_waste</th>\n      <td>235.238998</td>\n      <td>0.000000</td>\n      <td>0.000000</td>\n      <td>235.238998</td>\n      <td>0.000000</td>\n    </tr>\n    <tr>\n      <th>2017</th>\n      <th>ren_mun_waste</th>\n      <td>259.661011</td>\n      <td>0.000000</td>\n      <td>0.000000</td>\n      <td>259.661011</td>\n      <td>0.000000</td>\n    </tr>\n    <tr>\n      <th>2018</th>\n      <th>ren_mun_waste</th>\n      <td>254.132004</td>\n      <td>0.000000</td>\n      <td>0.000000</td>\n      <td>254.132004</td>\n      <td>0.000000</td>\n    </tr>\n  </tbody>\n</table>\n<p>5117 rows × 5 columns</p>\n</div>"
     },
     "metadata": {},
     "execution_count": 17
    }
   ],
   "source": [
    "df2"
   ]
  },
  {
   "cell_type": "code",
   "execution_count": 18,
   "metadata": {},
   "outputs": [],
   "source": [
    "df2.sort_index(ascending=True, inplace=True)"
   ]
  },
  {
   "cell_type": "code",
   "execution_count": 19,
   "metadata": {},
   "outputs": [
    {
     "output_type": "execute_result",
     "data": {
      "text/plain": [
       "                            primary_production     imports    exports  \\\n",
       "country year fuel                                                       \n",
       "AL      2002 bioenergy              255.994995    0.000000   0.000000   \n",
       "             biofuels                 0.000000    0.000000   0.000000   \n",
       "             biogas                   0.000000    0.000000   0.000000   \n",
       "             ren_mun_waste            0.000000    0.000000   0.000000   \n",
       "             renewables             559.382019    0.000000   0.000000   \n",
       "...                                        ...         ...        ...   \n",
       "XK      2018 biogas                   0.000000    0.000000   0.000000   \n",
       "             ren_mun_waste            0.000000    0.000000   0.000000   \n",
       "             renewables             394.709015    9.141000   0.000000   \n",
       "             solid_biomass          368.170990    9.141000   0.000000   \n",
       "             total                 1822.274048  826.314026  69.603996   \n",
       "\n",
       "                            gross_inland_consumption  dependency  \n",
       "country year fuel                                                 \n",
       "AL      2002 bioenergy                    255.994995    0.000000  \n",
       "             biofuels                       0.000000         NaN  \n",
       "             biogas                         0.000000         NaN  \n",
       "             ren_mun_waste                  0.000000         NaN  \n",
       "             renewables                   559.382019    0.000000  \n",
       "...                                              ...         ...  \n",
       "XK      2018 biogas                         0.000000         NaN  \n",
       "             ren_mun_waste                  0.000000         NaN  \n",
       "             renewables                   403.850006    0.022635  \n",
       "             solid_biomass                377.312012    0.024227  \n",
       "             total                       2584.928955    0.292739  \n",
       "\n",
       "[5117 rows x 5 columns]"
      ],
      "text/html": "<div>\n<style scoped>\n    .dataframe tbody tr th:only-of-type {\n        vertical-align: middle;\n    }\n\n    .dataframe tbody tr th {\n        vertical-align: top;\n    }\n\n    .dataframe thead th {\n        text-align: right;\n    }\n</style>\n<table border=\"1\" class=\"dataframe\">\n  <thead>\n    <tr style=\"text-align: right;\">\n      <th></th>\n      <th></th>\n      <th></th>\n      <th>primary_production</th>\n      <th>imports</th>\n      <th>exports</th>\n      <th>gross_inland_consumption</th>\n      <th>dependency</th>\n    </tr>\n    <tr>\n      <th>country</th>\n      <th>year</th>\n      <th>fuel</th>\n      <th></th>\n      <th></th>\n      <th></th>\n      <th></th>\n      <th></th>\n    </tr>\n  </thead>\n  <tbody>\n    <tr>\n      <th rowspan=\"5\" valign=\"top\">AL</th>\n      <th rowspan=\"5\" valign=\"top\">2002</th>\n      <th>bioenergy</th>\n      <td>255.994995</td>\n      <td>0.000000</td>\n      <td>0.000000</td>\n      <td>255.994995</td>\n      <td>0.000000</td>\n    </tr>\n    <tr>\n      <th>biofuels</th>\n      <td>0.000000</td>\n      <td>0.000000</td>\n      <td>0.000000</td>\n      <td>0.000000</td>\n      <td>NaN</td>\n    </tr>\n    <tr>\n      <th>biogas</th>\n      <td>0.000000</td>\n      <td>0.000000</td>\n      <td>0.000000</td>\n      <td>0.000000</td>\n      <td>NaN</td>\n    </tr>\n    <tr>\n      <th>ren_mun_waste</th>\n      <td>0.000000</td>\n      <td>0.000000</td>\n      <td>0.000000</td>\n      <td>0.000000</td>\n      <td>NaN</td>\n    </tr>\n    <tr>\n      <th>renewables</th>\n      <td>559.382019</td>\n      <td>0.000000</td>\n      <td>0.000000</td>\n      <td>559.382019</td>\n      <td>0.000000</td>\n    </tr>\n    <tr>\n      <th>...</th>\n      <th>...</th>\n      <th>...</th>\n      <td>...</td>\n      <td>...</td>\n      <td>...</td>\n      <td>...</td>\n      <td>...</td>\n    </tr>\n    <tr>\n      <th rowspan=\"5\" valign=\"top\">XK</th>\n      <th rowspan=\"5\" valign=\"top\">2018</th>\n      <th>biogas</th>\n      <td>0.000000</td>\n      <td>0.000000</td>\n      <td>0.000000</td>\n      <td>0.000000</td>\n      <td>NaN</td>\n    </tr>\n    <tr>\n      <th>ren_mun_waste</th>\n      <td>0.000000</td>\n      <td>0.000000</td>\n      <td>0.000000</td>\n      <td>0.000000</td>\n      <td>NaN</td>\n    </tr>\n    <tr>\n      <th>renewables</th>\n      <td>394.709015</td>\n      <td>9.141000</td>\n      <td>0.000000</td>\n      <td>403.850006</td>\n      <td>0.022635</td>\n    </tr>\n    <tr>\n      <th>solid_biomass</th>\n      <td>368.170990</td>\n      <td>9.141000</td>\n      <td>0.000000</td>\n      <td>377.312012</td>\n      <td>0.024227</td>\n    </tr>\n    <tr>\n      <th>total</th>\n      <td>1822.274048</td>\n      <td>826.314026</td>\n      <td>69.603996</td>\n      <td>2584.928955</td>\n      <td>0.292739</td>\n    </tr>\n  </tbody>\n</table>\n<p>5117 rows × 5 columns</p>\n</div>"
     },
     "metadata": {},
     "execution_count": 19
    }
   ],
   "source": [
    "df2"
   ]
  },
  {
   "cell_type": "code",
   "execution_count": 20,
   "metadata": {},
   "outputs": [],
   "source": [
    "df2.to_csv(\n",
    "    'eurostat_2002_2018_ktoe.csv',\n",
    "    decimal=',',\n",
    "    )"
   ]
  },
  {
   "cell_type": "code",
   "execution_count": 21,
   "metadata": {},
   "outputs": [],
   "source": [
    "df3 = df2.copy()"
   ]
  },
  {
   "cell_type": "code",
   "execution_count": 22,
   "metadata": {},
   "outputs": [
    {
     "output_type": "execute_result",
     "data": {
      "text/plain": [
       "                            primary_production       imports      exports  \\\n",
       "country year fuel                                                           \n",
       "AL      2002 bioenergy            10717.998456      0.000000     0.000000   \n",
       "             biofuels                 0.000000      0.000000     0.000000   \n",
       "             biogas                   0.000000      0.000000     0.000000   \n",
       "             ren_mun_waste            0.000000      0.000000     0.000000   \n",
       "             renewables           23420.206373      0.000000     0.000000   \n",
       "...                                        ...           ...          ...   \n",
       "XK      2018 biogas                   0.000000      0.000000     0.000000   \n",
       "             ren_mun_waste            0.000000      0.000000     0.000000   \n",
       "             renewables           16525.677036    382.715379     0.000000   \n",
       "             solid_biomass        15414.583009    382.715379     0.000000   \n",
       "             total                76294.969835  34596.115635  2914.180116   \n",
       "\n",
       "                            gross_inland_consumption  dependency  \n",
       "country year fuel                                                 \n",
       "AL      2002 bioenergy                  10717.998456    0.000000  \n",
       "             biofuels                       0.000000         NaN  \n",
       "             biogas                         0.000000         NaN  \n",
       "             ren_mun_waste                  0.000000         NaN  \n",
       "             renewables                 23420.206373    0.000000  \n",
       "...                                              ...         ...  \n",
       "XK      2018 biogas                         0.000000         NaN  \n",
       "             ren_mun_waste                  0.000000         NaN  \n",
       "             renewables                 16908.392056    0.022635  \n",
       "             solid_biomass              15797.299307    0.024227  \n",
       "             total                     108225.805491    0.292739  \n",
       "\n",
       "[5117 rows x 5 columns]"
      ],
      "text/html": "<div>\n<style scoped>\n    .dataframe tbody tr th:only-of-type {\n        vertical-align: middle;\n    }\n\n    .dataframe tbody tr th {\n        vertical-align: top;\n    }\n\n    .dataframe thead th {\n        text-align: right;\n    }\n</style>\n<table border=\"1\" class=\"dataframe\">\n  <thead>\n    <tr style=\"text-align: right;\">\n      <th></th>\n      <th></th>\n      <th></th>\n      <th>primary_production</th>\n      <th>imports</th>\n      <th>exports</th>\n      <th>gross_inland_consumption</th>\n      <th>dependency</th>\n    </tr>\n    <tr>\n      <th>country</th>\n      <th>year</th>\n      <th>fuel</th>\n      <th></th>\n      <th></th>\n      <th></th>\n      <th></th>\n      <th></th>\n    </tr>\n  </thead>\n  <tbody>\n    <tr>\n      <th rowspan=\"5\" valign=\"top\">AL</th>\n      <th rowspan=\"5\" valign=\"top\">2002</th>\n      <th>bioenergy</th>\n      <td>10717.998456</td>\n      <td>0.000000</td>\n      <td>0.000000</td>\n      <td>10717.998456</td>\n      <td>0.000000</td>\n    </tr>\n    <tr>\n      <th>biofuels</th>\n      <td>0.000000</td>\n      <td>0.000000</td>\n      <td>0.000000</td>\n      <td>0.000000</td>\n      <td>NaN</td>\n    </tr>\n    <tr>\n      <th>biogas</th>\n      <td>0.000000</td>\n      <td>0.000000</td>\n      <td>0.000000</td>\n      <td>0.000000</td>\n      <td>NaN</td>\n    </tr>\n    <tr>\n      <th>ren_mun_waste</th>\n      <td>0.000000</td>\n      <td>0.000000</td>\n      <td>0.000000</td>\n      <td>0.000000</td>\n      <td>NaN</td>\n    </tr>\n    <tr>\n      <th>renewables</th>\n      <td>23420.206373</td>\n      <td>0.000000</td>\n      <td>0.000000</td>\n      <td>23420.206373</td>\n      <td>0.000000</td>\n    </tr>\n    <tr>\n      <th>...</th>\n      <th>...</th>\n      <th>...</th>\n      <td>...</td>\n      <td>...</td>\n      <td>...</td>\n      <td>...</td>\n      <td>...</td>\n    </tr>\n    <tr>\n      <th rowspan=\"5\" valign=\"top\">XK</th>\n      <th rowspan=\"5\" valign=\"top\">2018</th>\n      <th>biogas</th>\n      <td>0.000000</td>\n      <td>0.000000</td>\n      <td>0.000000</td>\n      <td>0.000000</td>\n      <td>NaN</td>\n    </tr>\n    <tr>\n      <th>ren_mun_waste</th>\n      <td>0.000000</td>\n      <td>0.000000</td>\n      <td>0.000000</td>\n      <td>0.000000</td>\n      <td>NaN</td>\n    </tr>\n    <tr>\n      <th>renewables</th>\n      <td>16525.677036</td>\n      <td>382.715379</td>\n      <td>0.000000</td>\n      <td>16908.392056</td>\n      <td>0.022635</td>\n    </tr>\n    <tr>\n      <th>solid_biomass</th>\n      <td>15414.583009</td>\n      <td>382.715379</td>\n      <td>0.000000</td>\n      <td>15797.299307</td>\n      <td>0.024227</td>\n    </tr>\n    <tr>\n      <th>total</th>\n      <td>76294.969835</td>\n      <td>34596.115635</td>\n      <td>2914.180116</td>\n      <td>108225.805491</td>\n      <td>0.292739</td>\n    </tr>\n  </tbody>\n</table>\n<p>5117 rows × 5 columns</p>\n</div>"
     },
     "metadata": {},
     "execution_count": 22
    }
   ],
   "source": [
    "tj_ktoe = 41.868\n",
    "\n",
    "df3 = df3.loc[:, 'primary_production': 'gross_inland_consumption'] * tj_ktoe\n",
    "\n",
    "# Keep the share based on the original data in ktoe\n",
    "df3['dependency'] = df2['dependency']\n",
    "df3"
   ]
  },
  {
   "cell_type": "code",
   "execution_count": 23,
   "metadata": {},
   "outputs": [],
   "source": [
    "df3.to_csv(\n",
    "    'eurostat_2002_2018_tj.csv',\n",
    "    decimal=',',\n",
    "    )"
   ]
  },
  {
   "cell_type": "code",
   "execution_count": 24,
   "metadata": {},
   "outputs": [
    {
     "output_type": "execute_result",
     "data": {
      "text/plain": [
       "                            primary_production       imports      exports  \\\n",
       "country year fuel                                                           \n",
       "CZ      2002 bioenergy             1768.482056      5.427000    39.639999   \n",
       "             biofuels                92.261002      0.035000    27.660999   \n",
       "             biogas                  35.945999      0.000000     0.000000   \n",
       "             ren_mun_waste           56.008999      0.000000     0.000000   \n",
       "             renewables            1988.066040      0.035000    27.660999   \n",
       "...                                        ...           ...          ...   \n",
       "        2018 biogas                 603.781982      0.000000     0.000000   \n",
       "             ren_mun_waste           87.627998      0.000000     0.000000   \n",
       "             renewables            4570.729980    431.136993   428.973999   \n",
       "             solid_biomass         3070.351074    206.854004   296.377991   \n",
       "             total                27345.869141  22992.556641  6989.462891   \n",
       "\n",
       "                            gross_inland_consumption  dependency  \n",
       "country year fuel                                                 \n",
       "CZ      2002 bioenergy                   1734.145020   -0.019729  \n",
       "             biofuels                      64.512001   -0.428230  \n",
       "             biogas                        35.945999    0.000000  \n",
       "             ren_mun_waste                 56.008999    0.000000  \n",
       "             renewables                  1960.317017   -0.014093  \n",
       "...                                              ...         ...  \n",
       "        2018 biogas                       603.781982    0.000000  \n",
       "             ren_mun_waste                 87.627998    0.000000  \n",
       "             renewables                  4569.796875    0.000473  \n",
       "             solid_biomass               2980.826904   -0.030033  \n",
       "             total                      43551.718750    0.367450  \n",
       "\n",
       "[119 rows x 5 columns]"
      ],
      "text/html": "<div>\n<style scoped>\n    .dataframe tbody tr th:only-of-type {\n        vertical-align: middle;\n    }\n\n    .dataframe tbody tr th {\n        vertical-align: top;\n    }\n\n    .dataframe thead th {\n        text-align: right;\n    }\n</style>\n<table border=\"1\" class=\"dataframe\">\n  <thead>\n    <tr style=\"text-align: right;\">\n      <th></th>\n      <th></th>\n      <th></th>\n      <th>primary_production</th>\n      <th>imports</th>\n      <th>exports</th>\n      <th>gross_inland_consumption</th>\n      <th>dependency</th>\n    </tr>\n    <tr>\n      <th>country</th>\n      <th>year</th>\n      <th>fuel</th>\n      <th></th>\n      <th></th>\n      <th></th>\n      <th></th>\n      <th></th>\n    </tr>\n  </thead>\n  <tbody>\n    <tr>\n      <th rowspan=\"11\" valign=\"top\">CZ</th>\n      <th rowspan=\"5\" valign=\"top\">2002</th>\n      <th>bioenergy</th>\n      <td>1768.482056</td>\n      <td>5.427000</td>\n      <td>39.639999</td>\n      <td>1734.145020</td>\n      <td>-0.019729</td>\n    </tr>\n    <tr>\n      <th>biofuels</th>\n      <td>92.261002</td>\n      <td>0.035000</td>\n      <td>27.660999</td>\n      <td>64.512001</td>\n      <td>-0.428230</td>\n    </tr>\n    <tr>\n      <th>biogas</th>\n      <td>35.945999</td>\n      <td>0.000000</td>\n      <td>0.000000</td>\n      <td>35.945999</td>\n      <td>0.000000</td>\n    </tr>\n    <tr>\n      <th>ren_mun_waste</th>\n      <td>56.008999</td>\n      <td>0.000000</td>\n      <td>0.000000</td>\n      <td>56.008999</td>\n      <td>0.000000</td>\n    </tr>\n    <tr>\n      <th>renewables</th>\n      <td>1988.066040</td>\n      <td>0.035000</td>\n      <td>27.660999</td>\n      <td>1960.317017</td>\n      <td>-0.014093</td>\n    </tr>\n    <tr>\n      <th>...</th>\n      <th>...</th>\n      <td>...</td>\n      <td>...</td>\n      <td>...</td>\n      <td>...</td>\n      <td>...</td>\n    </tr>\n    <tr>\n      <th rowspan=\"5\" valign=\"top\">2018</th>\n      <th>biogas</th>\n      <td>603.781982</td>\n      <td>0.000000</td>\n      <td>0.000000</td>\n      <td>603.781982</td>\n      <td>0.000000</td>\n    </tr>\n    <tr>\n      <th>ren_mun_waste</th>\n      <td>87.627998</td>\n      <td>0.000000</td>\n      <td>0.000000</td>\n      <td>87.627998</td>\n      <td>0.000000</td>\n    </tr>\n    <tr>\n      <th>renewables</th>\n      <td>4570.729980</td>\n      <td>431.136993</td>\n      <td>428.973999</td>\n      <td>4569.796875</td>\n      <td>0.000473</td>\n    </tr>\n    <tr>\n      <th>solid_biomass</th>\n      <td>3070.351074</td>\n      <td>206.854004</td>\n      <td>296.377991</td>\n      <td>2980.826904</td>\n      <td>-0.030033</td>\n    </tr>\n    <tr>\n      <th>total</th>\n      <td>27345.869141</td>\n      <td>22992.556641</td>\n      <td>6989.462891</td>\n      <td>43551.718750</td>\n      <td>0.367450</td>\n    </tr>\n  </tbody>\n</table>\n<p>119 rows × 5 columns</p>\n</div>"
     },
     "metadata": {},
     "execution_count": 24
    }
   ],
   "source": [
    "df2.loc[pd.IndexSlice['CZ', 2002:2018], :]"
   ]
  },
  {
   "cell_type": "code",
   "execution_count": 25,
   "metadata": {},
   "outputs": [
    {
     "output_type": "execute_result",
     "data": {
      "text/plain": [
       "                        primary_production        imports        exports  \\\n",
       "country year fuel                                                          \n",
       "AT      2018 bioenergy        2.240478e+05   46039.809907   36676.912304   \n",
       "CZ      2018 bioenergy        1.667133e+05   20343.326184   23004.498327   \n",
       "DK      2018 bioenergy        1.063762e+05   87731.419491   12966.058858   \n",
       "DE      2018 bioenergy        1.082730e+06  117757.307145  129846.651258   \n",
       "SK      2018 bioenergy        5.182438e+04    7459.998408    7719.873114   \n",
       "PL      2018 bioenergy        3.114666e+05   39538.088220   29267.993547   \n",
       "UK      2018 bioenergy        3.776739e+05  168692.908087   12383.465280   \n",
       "\n",
       "                        gross_inland_consumption  dependency  \n",
       "country year fuel                                             \n",
       "AT      2018 bioenergy              2.339790e+05    0.040016  \n",
       "CZ      2018 bioenergy              1.639224e+05   -0.016234  \n",
       "DK      2018 bioenergy              1.812002e+05    0.412612  \n",
       "DE      2018 bioenergy              1.070641e+06   -0.011292  \n",
       "SK      2018 bioenergy              5.129508e+04   -0.005066  \n",
       "PL      2018 bioenergy              3.210062e+05    0.031993  \n",
       "UK      2018 bioenergy              5.334908e+05    0.292994  "
      ],
      "text/html": "<div>\n<style scoped>\n    .dataframe tbody tr th:only-of-type {\n        vertical-align: middle;\n    }\n\n    .dataframe tbody tr th {\n        vertical-align: top;\n    }\n\n    .dataframe thead th {\n        text-align: right;\n    }\n</style>\n<table border=\"1\" class=\"dataframe\">\n  <thead>\n    <tr style=\"text-align: right;\">\n      <th></th>\n      <th></th>\n      <th></th>\n      <th>primary_production</th>\n      <th>imports</th>\n      <th>exports</th>\n      <th>gross_inland_consumption</th>\n      <th>dependency</th>\n    </tr>\n    <tr>\n      <th>country</th>\n      <th>year</th>\n      <th>fuel</th>\n      <th></th>\n      <th></th>\n      <th></th>\n      <th></th>\n      <th></th>\n    </tr>\n  </thead>\n  <tbody>\n    <tr>\n      <th>AT</th>\n      <th>2018</th>\n      <th>bioenergy</th>\n      <td>2.240478e+05</td>\n      <td>46039.809907</td>\n      <td>36676.912304</td>\n      <td>2.339790e+05</td>\n      <td>0.040016</td>\n    </tr>\n    <tr>\n      <th>CZ</th>\n      <th>2018</th>\n      <th>bioenergy</th>\n      <td>1.667133e+05</td>\n      <td>20343.326184</td>\n      <td>23004.498327</td>\n      <td>1.639224e+05</td>\n      <td>-0.016234</td>\n    </tr>\n    <tr>\n      <th>DK</th>\n      <th>2018</th>\n      <th>bioenergy</th>\n      <td>1.063762e+05</td>\n      <td>87731.419491</td>\n      <td>12966.058858</td>\n      <td>1.812002e+05</td>\n      <td>0.412612</td>\n    </tr>\n    <tr>\n      <th>DE</th>\n      <th>2018</th>\n      <th>bioenergy</th>\n      <td>1.082730e+06</td>\n      <td>117757.307145</td>\n      <td>129846.651258</td>\n      <td>1.070641e+06</td>\n      <td>-0.011292</td>\n    </tr>\n    <tr>\n      <th>SK</th>\n      <th>2018</th>\n      <th>bioenergy</th>\n      <td>5.182438e+04</td>\n      <td>7459.998408</td>\n      <td>7719.873114</td>\n      <td>5.129508e+04</td>\n      <td>-0.005066</td>\n    </tr>\n    <tr>\n      <th>PL</th>\n      <th>2018</th>\n      <th>bioenergy</th>\n      <td>3.114666e+05</td>\n      <td>39538.088220</td>\n      <td>29267.993547</td>\n      <td>3.210062e+05</td>\n      <td>0.031993</td>\n    </tr>\n    <tr>\n      <th>UK</th>\n      <th>2018</th>\n      <th>bioenergy</th>\n      <td>3.776739e+05</td>\n      <td>168692.908087</td>\n      <td>12383.465280</td>\n      <td>5.334908e+05</td>\n      <td>0.292994</td>\n    </tr>\n  </tbody>\n</table>\n</div>"
     },
     "metadata": {},
     "execution_count": 25
    }
   ],
   "source": [
    "df3.loc[pd.IndexSlice[['AT', 'CZ', 'DK', 'DE', 'SK', 'PL', 'UK'],2018,'bioenergy'], :]"
   ]
  },
  {
   "cell_type": "code",
   "execution_count": 26,
   "metadata": {},
   "outputs": [
    {
     "output_type": "execute_result",
     "data": {
      "text/plain": [
       "0.08989817355263677"
      ]
     },
     "metadata": {},
     "execution_count": 26
    }
   ],
   "source": [
    "# Share of bioenegy on consumption\n",
    "df3.loc[pd.IndexSlice['CZ',2018,'bioenergy'], 'gross_inland_consumption']/df3.loc[pd.IndexSlice['CZ',2018,'total'], 'gross_inland_consumption']"
   ]
  },
  {
   "cell_type": "code",
   "execution_count": 27,
   "metadata": {},
   "outputs": [],
   "source": [
    "df3.loc[pd.IndexSlice[['AT', 'CZ', 'DK', 'DE', 'SK', 'PL', 'UK'],2018,'bioenergy'], :].to_csv('dependency_2018_bioenergy_selected_tj.csv', decimal=',')"
   ]
  },
  {
   "cell_type": "code",
   "execution_count": 28,
   "metadata": {},
   "outputs": [],
   "source": [
    "df3.loc[pd.IndexSlice[['AT', 'CZ', 'DK', 'DE', 'SK', 'PL', 'UK'],2018,'solid_biomass'], :].to_csv('dependency_2018_solid_selected_tj.csv', decimal=',')"
   ]
  },
  {
   "cell_type": "code",
   "execution_count": 29,
   "metadata": {},
   "outputs": [
    {
     "output_type": "execute_result",
     "data": {
      "text/plain": [
       "country        AT        CZ        DE        DK        PL        SK        UK\n",
       "year                                                                         \n",
       "2002    -0.002344 -0.019729  0.001055  0.080602 -0.000458 -0.006294  0.005929\n",
       "2003    -0.028737 -0.079935  0.023298  0.086022 -0.000658 -0.016159  0.047902\n",
       "2004    -0.052183 -0.082543  0.025388  0.126475 -0.001240 -0.043027  0.139927\n",
       "2005    -0.007057 -0.105124  0.056233  0.176998 -0.017443 -0.099175  0.135144\n",
       "2006     0.079718 -0.120045  0.053409  0.162155 -0.018075 -0.061220  0.113934\n",
       "2007     0.068190 -0.111876  0.044321  0.168390 -0.002245 -0.037930  0.081093\n",
       "2008     0.055876 -0.093793  0.031562  0.204172  0.029388 -0.142918  0.188517\n",
       "2009     0.090154 -0.075996  0.028261  0.218144  0.035838 -0.112637  0.219696\n",
       "2010     0.072757 -0.054805  0.013523  0.269750  0.061702 -0.090813  0.257698\n",
       "2011     0.107367 -0.027223  0.015047  0.334321  0.064177 -0.085318  0.245723\n",
       "2012     0.086481 -0.027580  0.017337  0.389522  0.016716 -0.078080  0.200047\n",
       "2013     0.100393 -0.041146  0.010553  0.383048  0.001484 -0.060670  0.239198\n",
       "2014     0.091120 -0.024758 -0.002825  0.402036  0.071230 -0.021152  0.302160\n",
       "2015     0.078079 -0.017787 -0.006667  0.358410  0.018099 -0.002087  0.307072\n",
       "2016     0.053381 -0.005336 -0.007489  0.379573 -0.032536 -0.011650  0.287745\n",
       "2017     0.042707  0.002886 -0.008739  0.422590 -0.023345 -0.001225  0.248881\n",
       "2018     0.040016 -0.016234 -0.011292  0.412612  0.031993 -0.005066  0.292994"
      ],
      "text/html": "<div>\n<style scoped>\n    .dataframe tbody tr th:only-of-type {\n        vertical-align: middle;\n    }\n\n    .dataframe tbody tr th {\n        vertical-align: top;\n    }\n\n    .dataframe thead th {\n        text-align: right;\n    }\n</style>\n<table border=\"1\" class=\"dataframe\">\n  <thead>\n    <tr style=\"text-align: right;\">\n      <th>country</th>\n      <th>AT</th>\n      <th>CZ</th>\n      <th>DE</th>\n      <th>DK</th>\n      <th>PL</th>\n      <th>SK</th>\n      <th>UK</th>\n    </tr>\n    <tr>\n      <th>year</th>\n      <th></th>\n      <th></th>\n      <th></th>\n      <th></th>\n      <th></th>\n      <th></th>\n      <th></th>\n    </tr>\n  </thead>\n  <tbody>\n    <tr>\n      <th>2002</th>\n      <td>-0.002344</td>\n      <td>-0.019729</td>\n      <td>0.001055</td>\n      <td>0.080602</td>\n      <td>-0.000458</td>\n      <td>-0.006294</td>\n      <td>0.005929</td>\n    </tr>\n    <tr>\n      <th>2003</th>\n      <td>-0.028737</td>\n      <td>-0.079935</td>\n      <td>0.023298</td>\n      <td>0.086022</td>\n      <td>-0.000658</td>\n      <td>-0.016159</td>\n      <td>0.047902</td>\n    </tr>\n    <tr>\n      <th>2004</th>\n      <td>-0.052183</td>\n      <td>-0.082543</td>\n      <td>0.025388</td>\n      <td>0.126475</td>\n      <td>-0.001240</td>\n      <td>-0.043027</td>\n      <td>0.139927</td>\n    </tr>\n    <tr>\n      <th>2005</th>\n      <td>-0.007057</td>\n      <td>-0.105124</td>\n      <td>0.056233</td>\n      <td>0.176998</td>\n      <td>-0.017443</td>\n      <td>-0.099175</td>\n      <td>0.135144</td>\n    </tr>\n    <tr>\n      <th>2006</th>\n      <td>0.079718</td>\n      <td>-0.120045</td>\n      <td>0.053409</td>\n      <td>0.162155</td>\n      <td>-0.018075</td>\n      <td>-0.061220</td>\n      <td>0.113934</td>\n    </tr>\n    <tr>\n      <th>2007</th>\n      <td>0.068190</td>\n      <td>-0.111876</td>\n      <td>0.044321</td>\n      <td>0.168390</td>\n      <td>-0.002245</td>\n      <td>-0.037930</td>\n      <td>0.081093</td>\n    </tr>\n    <tr>\n      <th>2008</th>\n      <td>0.055876</td>\n      <td>-0.093793</td>\n      <td>0.031562</td>\n      <td>0.204172</td>\n      <td>0.029388</td>\n      <td>-0.142918</td>\n      <td>0.188517</td>\n    </tr>\n    <tr>\n      <th>2009</th>\n      <td>0.090154</td>\n      <td>-0.075996</td>\n      <td>0.028261</td>\n      <td>0.218144</td>\n      <td>0.035838</td>\n      <td>-0.112637</td>\n      <td>0.219696</td>\n    </tr>\n    <tr>\n      <th>2010</th>\n      <td>0.072757</td>\n      <td>-0.054805</td>\n      <td>0.013523</td>\n      <td>0.269750</td>\n      <td>0.061702</td>\n      <td>-0.090813</td>\n      <td>0.257698</td>\n    </tr>\n    <tr>\n      <th>2011</th>\n      <td>0.107367</td>\n      <td>-0.027223</td>\n      <td>0.015047</td>\n      <td>0.334321</td>\n      <td>0.064177</td>\n      <td>-0.085318</td>\n      <td>0.245723</td>\n    </tr>\n    <tr>\n      <th>2012</th>\n      <td>0.086481</td>\n      <td>-0.027580</td>\n      <td>0.017337</td>\n      <td>0.389522</td>\n      <td>0.016716</td>\n      <td>-0.078080</td>\n      <td>0.200047</td>\n    </tr>\n    <tr>\n      <th>2013</th>\n      <td>0.100393</td>\n      <td>-0.041146</td>\n      <td>0.010553</td>\n      <td>0.383048</td>\n      <td>0.001484</td>\n      <td>-0.060670</td>\n      <td>0.239198</td>\n    </tr>\n    <tr>\n      <th>2014</th>\n      <td>0.091120</td>\n      <td>-0.024758</td>\n      <td>-0.002825</td>\n      <td>0.402036</td>\n      <td>0.071230</td>\n      <td>-0.021152</td>\n      <td>0.302160</td>\n    </tr>\n    <tr>\n      <th>2015</th>\n      <td>0.078079</td>\n      <td>-0.017787</td>\n      <td>-0.006667</td>\n      <td>0.358410</td>\n      <td>0.018099</td>\n      <td>-0.002087</td>\n      <td>0.307072</td>\n    </tr>\n    <tr>\n      <th>2016</th>\n      <td>0.053381</td>\n      <td>-0.005336</td>\n      <td>-0.007489</td>\n      <td>0.379573</td>\n      <td>-0.032536</td>\n      <td>-0.011650</td>\n      <td>0.287745</td>\n    </tr>\n    <tr>\n      <th>2017</th>\n      <td>0.042707</td>\n      <td>0.002886</td>\n      <td>-0.008739</td>\n      <td>0.422590</td>\n      <td>-0.023345</td>\n      <td>-0.001225</td>\n      <td>0.248881</td>\n    </tr>\n    <tr>\n      <th>2018</th>\n      <td>0.040016</td>\n      <td>-0.016234</td>\n      <td>-0.011292</td>\n      <td>0.412612</td>\n      <td>0.031993</td>\n      <td>-0.005066</td>\n      <td>0.292994</td>\n    </tr>\n  </tbody>\n</table>\n</div>"
     },
     "metadata": {},
     "execution_count": 29
    }
   ],
   "source": [
    "pd.pivot_table(df3.loc[pd.IndexSlice[['AT', 'CZ', 'DK', 'DE', 'SK', 'PL', 'UK'],2002:2018,'bioenergy'], :], index='year', columns='country', values='dependency')"
   ]
  },
  {
   "cell_type": "code",
   "execution_count": 30,
   "metadata": {},
   "outputs": [],
   "source": [
    "pd.pivot_table(df3.loc[pd.IndexSlice[['AT', 'CZ', 'DK', 'DE', 'SK', 'PL', 'UK'],2002:2018,'bioenergy'], :], index='year', columns='country', values='dependency').to_csv('dependency_2002_2018_bioenergy_selected.csv', decimal=',')\n"
   ]
  },
  {
   "cell_type": "code",
   "execution_count": 31,
   "metadata": {},
   "outputs": [],
   "source": [
    "pd.pivot_table(df3.loc[pd.IndexSlice[['AT', 'CZ', 'DK', 'DE', 'SK', 'PL', 'UK'],2002:2018,'solid_biomass'], :], index='year', columns='country', values='dependency').to_csv('dependency_2002_2018_solid_selected.csv', decimal=',')"
   ]
  },
  {
   "cell_type": "code",
   "execution_count": 28,
   "metadata": {},
   "outputs": [
    {
     "output_type": "execute_result",
     "data": {
      "text/plain": [
       "                            primary_production      imports      exports  \\\n",
       "country year fuel                                                          \n",
       "EE      2002 bioenergy              567.283020     0.096000    17.285000   \n",
       "             biofuels                 0.000000     0.000000     0.000000   \n",
       "             biogas                   2.078000     0.000000     0.000000   \n",
       "             ren_mun_waste            0.000000     0.000000     0.000000   \n",
       "             renewables             567.885010     0.000000    17.030001   \n",
       "...                                        ...          ...          ...   \n",
       "        2018 biogas                  13.638000     0.000000     0.000000   \n",
       "             ren_mun_waste           23.096001     7.739000     0.000000   \n",
       "             renewables            1743.371948    39.242001   617.226013   \n",
       "             solid_biomass         1648.012939    14.355000   617.226013   \n",
       "             total                 6604.620117  2787.822998  2739.016113   \n",
       "\n",
       "                            gross_inland_consumption  dependency  \n",
       "country year fuel                                                 \n",
       "EE      2002 bioenergy                    547.393982   -0.031402  \n",
       "             biofuels                       0.000000         NaN  \n",
       "             biogas                         2.078000    0.000000  \n",
       "             ren_mun_waste                  0.000000         NaN  \n",
       "             renewables                   548.156006   -0.031068  \n",
       "...                                              ...         ...  \n",
       "        2018 biogas                        13.638000    0.000000  \n",
       "             ren_mun_waste                 30.834999    0.250981  \n",
       "             renewables                  1155.762939   -0.500089  \n",
       "             solid_biomass               1035.515991   -0.582194  \n",
       "             total                       6297.550781    0.007750  \n",
       "\n",
       "[119 rows x 5 columns]"
      ],
      "text/html": "<div>\n<style scoped>\n    .dataframe tbody tr th:only-of-type {\n        vertical-align: middle;\n    }\n\n    .dataframe tbody tr th {\n        vertical-align: top;\n    }\n\n    .dataframe thead th {\n        text-align: right;\n    }\n</style>\n<table border=\"1\" class=\"dataframe\">\n  <thead>\n    <tr style=\"text-align: right;\">\n      <th></th>\n      <th></th>\n      <th></th>\n      <th>primary_production</th>\n      <th>imports</th>\n      <th>exports</th>\n      <th>gross_inland_consumption</th>\n      <th>dependency</th>\n    </tr>\n    <tr>\n      <th>country</th>\n      <th>year</th>\n      <th>fuel</th>\n      <th></th>\n      <th></th>\n      <th></th>\n      <th></th>\n      <th></th>\n    </tr>\n  </thead>\n  <tbody>\n    <tr>\n      <th rowspan=\"11\" valign=\"top\">EE</th>\n      <th rowspan=\"5\" valign=\"top\">2002</th>\n      <th>bioenergy</th>\n      <td>567.283020</td>\n      <td>0.096000</td>\n      <td>17.285000</td>\n      <td>547.393982</td>\n      <td>-0.031402</td>\n    </tr>\n    <tr>\n      <th>biofuels</th>\n      <td>0.000000</td>\n      <td>0.000000</td>\n      <td>0.000000</td>\n      <td>0.000000</td>\n      <td>NaN</td>\n    </tr>\n    <tr>\n      <th>biogas</th>\n      <td>2.078000</td>\n      <td>0.000000</td>\n      <td>0.000000</td>\n      <td>2.078000</td>\n      <td>0.000000</td>\n    </tr>\n    <tr>\n      <th>ren_mun_waste</th>\n      <td>0.000000</td>\n      <td>0.000000</td>\n      <td>0.000000</td>\n      <td>0.000000</td>\n      <td>NaN</td>\n    </tr>\n    <tr>\n      <th>renewables</th>\n      <td>567.885010</td>\n      <td>0.000000</td>\n      <td>17.030001</td>\n      <td>548.156006</td>\n      <td>-0.031068</td>\n    </tr>\n    <tr>\n      <th>...</th>\n      <th>...</th>\n      <td>...</td>\n      <td>...</td>\n      <td>...</td>\n      <td>...</td>\n      <td>...</td>\n    </tr>\n    <tr>\n      <th rowspan=\"5\" valign=\"top\">2018</th>\n      <th>biogas</th>\n      <td>13.638000</td>\n      <td>0.000000</td>\n      <td>0.000000</td>\n      <td>13.638000</td>\n      <td>0.000000</td>\n    </tr>\n    <tr>\n      <th>ren_mun_waste</th>\n      <td>23.096001</td>\n      <td>7.739000</td>\n      <td>0.000000</td>\n      <td>30.834999</td>\n      <td>0.250981</td>\n    </tr>\n    <tr>\n      <th>renewables</th>\n      <td>1743.371948</td>\n      <td>39.242001</td>\n      <td>617.226013</td>\n      <td>1155.762939</td>\n      <td>-0.500089</td>\n    </tr>\n    <tr>\n      <th>solid_biomass</th>\n      <td>1648.012939</td>\n      <td>14.355000</td>\n      <td>617.226013</td>\n      <td>1035.515991</td>\n      <td>-0.582194</td>\n    </tr>\n    <tr>\n      <th>total</th>\n      <td>6604.620117</td>\n      <td>2787.822998</td>\n      <td>2739.016113</td>\n      <td>6297.550781</td>\n      <td>0.007750</td>\n    </tr>\n  </tbody>\n</table>\n<p>119 rows × 5 columns</p>\n</div>"
     },
     "metadata": {},
     "execution_count": 28
    }
   ],
   "source": []
  },
  {
   "cell_type": "code",
   "execution_count": null,
   "metadata": {},
   "outputs": [],
   "source": []
  }
 ]
}