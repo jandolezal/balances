{
 "metadata": {
  "language_info": {
   "codemirror_mode": {
    "name": "ipython",
    "version": 3
   },
   "file_extension": ".py",
   "mimetype": "text/x-python",
   "name": "python",
   "nbconvert_exporter": "python",
   "pygments_lexer": "ipython3",
   "version": "3.7.0-final"
  },
  "orig_nbformat": 2,
  "kernelspec": {
   "name": "Python 3.7.0 64-bit ('anaconda3': virtualenv)",
   "display_name": "Python 3.7.0 64-bit ('anaconda3': virtualenv)",
   "metadata": {
    "interpreter": {
     "hash": "639da732ab091020ab968f361f5d8817f716db792fde42dd09c3e2e290128d87"
    }
   }
  }
 },
 "nbformat": 4,
 "nbformat_minor": 2,
 "cells": [
  {
   "source": [
    "# Bioenergy consumption for each fuel\n",
    "\n",
    "Gross inland consumption from Eurostat energy balances"
   ],
   "cell_type": "markdown",
   "metadata": {}
  },
  {
   "cell_type": "code",
   "execution_count": 1,
   "metadata": {},
   "outputs": [],
   "source": [
    "import pandas as pd\n",
    "import os\n",
    "import datetime"
   ]
  },
  {
   "cell_type": "code",
   "execution_count": 2,
   "metadata": {},
   "outputs": [],
   "source": [
    "csv_input_dir = 'data'\n",
    "csv_output_dir = datetime.datetime.today().strftime('%Y-%m-%d')\n",
    "\n",
    "if not os.path.exists(csv_output_dir):\n",
    "    os.mkdir(csv_output_dir)\n",
    "\n",
    "df = pd.read_csv(os.path.join(os.path.abspath(csv_input_dir), 'eurostat_2002_2018_tj.csv'), decimal=',')"
   ]
  },
  {
   "cell_type": "code",
   "execution_count": 3,
   "metadata": {},
   "outputs": [
    {
     "output_type": "execute_result",
     "data": {
      "text/plain": [
       "    country  year           fuel  primary_production        imports  \\\n",
       "0        AT  2002      bioenergy       122271.893352    8231.248800   \n",
       "1        AT  2002       biofuels          851.888196       0.000000   \n",
       "2        AT  2002         biogas          919.002600       0.000000   \n",
       "3        AT  2002  ren_mun_waste         1970.015004       0.000000   \n",
       "4        AT  2002     renewables       271743.500376    6886.992924   \n",
       "..      ...   ...            ...                 ...            ...   \n",
       "709      SK  2018         biogas         6227.990604       0.000000   \n",
       "710      SK  2018  ren_mun_waste          628.982964       0.000000   \n",
       "711      SK  2018     renewables        67550.961636    4738.787712   \n",
       "712      SK  2018  solid_biomass        37999.019988     134.982432   \n",
       "713      SK  2018          total       251204.524956  642985.758468   \n",
       "\n",
       "           exports  gross_inland_consumption  dependency  \n",
       "0      8517.123504             121985.976780   -0.002344  \n",
       "1         0.000000                851.888196    0.000000  \n",
       "2         0.000000                919.002600    0.000000  \n",
       "3         0.000000               1970.015004    0.000000  \n",
       "4      7233.994908             271396.498392   -0.001279  \n",
       "..             ...                       ...         ...  \n",
       "709       0.000000               6227.990604    0.000000  \n",
       "710       0.000000                628.982964    0.000000  \n",
       "711    5814.711576              66205.659060   -0.016251  \n",
       "712     494.000532              37229.988564   -0.009643  \n",
       "713  188531.017848             713665.013328    0.636790  \n",
       "\n",
       "[714 rows x 8 columns]"
      ],
      "text/html": "<div>\n<style scoped>\n    .dataframe tbody tr th:only-of-type {\n        vertical-align: middle;\n    }\n\n    .dataframe tbody tr th {\n        vertical-align: top;\n    }\n\n    .dataframe thead th {\n        text-align: right;\n    }\n</style>\n<table border=\"1\" class=\"dataframe\">\n  <thead>\n    <tr style=\"text-align: right;\">\n      <th></th>\n      <th>country</th>\n      <th>year</th>\n      <th>fuel</th>\n      <th>primary_production</th>\n      <th>imports</th>\n      <th>exports</th>\n      <th>gross_inland_consumption</th>\n      <th>dependency</th>\n    </tr>\n  </thead>\n  <tbody>\n    <tr>\n      <th>0</th>\n      <td>AT</td>\n      <td>2002</td>\n      <td>bioenergy</td>\n      <td>122271.893352</td>\n      <td>8231.248800</td>\n      <td>8517.123504</td>\n      <td>121985.976780</td>\n      <td>-0.002344</td>\n    </tr>\n    <tr>\n      <th>1</th>\n      <td>AT</td>\n      <td>2002</td>\n      <td>biofuels</td>\n      <td>851.888196</td>\n      <td>0.000000</td>\n      <td>0.000000</td>\n      <td>851.888196</td>\n      <td>0.000000</td>\n    </tr>\n    <tr>\n      <th>2</th>\n      <td>AT</td>\n      <td>2002</td>\n      <td>biogas</td>\n      <td>919.002600</td>\n      <td>0.000000</td>\n      <td>0.000000</td>\n      <td>919.002600</td>\n      <td>0.000000</td>\n    </tr>\n    <tr>\n      <th>3</th>\n      <td>AT</td>\n      <td>2002</td>\n      <td>ren_mun_waste</td>\n      <td>1970.015004</td>\n      <td>0.000000</td>\n      <td>0.000000</td>\n      <td>1970.015004</td>\n      <td>0.000000</td>\n    </tr>\n    <tr>\n      <th>4</th>\n      <td>AT</td>\n      <td>2002</td>\n      <td>renewables</td>\n      <td>271743.500376</td>\n      <td>6886.992924</td>\n      <td>7233.994908</td>\n      <td>271396.498392</td>\n      <td>-0.001279</td>\n    </tr>\n    <tr>\n      <th>...</th>\n      <td>...</td>\n      <td>...</td>\n      <td>...</td>\n      <td>...</td>\n      <td>...</td>\n      <td>...</td>\n      <td>...</td>\n      <td>...</td>\n    </tr>\n    <tr>\n      <th>709</th>\n      <td>SK</td>\n      <td>2018</td>\n      <td>biogas</td>\n      <td>6227.990604</td>\n      <td>0.000000</td>\n      <td>0.000000</td>\n      <td>6227.990604</td>\n      <td>0.000000</td>\n    </tr>\n    <tr>\n      <th>710</th>\n      <td>SK</td>\n      <td>2018</td>\n      <td>ren_mun_waste</td>\n      <td>628.982964</td>\n      <td>0.000000</td>\n      <td>0.000000</td>\n      <td>628.982964</td>\n      <td>0.000000</td>\n    </tr>\n    <tr>\n      <th>711</th>\n      <td>SK</td>\n      <td>2018</td>\n      <td>renewables</td>\n      <td>67550.961636</td>\n      <td>4738.787712</td>\n      <td>5814.711576</td>\n      <td>66205.659060</td>\n      <td>-0.016251</td>\n    </tr>\n    <tr>\n      <th>712</th>\n      <td>SK</td>\n      <td>2018</td>\n      <td>solid_biomass</td>\n      <td>37999.019988</td>\n      <td>134.982432</td>\n      <td>494.000532</td>\n      <td>37229.988564</td>\n      <td>-0.009643</td>\n    </tr>\n    <tr>\n      <th>713</th>\n      <td>SK</td>\n      <td>2018</td>\n      <td>total</td>\n      <td>251204.524956</td>\n      <td>642985.758468</td>\n      <td>188531.017848</td>\n      <td>713665.013328</td>\n      <td>0.636790</td>\n    </tr>\n  </tbody>\n</table>\n<p>714 rows × 8 columns</p>\n</div>"
     },
     "metadata": {},
     "execution_count": 3
    }
   ],
   "source": [
    "df"
   ]
  },
  {
   "cell_type": "code",
   "execution_count": 4,
   "metadata": {},
   "outputs": [],
   "source": [
    "for country in ['CZ', 'AT', 'DK', 'NL', 'PL', 'SK']:\n",
    "    label = country.lower()\n",
    "    cdf = df.loc[df['country'] == country, ['country', 'year', 'fuel', 'gross_inland_consumption']].pivot_table(values='gross_inland_consumption', index='year', columns='fuel')\n",
    "    cdf.to_csv(os.path.join(os.path.abspath(csv_output_dir), f'{label}_selected_fuels_consumption_tj.csv'), decimal=',')"
   ]
  },
  {
   "cell_type": "code",
   "execution_count": null,
   "metadata": {},
   "outputs": [],
   "source": []
  },
  {
   "cell_type": "code",
   "execution_count": null,
   "metadata": {},
   "outputs": [],
   "source": []
  }
 ]
}